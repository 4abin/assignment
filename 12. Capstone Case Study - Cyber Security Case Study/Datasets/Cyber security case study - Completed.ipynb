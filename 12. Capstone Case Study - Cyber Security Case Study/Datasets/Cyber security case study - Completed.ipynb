{
 "cells": [
  {
   "cell_type": "code",
   "execution_count": 48,
   "metadata": {},
   "outputs": [],
   "source": [
    "import os \n",
    "import pandas as pd\n",
    "import numpy as np\n",
    "import seaborn as sns\n",
    "import matplotlib.pyplot as plt\n",
    "%matplotlib inline"
   ]
  },
  {
   "cell_type": "code",
   "execution_count": 49,
   "metadata": {},
   "outputs": [
    {
     "data": {
      "text/plain": [
       "['Data_of_Attack_Back_BufferOverflow.csv',\n",
       " 'Data_of_Attack_Back_NMap.csv',\n",
       " 'Cyber security case study.ipynb',\n",
       " '.DS_Store',\n",
       " 'corr.csv',\n",
       " 'Data_of_Attack_Back_RootKit.csv',\n",
       " 'multi_class_corr.csv',\n",
       " 'Data_of_Attack_Back_Satan.csv',\n",
       " 'Untitled.ipynb',\n",
       " 'Data_of_Attack_Back_PortSweep.csv',\n",
       " 'Data_of_Attack_Back_FTPWrite.csv',\n",
       " 'Data_of_Attack_Back_GuessPassword.csv',\n",
       " 'Data_of_Attack_Back_Normal.csv',\n",
       " 'appended.csv',\n",
       " 'Data_of_Attack_Back_FTPWrite.xlsx',\n",
       " 'Data_of_Attack_Back.csv',\n",
       " '.ipynb_checkpoints',\n",
       " 'your_report.html',\n",
       " 'Data_of_Attack_Back_Neptune.csv',\n",
       " 'Data_of_Attack_Back_Smurf.csv']"
      ]
     },
     "execution_count": 49,
     "metadata": {},
     "output_type": "execute_result"
    }
   ],
   "source": [
    "path = os.getcwd()\n",
    "files = os.listdir(path)\n",
    "files"
   ]
  },
  {
   "cell_type": "code",
   "execution_count": 50,
   "metadata": {},
   "outputs": [],
   "source": [
    "i=['Data_of_Attack_Back_BufferOverflow.csv',\n",
    " 'Data_of_Attack_Back_NMap.csv',\n",
    " 'Data_of_Attack_Back_RootKit.csv',\n",
    " 'Data_of_Attack_Back_Satan.csv',\n",
    " 'Untitled.ipynb',\n",
    " 'Data_of_Attack_Back_PortSweep.csv',\n",
    " 'Data_of_Attack_Back_FTPWrite.csv',\n",
    " 'Data_of_Attack_Back_GuessPassword.csv',\n",
    " 'Data_of_Attack_Back_Normal.csv',\n",
    " 'Data_of_Attack_Back.csv',\n",
    " 'Data_of_Attack_Back_Neptune.csv',\n",
    " 'Data_of_Attack_Back_Smurf.csv']"
   ]
  },
  {
   "cell_type": "code",
   "execution_count": 51,
   "metadata": {},
   "outputs": [
    {
     "data": {
      "text/plain": [
       "['Data_of_Attack_Back_BufferOverflow.csv',\n",
       " 'Data_of_Attack_Back_NMap.csv',\n",
       " 'Cyber security case study.ipynb',\n",
       " '.DS_Store',\n",
       " 'corr.csv',\n",
       " 'Data_of_Attack_Back_RootKit.csv',\n",
       " 'multi_class_corr.csv',\n",
       " 'Data_of_Attack_Back_Satan.csv',\n",
       " 'Untitled.ipynb',\n",
       " 'Data_of_Attack_Back_PortSweep.csv',\n",
       " 'Data_of_Attack_Back_FTPWrite.csv',\n",
       " 'Data_of_Attack_Back_GuessPassword.csv',\n",
       " 'Data_of_Attack_Back_Normal.csv',\n",
       " 'appended.csv',\n",
       " 'Data_of_Attack_Back_FTPWrite.xlsx',\n",
       " 'Data_of_Attack_Back.csv',\n",
       " '.ipynb_checkpoints',\n",
       " 'your_report.html',\n",
       " 'Data_of_Attack_Back_Neptune.csv',\n",
       " 'Data_of_Attack_Back_Smurf.csv']"
      ]
     },
     "execution_count": 51,
     "metadata": {},
     "output_type": "execute_result"
    }
   ],
   "source": [
    "files"
   ]
  },
  {
   "cell_type": "code",
   "execution_count": 52,
   "metadata": {},
   "outputs": [
    {
     "data": {
      "text/plain": [
       "['Data_of_Attack_Back_BufferOverflow.csv',\n",
       " 'Data_of_Attack_Back_NMap.csv',\n",
       " 'corr.csv',\n",
       " 'Data_of_Attack_Back_RootKit.csv',\n",
       " 'multi_class_corr.csv',\n",
       " 'Data_of_Attack_Back_Satan.csv',\n",
       " 'Data_of_Attack_Back_PortSweep.csv',\n",
       " 'Data_of_Attack_Back_FTPWrite.csv',\n",
       " 'Data_of_Attack_Back_GuessPassword.csv',\n",
       " 'Data_of_Attack_Back_Normal.csv',\n",
       " 'appended.csv',\n",
       " 'Data_of_Attack_Back.csv',\n",
       " 'Data_of_Attack_Back_Neptune.csv',\n",
       " 'Data_of_Attack_Back_Smurf.csv']"
      ]
     },
     "execution_count": 52,
     "metadata": {},
     "output_type": "execute_result"
    }
   ],
   "source": [
    "files_xls = [f for f in files if f[-3:] == 'csv']\n",
    "files_xls"
   ]
  },
  {
   "cell_type": "code",
   "execution_count": 53,
   "metadata": {},
   "outputs": [],
   "source": [
    "files_xls=['Data_of_Attack_Back_BufferOverflow.csv',\n",
    " 'Data_of_Attack_Back_NMap.csv',\n",
    " 'Data_of_Attack_Back_RootKit.csv',\n",
    " 'Data_of_Attack_Back_Satan.csv',\n",
    " 'Data_of_Attack_Back_PortSweep.csv',\n",
    " 'Data_of_Attack_Back_GuessPassword.csv',\n",
    " 'Data_of_Attack_Back_Normal.csv',\n",
    " 'Data_of_Attack_Back.csv',\n",
    " 'Data_of_Attack_Back_Neptune.csv',\n",
    " 'Data_of_Attack_Back_Smurf.csv']"
   ]
  },
  {
   "cell_type": "code",
   "execution_count": 54,
   "metadata": {},
   "outputs": [],
   "source": [
    "df=pd.DataFrame()"
   ]
  },
  {
   "cell_type": "code",
   "execution_count": 55,
   "metadata": {},
   "outputs": [],
   "source": [
    "for f in files_xls:\n",
    "    data = pd.read_csv(f)\n",
    "    df = df.append(data, ignore_index=True)"
   ]
  },
  {
   "cell_type": "code",
   "execution_count": 56,
   "metadata": {},
   "outputs": [],
   "source": [
    "## file not getting appended \n",
    "d1 =pd.read_csv('Data_of_Attack_Back_FTPWrite.csv')\n",
    "#d2=pd.read_csv('Data_of_Attack_Back_Smurf.csv')\n",
    "#d2=d2.append(d1, ignore_index=True)"
   ]
  },
  {
   "cell_type": "code",
   "execution_count": 57,
   "metadata": {},
   "outputs": [
    {
     "data": {
      "text/html": [
       "<div>\n",
       "<style scoped>\n",
       "    .dataframe tbody tr th:only-of-type {\n",
       "        vertical-align: middle;\n",
       "    }\n",
       "\n",
       "    .dataframe tbody tr th {\n",
       "        vertical-align: top;\n",
       "    }\n",
       "\n",
       "    .dataframe thead th {\n",
       "        text-align: right;\n",
       "    }\n",
       "</style>\n",
       "<table border=\"1\" class=\"dataframe\">\n",
       "  <thead>\n",
       "    <tr style=\"text-align: right;\">\n",
       "      <th></th>\n",
       "      <th>duration</th>\n",
       "      <th>protocol_type</th>\n",
       "      <th>service</th>\n",
       "      <th>flag</th>\n",
       "      <th>src_bytes</th>\n",
       "      <th>dst_bytes</th>\n",
       "      <th>land</th>\n",
       "      <th>wrong_fragment</th>\n",
       "      <th>urgent</th>\n",
       "      <th>hot</th>\n",
       "      <th>...</th>\n",
       "      <th>dst_host_same_srv_rate</th>\n",
       "      <th>dst_host_diff_srv_rate</th>\n",
       "      <th>dst_host_same_src_port_rate</th>\n",
       "      <th>dst_host_srv_diff_host_rate</th>\n",
       "      <th>dst_host_serror_rate</th>\n",
       "      <th>dst_host_srv_serror_rate</th>\n",
       "      <th>dst_host_rerror_rate</th>\n",
       "      <th>dst_host_srv_rerror_rate</th>\n",
       "      <th>target</th>\n",
       "      <th>B_target</th>\n",
       "    </tr>\n",
       "  </thead>\n",
       "  <tbody>\n",
       "    <tr>\n",
       "      <th>0</th>\n",
       "      <td>0.0184</td>\n",
       "      <td>0.00</td>\n",
       "      <td>0.05</td>\n",
       "      <td>0.0</td>\n",
       "      <td>0.01511</td>\n",
       "      <td>0.02957</td>\n",
       "      <td>0</td>\n",
       "      <td>0.0</td>\n",
       "      <td>0.0</td>\n",
       "      <td>0.3</td>\n",
       "      <td>...</td>\n",
       "      <td>0.100</td>\n",
       "      <td>0.000</td>\n",
       "      <td>0.100</td>\n",
       "      <td>0.067</td>\n",
       "      <td>0.0</td>\n",
       "      <td>0.0</td>\n",
       "      <td>0.0</td>\n",
       "      <td>0.0</td>\n",
       "      <td>buffer_Overflow</td>\n",
       "      <td>1</td>\n",
       "    </tr>\n",
       "    <tr>\n",
       "      <th>1</th>\n",
       "      <td>0.0305</td>\n",
       "      <td>0.00</td>\n",
       "      <td>0.05</td>\n",
       "      <td>0.0</td>\n",
       "      <td>0.01735</td>\n",
       "      <td>0.02766</td>\n",
       "      <td>0</td>\n",
       "      <td>0.0</td>\n",
       "      <td>0.0</td>\n",
       "      <td>0.3</td>\n",
       "      <td>...</td>\n",
       "      <td>0.100</td>\n",
       "      <td>0.000</td>\n",
       "      <td>0.050</td>\n",
       "      <td>0.050</td>\n",
       "      <td>0.0</td>\n",
       "      <td>0.0</td>\n",
       "      <td>0.0</td>\n",
       "      <td>0.0</td>\n",
       "      <td>buffer_Overflow</td>\n",
       "      <td>1</td>\n",
       "    </tr>\n",
       "    <tr>\n",
       "      <th>2</th>\n",
       "      <td>0.0150</td>\n",
       "      <td>0.00</td>\n",
       "      <td>0.05</td>\n",
       "      <td>0.0</td>\n",
       "      <td>0.01587</td>\n",
       "      <td>0.06707</td>\n",
       "      <td>0</td>\n",
       "      <td>0.0</td>\n",
       "      <td>0.0</td>\n",
       "      <td>0.1</td>\n",
       "      <td>...</td>\n",
       "      <td>0.100</td>\n",
       "      <td>0.000</td>\n",
       "      <td>0.100</td>\n",
       "      <td>0.000</td>\n",
       "      <td>0.0</td>\n",
       "      <td>0.0</td>\n",
       "      <td>0.0</td>\n",
       "      <td>0.0</td>\n",
       "      <td>buffer_Overflow</td>\n",
       "      <td>1</td>\n",
       "    </tr>\n",
       "    <tr>\n",
       "      <th>3</th>\n",
       "      <td>0.0060</td>\n",
       "      <td>0.00</td>\n",
       "      <td>0.05</td>\n",
       "      <td>0.0</td>\n",
       "      <td>0.02328</td>\n",
       "      <td>0.04551</td>\n",
       "      <td>0</td>\n",
       "      <td>0.0</td>\n",
       "      <td>0.0</td>\n",
       "      <td>0.3</td>\n",
       "      <td>...</td>\n",
       "      <td>0.100</td>\n",
       "      <td>0.000</td>\n",
       "      <td>0.100</td>\n",
       "      <td>0.000</td>\n",
       "      <td>0.0</td>\n",
       "      <td>0.0</td>\n",
       "      <td>0.0</td>\n",
       "      <td>0.0</td>\n",
       "      <td>buffer_Overflow</td>\n",
       "      <td>1</td>\n",
       "    </tr>\n",
       "    <tr>\n",
       "      <th>4</th>\n",
       "      <td>0.0158</td>\n",
       "      <td>0.00</td>\n",
       "      <td>0.05</td>\n",
       "      <td>0.0</td>\n",
       "      <td>0.01567</td>\n",
       "      <td>0.03095</td>\n",
       "      <td>0</td>\n",
       "      <td>0.0</td>\n",
       "      <td>0.0</td>\n",
       "      <td>0.3</td>\n",
       "      <td>...</td>\n",
       "      <td>0.100</td>\n",
       "      <td>0.000</td>\n",
       "      <td>0.050</td>\n",
       "      <td>0.000</td>\n",
       "      <td>0.0</td>\n",
       "      <td>0.0</td>\n",
       "      <td>0.0</td>\n",
       "      <td>0.0</td>\n",
       "      <td>buffer_Overflow</td>\n",
       "      <td>1</td>\n",
       "    </tr>\n",
       "    <tr>\n",
       "      <th>...</th>\n",
       "      <td>...</td>\n",
       "      <td>...</td>\n",
       "      <td>...</td>\n",
       "      <td>...</td>\n",
       "      <td>...</td>\n",
       "      <td>...</td>\n",
       "      <td>...</td>\n",
       "      <td>...</td>\n",
       "      <td>...</td>\n",
       "      <td>...</td>\n",
       "      <td>...</td>\n",
       "      <td>...</td>\n",
       "      <td>...</td>\n",
       "      <td>...</td>\n",
       "      <td>...</td>\n",
       "      <td>...</td>\n",
       "      <td>...</td>\n",
       "      <td>...</td>\n",
       "      <td>...</td>\n",
       "      <td>...</td>\n",
       "      <td>...</td>\n",
       "    </tr>\n",
       "    <tr>\n",
       "      <th>817538</th>\n",
       "      <td>0.0000</td>\n",
       "      <td>0.02</td>\n",
       "      <td>0.09</td>\n",
       "      <td>0.0</td>\n",
       "      <td>0.01032</td>\n",
       "      <td>0.00000</td>\n",
       "      <td>0</td>\n",
       "      <td>0.0</td>\n",
       "      <td>0.0</td>\n",
       "      <td>0.0</td>\n",
       "      <td>...</td>\n",
       "      <td>0.098</td>\n",
       "      <td>0.001</td>\n",
       "      <td>0.098</td>\n",
       "      <td>0.000</td>\n",
       "      <td>0.0</td>\n",
       "      <td>0.0</td>\n",
       "      <td>0.0</td>\n",
       "      <td>0.0</td>\n",
       "      <td>Smurf</td>\n",
       "      <td>1</td>\n",
       "    </tr>\n",
       "    <tr>\n",
       "      <th>817539</th>\n",
       "      <td>0.0000</td>\n",
       "      <td>0.02</td>\n",
       "      <td>0.09</td>\n",
       "      <td>0.0</td>\n",
       "      <td>0.01032</td>\n",
       "      <td>0.00000</td>\n",
       "      <td>0</td>\n",
       "      <td>0.0</td>\n",
       "      <td>0.0</td>\n",
       "      <td>0.0</td>\n",
       "      <td>...</td>\n",
       "      <td>0.099</td>\n",
       "      <td>0.001</td>\n",
       "      <td>0.099</td>\n",
       "      <td>0.000</td>\n",
       "      <td>0.0</td>\n",
       "      <td>0.0</td>\n",
       "      <td>0.0</td>\n",
       "      <td>0.0</td>\n",
       "      <td>Smurf</td>\n",
       "      <td>1</td>\n",
       "    </tr>\n",
       "    <tr>\n",
       "      <th>817540</th>\n",
       "      <td>0.0000</td>\n",
       "      <td>0.02</td>\n",
       "      <td>0.09</td>\n",
       "      <td>0.0</td>\n",
       "      <td>0.01032</td>\n",
       "      <td>0.00000</td>\n",
       "      <td>0</td>\n",
       "      <td>0.0</td>\n",
       "      <td>0.0</td>\n",
       "      <td>0.0</td>\n",
       "      <td>...</td>\n",
       "      <td>0.099</td>\n",
       "      <td>0.001</td>\n",
       "      <td>0.099</td>\n",
       "      <td>0.000</td>\n",
       "      <td>0.0</td>\n",
       "      <td>0.0</td>\n",
       "      <td>0.0</td>\n",
       "      <td>0.0</td>\n",
       "      <td>Smurf</td>\n",
       "      <td>1</td>\n",
       "    </tr>\n",
       "    <tr>\n",
       "      <th>817541</th>\n",
       "      <td>0.0000</td>\n",
       "      <td>0.02</td>\n",
       "      <td>0.09</td>\n",
       "      <td>0.0</td>\n",
       "      <td>0.01032</td>\n",
       "      <td>0.00000</td>\n",
       "      <td>0</td>\n",
       "      <td>0.0</td>\n",
       "      <td>0.0</td>\n",
       "      <td>0.0</td>\n",
       "      <td>...</td>\n",
       "      <td>0.100</td>\n",
       "      <td>0.001</td>\n",
       "      <td>0.100</td>\n",
       "      <td>0.000</td>\n",
       "      <td>0.0</td>\n",
       "      <td>0.0</td>\n",
       "      <td>0.0</td>\n",
       "      <td>0.0</td>\n",
       "      <td>Smurf</td>\n",
       "      <td>1</td>\n",
       "    </tr>\n",
       "    <tr>\n",
       "      <th>817542</th>\n",
       "      <td>0.0000</td>\n",
       "      <td>0.01</td>\n",
       "      <td>0.12</td>\n",
       "      <td>0.0</td>\n",
       "      <td>0.00028</td>\n",
       "      <td>0.00000</td>\n",
       "      <td>0</td>\n",
       "      <td>0.3</td>\n",
       "      <td>0.0</td>\n",
       "      <td>0.0</td>\n",
       "      <td>...</td>\n",
       "      <td>0.000</td>\n",
       "      <td>0.001</td>\n",
       "      <td>0.000</td>\n",
       "      <td>0.000</td>\n",
       "      <td>0.0</td>\n",
       "      <td>0.0</td>\n",
       "      <td>0.0</td>\n",
       "      <td>0.0</td>\n",
       "      <td>Smurf</td>\n",
       "      <td>1</td>\n",
       "    </tr>\n",
       "  </tbody>\n",
       "</table>\n",
       "<p>817543 rows × 43 columns</p>\n",
       "</div>"
      ],
      "text/plain": [
       "        duration   protocol_type   service   flag   src_bytes   dst_bytes  \\\n",
       "0         0.0184            0.00      0.05    0.0     0.01511     0.02957   \n",
       "1         0.0305            0.00      0.05    0.0     0.01735     0.02766   \n",
       "2         0.0150            0.00      0.05    0.0     0.01587     0.06707   \n",
       "3         0.0060            0.00      0.05    0.0     0.02328     0.04551   \n",
       "4         0.0158            0.00      0.05    0.0     0.01567     0.03095   \n",
       "...          ...             ...       ...    ...         ...         ...   \n",
       "817538    0.0000            0.02      0.09    0.0     0.01032     0.00000   \n",
       "817539    0.0000            0.02      0.09    0.0     0.01032     0.00000   \n",
       "817540    0.0000            0.02      0.09    0.0     0.01032     0.00000   \n",
       "817541    0.0000            0.02      0.09    0.0     0.01032     0.00000   \n",
       "817542    0.0000            0.01      0.12    0.0     0.00028     0.00000   \n",
       "\n",
       "         land   wrong_fragment   urgent   hot  ...   dst_host_same_srv_rate  \\\n",
       "0           0              0.0      0.0   0.3  ...                    0.100   \n",
       "1           0              0.0      0.0   0.3  ...                    0.100   \n",
       "2           0              0.0      0.0   0.1  ...                    0.100   \n",
       "3           0              0.0      0.0   0.3  ...                    0.100   \n",
       "4           0              0.0      0.0   0.3  ...                    0.100   \n",
       "...       ...              ...      ...   ...  ...                      ...   \n",
       "817538      0              0.0      0.0   0.0  ...                    0.098   \n",
       "817539      0              0.0      0.0   0.0  ...                    0.099   \n",
       "817540      0              0.0      0.0   0.0  ...                    0.099   \n",
       "817541      0              0.0      0.0   0.0  ...                    0.100   \n",
       "817542      0              0.3      0.0   0.0  ...                    0.000   \n",
       "\n",
       "         dst_host_diff_srv_rate   dst_host_same_src_port_rate  \\\n",
       "0                         0.000                         0.100   \n",
       "1                         0.000                         0.050   \n",
       "2                         0.000                         0.100   \n",
       "3                         0.000                         0.100   \n",
       "4                         0.000                         0.050   \n",
       "...                         ...                           ...   \n",
       "817538                    0.001                         0.098   \n",
       "817539                    0.001                         0.099   \n",
       "817540                    0.001                         0.099   \n",
       "817541                    0.001                         0.100   \n",
       "817542                    0.001                         0.000   \n",
       "\n",
       "         dst_host_srv_diff_host_rate   dst_host_serror_rate  \\\n",
       "0                              0.067                    0.0   \n",
       "1                              0.050                    0.0   \n",
       "2                              0.000                    0.0   \n",
       "3                              0.000                    0.0   \n",
       "4                              0.000                    0.0   \n",
       "...                              ...                    ...   \n",
       "817538                         0.000                    0.0   \n",
       "817539                         0.000                    0.0   \n",
       "817540                         0.000                    0.0   \n",
       "817541                         0.000                    0.0   \n",
       "817542                         0.000                    0.0   \n",
       "\n",
       "         dst_host_srv_serror_rate   dst_host_rerror_rate  \\\n",
       "0                             0.0                    0.0   \n",
       "1                             0.0                    0.0   \n",
       "2                             0.0                    0.0   \n",
       "3                             0.0                    0.0   \n",
       "4                             0.0                    0.0   \n",
       "...                           ...                    ...   \n",
       "817538                        0.0                    0.0   \n",
       "817539                        0.0                    0.0   \n",
       "817540                        0.0                    0.0   \n",
       "817541                        0.0                    0.0   \n",
       "817542                        0.0                    0.0   \n",
       "\n",
       "         dst_host_srv_rerror_rate           target  B_target  \n",
       "0                             0.0  buffer_Overflow         1  \n",
       "1                             0.0  buffer_Overflow         1  \n",
       "2                             0.0  buffer_Overflow         1  \n",
       "3                             0.0  buffer_Overflow         1  \n",
       "4                             0.0  buffer_Overflow         1  \n",
       "...                           ...              ...       ...  \n",
       "817538                        0.0            Smurf         1  \n",
       "817539                        0.0            Smurf         1  \n",
       "817540                        0.0            Smurf         1  \n",
       "817541                        0.0            Smurf         1  \n",
       "817542                        0.0            Smurf         1  \n",
       "\n",
       "[817543 rows x 43 columns]"
      ]
     },
     "execution_count": 57,
     "metadata": {},
     "output_type": "execute_result"
    }
   ],
   "source": [
    "df"
   ]
  },
  {
   "cell_type": "code",
   "execution_count": 58,
   "metadata": {},
   "outputs": [],
   "source": [
    "d1.columns = df.columns"
   ]
  },
  {
   "cell_type": "code",
   "execution_count": 59,
   "metadata": {},
   "outputs": [],
   "source": [
    "df=df.append(d1,ignore_index=True)"
   ]
  },
  {
   "cell_type": "code",
   "execution_count": 60,
   "metadata": {},
   "outputs": [
    {
     "name": "stdout",
     "output_type": "stream",
     "text": [
      "['buffer_Overflow' 'Nmap' 'Rootkit' 'Satan' 'PortSweep' 'Guesspassword'\n",
      " 'Normal ' 'others' 'Neptune' 'Smurf' 'FTPWrite']\n",
      "(817550, 43)\n"
     ]
    }
   ],
   "source": [
    "## checking if all the files have been appended \n",
    "print(df.target.unique())\n",
    "print(df.shape)"
   ]
  },
  {
   "cell_type": "code",
   "execution_count": 61,
   "metadata": {},
   "outputs": [],
   "source": [
    "#df.iloc[:,-2:-1]"
   ]
  },
  {
   "cell_type": "code",
   "execution_count": 62,
   "metadata": {
    "scrolled": true
   },
   "outputs": [
    {
     "data": {
      "text/plain": [
       "0    0.705413\n",
       "1    0.294587\n",
       "Name: B_target, dtype: float64"
      ]
     },
     "execution_count": 62,
     "metadata": {},
     "output_type": "execute_result"
    }
   ],
   "source": [
    "df.B_target.value_counts()/df.B_target.value_counts().sum()"
   ]
  },
  {
   "cell_type": "code",
   "execution_count": 63,
   "metadata": {},
   "outputs": [
    {
     "data": {
      "text/plain": [
       "<AxesSubplot:xlabel='B_target', ylabel='count'>"
      ]
     },
     "execution_count": 63,
     "metadata": {},
     "output_type": "execute_result"
    },
    {
     "data": {
      "image/png": "[encoded data removed]",
      "text/plain": [
       "<Figure size 432x288 with 1 Axes>"
      ]
     },
     "metadata": {
      "needs_background": "light"
     },
     "output_type": "display_data"
    }
   ],
   "source": [
    "sns.countplot(x='B_target', data=df)"
   ]
  },
  {
   "cell_type": "code",
   "execution_count": 64,
   "metadata": {},
   "outputs": [],
   "source": [
    "###some columns had unwanted space \n",
    "df.columns = df.columns.str.replace(' ','')"
   ]
  },
  {
   "cell_type": "code",
   "execution_count": 65,
   "metadata": {},
   "outputs": [
    {
     "data": {
      "text/plain": [
       "Index(['duration', 'protocol_type', 'service', 'flag', 'src_bytes',\n",
       "       'dst_bytes', 'land', 'wrong_fragment', 'urgent', 'hot',\n",
       "       'num_failed_logins', 'logged_in', 'num_compromised', 'root_shell',\n",
       "       'su_attempted', 'num_root', 'num_file_creations', 'num_shells',\n",
       "       'num_access_files', 'num_outbound_cmds', 'is_host_login',\n",
       "       'is_guest_login', 'count', 'srv_count', 'serror_rate', 'srv_error_rate',\n",
       "       'rerror_rate', 'srv_rerror_rate', 'same_srv_rate', 'diff_srv_rate',\n",
       "       'srv_diff_host_rate', 'dst_host_count', 'dst_host_srv_count',\n",
       "       'dst_host_same_srv_rate', 'dst_host_diff_srv_rate',\n",
       "       'dst_host_same_src_port_rate', 'dst_host_srv_diff_host_rate',\n",
       "       'dst_host_serror_rate', 'dst_host_srv_serror_rate',\n",
       "       'dst_host_rerror_rate', 'dst_host_srv_rerror_rate', 'target',\n",
       "       'B_target'],\n",
       "      dtype='object')"
      ]
     },
     "execution_count": 65,
     "metadata": {},
     "output_type": "execute_result"
    }
   ],
   "source": [
    "df.columns"
   ]
  },
  {
   "cell_type": "markdown",
   "metadata": {},
   "source": [
    "### Checking for data imbalance for binomial classification "
   ]
  },
  {
   "cell_type": "code",
   "execution_count": 66,
   "metadata": {},
   "outputs": [],
   "source": [
    "res_X = df[df.B_target==0]"
   ]
  },
  {
   "cell_type": "code",
   "execution_count": 67,
   "metadata": {},
   "outputs": [],
   "source": [
    "tar_Y = df[df.B_target==1]"
   ]
  },
  {
   "cell_type": "code",
   "execution_count": 68,
   "metadata": {},
   "outputs": [
    {
     "name": "stdout",
     "output_type": "stream",
     "text": [
      "(576710, 43) (240840, 43)\n"
     ]
    }
   ],
   "source": [
    "print(res_X.shape, tar_Y.shape)"
   ]
  },
  {
   "cell_type": "code",
   "execution_count": 69,
   "metadata": {},
   "outputs": [],
   "source": [
    "X = df.drop(['target','B_target'], axis = 1)"
   ]
  },
  {
   "cell_type": "code",
   "execution_count": 70,
   "metadata": {},
   "outputs": [],
   "source": [
    "Y = df.B_target"
   ]
  },
  {
   "cell_type": "code",
   "execution_count": 71,
   "metadata": {},
   "outputs": [
    {
     "name": "stdout",
     "output_type": "stream",
     "text": [
      "(576710, 43)\n"
     ]
    },
    {
     "data": {
      "text/plain": [
       "(240840, 43)"
      ]
     },
     "execution_count": 71,
     "metadata": {},
     "output_type": "execute_result"
    }
   ],
   "source": [
    "print(res_X.shape)\n",
    "tar_Y.shape"
   ]
  },
  {
   "cell_type": "code",
   "execution_count": 72,
   "metadata": {},
   "outputs": [],
   "source": [
    "#pip install -U imbalanced-learn"
   ]
  },
  {
   "cell_type": "code",
   "execution_count": 73,
   "metadata": {},
   "outputs": [],
   "source": [
    "from imblearn.over_sampling import SMOTE"
   ]
  },
  {
   "cell_type": "code",
   "execution_count": 74,
   "metadata": {},
   "outputs": [],
   "source": [
    "import imblearn"
   ]
  },
  {
   "cell_type": "code",
   "execution_count": 75,
   "metadata": {},
   "outputs": [
    {
     "name": "stdout",
     "output_type": "stream",
     "text": [
      "['AllKNN', 'ClusterCentroids', 'CondensedNearestNeighbour', 'EditedNearestNeighbours', 'InstanceHardnessThreshold', 'NearMiss', 'NeighbourhoodCleaningRule', 'OneSidedSelection', 'RandomUnderSampler', 'RepeatedEditedNearestNeighbours', 'TomekLinks', '__all__', '__builtins__', '__cached__', '__doc__', '__file__', '__loader__', '__name__', '__package__', '__path__', '__spec__', '_prototype_generation', '_prototype_selection', 'base']\n"
     ]
    }
   ],
   "source": [
    "print(dir(imblearn.under_sampling))"
   ]
  },
  {
   "cell_type": "code",
   "execution_count": 76,
   "metadata": {},
   "outputs": [],
   "source": [
    "#nm = NearMiss(sampling_strategy = 'not minority', version = 3)"
   ]
  },
  {
   "cell_type": "code",
   "execution_count": 77,
   "metadata": {},
   "outputs": [],
   "source": [
    "#nm"
   ]
  },
  {
   "cell_type": "code",
   "execution_count": 78,
   "metadata": {},
   "outputs": [],
   "source": [
    "#X_res,Y_res = nm.fit(X,Y)"
   ]
  },
  {
   "cell_type": "code",
   "execution_count": null,
   "metadata": {},
   "outputs": [],
   "source": []
  },
  {
   "cell_type": "code",
   "execution_count": null,
   "metadata": {},
   "outputs": [],
   "source": []
  },
  {
   "cell_type": "code",
   "execution_count": 79,
   "metadata": {},
   "outputs": [],
   "source": [
    "index = df[df.B_target==0].sample(n=200000,replace=False).index"
   ]
  },
  {
   "cell_type": "code",
   "execution_count": 80,
   "metadata": {},
   "outputs": [],
   "source": [
    "data = df.drop(index)"
   ]
  },
  {
   "cell_type": "code",
   "execution_count": 81,
   "metadata": {},
   "outputs": [
    {
     "data": {
      "text/plain": [
       "0    576710\n",
       "1    240840\n",
       "Name: B_target, dtype: int64"
      ]
     },
     "execution_count": 81,
     "metadata": {},
     "output_type": "execute_result"
    }
   ],
   "source": [
    "df.B_target.value_counts()"
   ]
  },
  {
   "cell_type": "code",
   "execution_count": 82,
   "metadata": {},
   "outputs": [
    {
     "data": {
      "text/plain": [
       "0    376710\n",
       "1    240840\n",
       "Name: B_target, dtype: int64"
      ]
     },
     "execution_count": 82,
     "metadata": {},
     "output_type": "execute_result"
    }
   ],
   "source": [
    "data.B_target.value_counts()"
   ]
  },
  {
   "cell_type": "code",
   "execution_count": 83,
   "metadata": {},
   "outputs": [
    {
     "data": {
      "text/plain": [
       "0    0.610007\n",
       "1    0.389993\n",
       "Name: B_target, dtype: float64"
      ]
     },
     "execution_count": 83,
     "metadata": {},
     "output_type": "execute_result"
    }
   ],
   "source": [
    "data.B_target.value_counts()/data.B_target.value_counts().sum()"
   ]
  },
  {
   "cell_type": "code",
   "execution_count": 84,
   "metadata": {},
   "outputs": [
    {
     "data": {
      "text/plain": [
       "(617550, 43)"
      ]
     },
     "execution_count": 84,
     "metadata": {},
     "output_type": "execute_result"
    }
   ],
   "source": [
    "data.shape"
   ]
  },
  {
   "cell_type": "code",
   "execution_count": 85,
   "metadata": {},
   "outputs": [
    {
     "data": {
      "text/plain": [
       "<AxesSubplot:xlabel='B_target', ylabel='count'>"
      ]
     },
     "execution_count": 85,
     "metadata": {},
     "output_type": "execute_result"
    },
    {
     "data": {
      "image/png": "[encoded data removed]",
      "text/plain": [
       "<Figure size 432x288 with 1 Axes>"
      ]
     },
     "metadata": {
      "needs_background": "light"
     },
     "output_type": "display_data"
    }
   ],
   "source": [
    "sns.countplot(x='B_target', data = data)"
   ]
  },
  {
   "cell_type": "code",
   "execution_count": 86,
   "metadata": {},
   "outputs": [
    {
     "data": {
      "text/plain": [
       "<AxesSubplot:xlabel='target', ylabel='count'>"
      ]
     },
     "execution_count": 86,
     "metadata": {},
     "output_type": "execute_result"
    },
    {
     "data": {
      "image/png": "[encoded data removed]",
      "text/plain": [
       "<Figure size 1008x720 with 1 Axes>"
      ]
     },
     "metadata": {
      "needs_background": "light"
     },
     "output_type": "display_data"
    }
   ],
   "source": [
    "plt.figure(figsize=(14,10))\n",
    "sns.countplot(x='target', data = data)"
   ]
  },
  {
   "cell_type": "markdown",
   "metadata": {},
   "source": [
    "## Binomial classification \n",
    "Data is split into numerical columns data set target is not present as target data is of object variable "
   ]
  },
  {
   "cell_type": "code",
   "execution_count": null,
   "metadata": {},
   "outputs": [],
   "source": []
  },
  {
   "cell_type": "code",
   "execution_count": 87,
   "metadata": {},
   "outputs": [
    {
     "data": {
      "text/html": [
       "<div>\n",
       "<style scoped>\n",
       "    .dataframe tbody tr th:only-of-type {\n",
       "        vertical-align: middle;\n",
       "    }\n",
       "\n",
       "    .dataframe tbody tr th {\n",
       "        vertical-align: top;\n",
       "    }\n",
       "\n",
       "    .dataframe thead th {\n",
       "        text-align: right;\n",
       "    }\n",
       "</style>\n",
       "<table border=\"1\" class=\"dataframe\">\n",
       "  <thead>\n",
       "    <tr style=\"text-align: right;\">\n",
       "      <th></th>\n",
       "      <th>duration</th>\n",
       "      <th>protocol_type</th>\n",
       "      <th>service</th>\n",
       "      <th>flag</th>\n",
       "      <th>src_bytes</th>\n",
       "      <th>dst_bytes</th>\n",
       "      <th>land</th>\n",
       "      <th>wrong_fragment</th>\n",
       "      <th>urgent</th>\n",
       "      <th>hot</th>\n",
       "      <th>...</th>\n",
       "      <th>dst_host_same_srv_rate</th>\n",
       "      <th>dst_host_diff_srv_rate</th>\n",
       "      <th>dst_host_same_src_port_rate</th>\n",
       "      <th>dst_host_srv_diff_host_rate</th>\n",
       "      <th>dst_host_serror_rate</th>\n",
       "      <th>dst_host_srv_serror_rate</th>\n",
       "      <th>dst_host_rerror_rate</th>\n",
       "      <th>dst_host_srv_rerror_rate</th>\n",
       "      <th>target</th>\n",
       "      <th>B_target</th>\n",
       "    </tr>\n",
       "  </thead>\n",
       "  <tbody>\n",
       "    <tr>\n",
       "      <th>0</th>\n",
       "      <td>0.0184</td>\n",
       "      <td>0.0</td>\n",
       "      <td>0.05</td>\n",
       "      <td>0.0</td>\n",
       "      <td>0.01511</td>\n",
       "      <td>0.02957</td>\n",
       "      <td>0</td>\n",
       "      <td>0.0</td>\n",
       "      <td>0.0</td>\n",
       "      <td>0.3</td>\n",
       "      <td>...</td>\n",
       "      <td>0.10</td>\n",
       "      <td>0.0</td>\n",
       "      <td>0.10</td>\n",
       "      <td>0.067</td>\n",
       "      <td>0.0</td>\n",
       "      <td>0.0</td>\n",
       "      <td>0.0</td>\n",
       "      <td>0.0</td>\n",
       "      <td>buffer_Overflow</td>\n",
       "      <td>1</td>\n",
       "    </tr>\n",
       "    <tr>\n",
       "      <th>1</th>\n",
       "      <td>0.0305</td>\n",
       "      <td>0.0</td>\n",
       "      <td>0.05</td>\n",
       "      <td>0.0</td>\n",
       "      <td>0.01735</td>\n",
       "      <td>0.02766</td>\n",
       "      <td>0</td>\n",
       "      <td>0.0</td>\n",
       "      <td>0.0</td>\n",
       "      <td>0.3</td>\n",
       "      <td>...</td>\n",
       "      <td>0.10</td>\n",
       "      <td>0.0</td>\n",
       "      <td>0.05</td>\n",
       "      <td>0.050</td>\n",
       "      <td>0.0</td>\n",
       "      <td>0.0</td>\n",
       "      <td>0.0</td>\n",
       "      <td>0.0</td>\n",
       "      <td>buffer_Overflow</td>\n",
       "      <td>1</td>\n",
       "    </tr>\n",
       "    <tr>\n",
       "      <th>2</th>\n",
       "      <td>0.0150</td>\n",
       "      <td>0.0</td>\n",
       "      <td>0.05</td>\n",
       "      <td>0.0</td>\n",
       "      <td>0.01587</td>\n",
       "      <td>0.06707</td>\n",
       "      <td>0</td>\n",
       "      <td>0.0</td>\n",
       "      <td>0.0</td>\n",
       "      <td>0.1</td>\n",
       "      <td>...</td>\n",
       "      <td>0.10</td>\n",
       "      <td>0.0</td>\n",
       "      <td>0.10</td>\n",
       "      <td>0.000</td>\n",
       "      <td>0.0</td>\n",
       "      <td>0.0</td>\n",
       "      <td>0.0</td>\n",
       "      <td>0.0</td>\n",
       "      <td>buffer_Overflow</td>\n",
       "      <td>1</td>\n",
       "    </tr>\n",
       "    <tr>\n",
       "      <th>3</th>\n",
       "      <td>0.0060</td>\n",
       "      <td>0.0</td>\n",
       "      <td>0.05</td>\n",
       "      <td>0.0</td>\n",
       "      <td>0.02328</td>\n",
       "      <td>0.04551</td>\n",
       "      <td>0</td>\n",
       "      <td>0.0</td>\n",
       "      <td>0.0</td>\n",
       "      <td>0.3</td>\n",
       "      <td>...</td>\n",
       "      <td>0.10</td>\n",
       "      <td>0.0</td>\n",
       "      <td>0.10</td>\n",
       "      <td>0.000</td>\n",
       "      <td>0.0</td>\n",
       "      <td>0.0</td>\n",
       "      <td>0.0</td>\n",
       "      <td>0.0</td>\n",
       "      <td>buffer_Overflow</td>\n",
       "      <td>1</td>\n",
       "    </tr>\n",
       "    <tr>\n",
       "      <th>4</th>\n",
       "      <td>0.0158</td>\n",
       "      <td>0.0</td>\n",
       "      <td>0.05</td>\n",
       "      <td>0.0</td>\n",
       "      <td>0.01567</td>\n",
       "      <td>0.03095</td>\n",
       "      <td>0</td>\n",
       "      <td>0.0</td>\n",
       "      <td>0.0</td>\n",
       "      <td>0.3</td>\n",
       "      <td>...</td>\n",
       "      <td>0.10</td>\n",
       "      <td>0.0</td>\n",
       "      <td>0.05</td>\n",
       "      <td>0.000</td>\n",
       "      <td>0.0</td>\n",
       "      <td>0.0</td>\n",
       "      <td>0.0</td>\n",
       "      <td>0.0</td>\n",
       "      <td>buffer_Overflow</td>\n",
       "      <td>1</td>\n",
       "    </tr>\n",
       "    <tr>\n",
       "      <th>...</th>\n",
       "      <td>...</td>\n",
       "      <td>...</td>\n",
       "      <td>...</td>\n",
       "      <td>...</td>\n",
       "      <td>...</td>\n",
       "      <td>...</td>\n",
       "      <td>...</td>\n",
       "      <td>...</td>\n",
       "      <td>...</td>\n",
       "      <td>...</td>\n",
       "      <td>...</td>\n",
       "      <td>...</td>\n",
       "      <td>...</td>\n",
       "      <td>...</td>\n",
       "      <td>...</td>\n",
       "      <td>...</td>\n",
       "      <td>...</td>\n",
       "      <td>...</td>\n",
       "      <td>...</td>\n",
       "      <td>...</td>\n",
       "      <td>...</td>\n",
       "    </tr>\n",
       "    <tr>\n",
       "      <th>817545</th>\n",
       "      <td>0.0000</td>\n",
       "      <td>0.0</td>\n",
       "      <td>0.14</td>\n",
       "      <td>0.0</td>\n",
       "      <td>0.00000</td>\n",
       "      <td>0.00005</td>\n",
       "      <td>0</td>\n",
       "      <td>0.0</td>\n",
       "      <td>0.0</td>\n",
       "      <td>0.0</td>\n",
       "      <td>...</td>\n",
       "      <td>0.10</td>\n",
       "      <td>0.0</td>\n",
       "      <td>0.10</td>\n",
       "      <td>0.002</td>\n",
       "      <td>0.0</td>\n",
       "      <td>0.0</td>\n",
       "      <td>0.0</td>\n",
       "      <td>0.0</td>\n",
       "      <td>FTPWrite</td>\n",
       "      <td>1</td>\n",
       "    </tr>\n",
       "    <tr>\n",
       "      <th>817546</th>\n",
       "      <td>0.0032</td>\n",
       "      <td>0.0</td>\n",
       "      <td>0.07</td>\n",
       "      <td>0.0</td>\n",
       "      <td>0.00104</td>\n",
       "      <td>0.00449</td>\n",
       "      <td>0</td>\n",
       "      <td>0.0</td>\n",
       "      <td>0.0</td>\n",
       "      <td>0.2</td>\n",
       "      <td>...</td>\n",
       "      <td>0.10</td>\n",
       "      <td>0.0</td>\n",
       "      <td>0.10</td>\n",
       "      <td>0.000</td>\n",
       "      <td>0.0</td>\n",
       "      <td>0.0</td>\n",
       "      <td>0.0</td>\n",
       "      <td>0.0</td>\n",
       "      <td>FTPWrite</td>\n",
       "      <td>1</td>\n",
       "    </tr>\n",
       "    <tr>\n",
       "      <th>817547</th>\n",
       "      <td>0.0067</td>\n",
       "      <td>0.0</td>\n",
       "      <td>0.34</td>\n",
       "      <td>0.0</td>\n",
       "      <td>0.00157</td>\n",
       "      <td>0.02703</td>\n",
       "      <td>0</td>\n",
       "      <td>0.0</td>\n",
       "      <td>0.1</td>\n",
       "      <td>0.0</td>\n",
       "      <td>...</td>\n",
       "      <td>0.05</td>\n",
       "      <td>0.1</td>\n",
       "      <td>0.05</td>\n",
       "      <td>0.000</td>\n",
       "      <td>0.0</td>\n",
       "      <td>0.0</td>\n",
       "      <td>0.0</td>\n",
       "      <td>0.0</td>\n",
       "      <td>FTPWrite</td>\n",
       "      <td>1</td>\n",
       "    </tr>\n",
       "    <tr>\n",
       "      <th>817548</th>\n",
       "      <td>0.0000</td>\n",
       "      <td>0.0</td>\n",
       "      <td>0.14</td>\n",
       "      <td>0.0</td>\n",
       "      <td>0.00676</td>\n",
       "      <td>0.00000</td>\n",
       "      <td>0</td>\n",
       "      <td>0.0</td>\n",
       "      <td>0.0</td>\n",
       "      <td>0.0</td>\n",
       "      <td>...</td>\n",
       "      <td>0.10</td>\n",
       "      <td>0.0</td>\n",
       "      <td>0.10</td>\n",
       "      <td>0.050</td>\n",
       "      <td>0.0</td>\n",
       "      <td>0.0</td>\n",
       "      <td>0.0</td>\n",
       "      <td>0.0</td>\n",
       "      <td>FTPWrite</td>\n",
       "      <td>1</td>\n",
       "    </tr>\n",
       "    <tr>\n",
       "      <th>817549</th>\n",
       "      <td>0.0000</td>\n",
       "      <td>0.0</td>\n",
       "      <td>0.14</td>\n",
       "      <td>0.0</td>\n",
       "      <td>0.00000</td>\n",
       "      <td>0.00005</td>\n",
       "      <td>0</td>\n",
       "      <td>0.0</td>\n",
       "      <td>0.0</td>\n",
       "      <td>0.0</td>\n",
       "      <td>...</td>\n",
       "      <td>0.10</td>\n",
       "      <td>0.0</td>\n",
       "      <td>0.10</td>\n",
       "      <td>0.040</td>\n",
       "      <td>0.0</td>\n",
       "      <td>0.0</td>\n",
       "      <td>0.0</td>\n",
       "      <td>0.0</td>\n",
       "      <td>FTPWrite</td>\n",
       "      <td>1</td>\n",
       "    </tr>\n",
       "  </tbody>\n",
       "</table>\n",
       "<p>617550 rows × 43 columns</p>\n",
       "</div>"
      ],
      "text/plain": [
       "        duration  protocol_type  service  flag  src_bytes  dst_bytes  land  \\\n",
       "0         0.0184            0.0     0.05   0.0    0.01511    0.02957     0   \n",
       "1         0.0305            0.0     0.05   0.0    0.01735    0.02766     0   \n",
       "2         0.0150            0.0     0.05   0.0    0.01587    0.06707     0   \n",
       "3         0.0060            0.0     0.05   0.0    0.02328    0.04551     0   \n",
       "4         0.0158            0.0     0.05   0.0    0.01567    0.03095     0   \n",
       "...          ...            ...      ...   ...        ...        ...   ...   \n",
       "817545    0.0000            0.0     0.14   0.0    0.00000    0.00005     0   \n",
       "817546    0.0032            0.0     0.07   0.0    0.00104    0.00449     0   \n",
       "817547    0.0067            0.0     0.34   0.0    0.00157    0.02703     0   \n",
       "817548    0.0000            0.0     0.14   0.0    0.00676    0.00000     0   \n",
       "817549    0.0000            0.0     0.14   0.0    0.00000    0.00005     0   \n",
       "\n",
       "        wrong_fragment  urgent  hot  ...  dst_host_same_srv_rate  \\\n",
       "0                  0.0     0.0  0.3  ...                    0.10   \n",
       "1                  0.0     0.0  0.3  ...                    0.10   \n",
       "2                  0.0     0.0  0.1  ...                    0.10   \n",
       "3                  0.0     0.0  0.3  ...                    0.10   \n",
       "4                  0.0     0.0  0.3  ...                    0.10   \n",
       "...                ...     ...  ...  ...                     ...   \n",
       "817545             0.0     0.0  0.0  ...                    0.10   \n",
       "817546             0.0     0.0  0.2  ...                    0.10   \n",
       "817547             0.0     0.1  0.0  ...                    0.05   \n",
       "817548             0.0     0.0  0.0  ...                    0.10   \n",
       "817549             0.0     0.0  0.0  ...                    0.10   \n",
       "\n",
       "        dst_host_diff_srv_rate  dst_host_same_src_port_rate  \\\n",
       "0                          0.0                         0.10   \n",
       "1                          0.0                         0.05   \n",
       "2                          0.0                         0.10   \n",
       "3                          0.0                         0.10   \n",
       "4                          0.0                         0.05   \n",
       "...                        ...                          ...   \n",
       "817545                     0.0                         0.10   \n",
       "817546                     0.0                         0.10   \n",
       "817547                     0.1                         0.05   \n",
       "817548                     0.0                         0.10   \n",
       "817549                     0.0                         0.10   \n",
       "\n",
       "        dst_host_srv_diff_host_rate  dst_host_serror_rate  \\\n",
       "0                             0.067                   0.0   \n",
       "1                             0.050                   0.0   \n",
       "2                             0.000                   0.0   \n",
       "3                             0.000                   0.0   \n",
       "4                             0.000                   0.0   \n",
       "...                             ...                   ...   \n",
       "817545                        0.002                   0.0   \n",
       "817546                        0.000                   0.0   \n",
       "817547                        0.000                   0.0   \n",
       "817548                        0.050                   0.0   \n",
       "817549                        0.040                   0.0   \n",
       "\n",
       "        dst_host_srv_serror_rate  dst_host_rerror_rate  \\\n",
       "0                            0.0                   0.0   \n",
       "1                            0.0                   0.0   \n",
       "2                            0.0                   0.0   \n",
       "3                            0.0                   0.0   \n",
       "4                            0.0                   0.0   \n",
       "...                          ...                   ...   \n",
       "817545                       0.0                   0.0   \n",
       "817546                       0.0                   0.0   \n",
       "817547                       0.0                   0.0   \n",
       "817548                       0.0                   0.0   \n",
       "817549                       0.0                   0.0   \n",
       "\n",
       "        dst_host_srv_rerror_rate           target  B_target  \n",
       "0                            0.0  buffer_Overflow         1  \n",
       "1                            0.0  buffer_Overflow         1  \n",
       "2                            0.0  buffer_Overflow         1  \n",
       "3                            0.0  buffer_Overflow         1  \n",
       "4                            0.0  buffer_Overflow         1  \n",
       "...                          ...              ...       ...  \n",
       "817545                       0.0         FTPWrite         1  \n",
       "817546                       0.0         FTPWrite         1  \n",
       "817547                       0.0         FTPWrite         1  \n",
       "817548                       0.0         FTPWrite         1  \n",
       "817549                       0.0         FTPWrite         1  \n",
       "\n",
       "[617550 rows x 43 columns]"
      ]
     },
     "execution_count": 87,
     "metadata": {},
     "output_type": "execute_result"
    }
   ],
   "source": [
    "data"
   ]
  },
  {
   "cell_type": "code",
   "execution_count": 88,
   "metadata": {},
   "outputs": [],
   "source": [
    "num_cols = data._get_numeric_data().columns\n",
    "            "
   ]
  },
  {
   "cell_type": "code",
   "execution_count": 89,
   "metadata": {
    "scrolled": true
   },
   "outputs": [],
   "source": [
    "df1 = data[num_cols]"
   ]
  },
  {
   "cell_type": "code",
   "execution_count": 90,
   "metadata": {},
   "outputs": [],
   "source": [
    "discreet_data = [i for i in df1 if len(df[i].unique())<20]"
   ]
  },
  {
   "cell_type": "code",
   "execution_count": 91,
   "metadata": {},
   "outputs": [
    {
     "data": {
      "image/png": "[encoded data removed]",
      "text/plain": [
       "<Figure size 432x288 with 1 Axes>"
      ]
     },
     "metadata": {
      "needs_background": "light"
     },
     "output_type": "display_data"
    },
    {
     "data": {
      "image/png": "[encoded data removed]",
      "text/plain": [
       "<Figure size 432x288 with 1 Axes>"
      ]
     },
     "metadata": {
      "needs_background": "light"
     },
     "output_type": "display_data"
    },
    {
     "data": {
      "image/png": "[encoded data removed]",
      "text/plain": [
       "<Figure size 432x288 with 1 Axes>"
      ]
     },
     "metadata": {
      "needs_background": "light"
     },
     "output_type": "display_data"
    },
    {
     "data": {
      "image/png": "[encoded data removed]",
      "text/plain": [
       "<Figure size 432x288 with 1 Axes>"
      ]
     },
     "metadata": {
      "needs_background": "light"
     },
     "output_type": "display_data"
    },
    {
     "data": {
      "image/png": "[encoded data removed]",
      "text/plain": [
       "<Figure size 432x288 with 1 Axes>"
      ]
     },
     "metadata": {
      "needs_background": "light"
     },
     "output_type": "display_data"
    },
    {
     "data": {
      "image/png": "[encoded data removed]",
      "text/plain": [
       "<Figure size 432x288 with 1 Axes>"
      ]
     },
     "metadata": {
      "needs_background": "light"
     },
     "output_type": "display_data"
    },
    {
     "data": {
      "image/png": "[encoded data removed]",
      "text/plain": [
       "<Figure size 432x288 with 1 Axes>"
      ]
     },
     "metadata": {
      "needs_background": "light"
     },
     "output_type": "display_data"
    },
    {
     "data": {
      "image/png": "[encoded data removed]",
      "text/plain": [
       "<Figure size 432x288 with 1 Axes>"
      ]
     },
     "metadata": {
      "needs_background": "light"
     },
     "output_type": "display_data"
    },
    {
     "data": {
      "image/png": "[encoded data removed]",
      "text/plain": [
       "<Figure size 432x288 with 1 Axes>"
      ]
     },
     "metadata": {
      "needs_background": "light"
     },
     "output_type": "display_data"
    },
    {
     "data": {
      "image/png": "[encoded data removed]",
      "text/plain": [
       "<Figure size 432x288 with 1 Axes>"
      ]
     },
     "metadata": {
      "needs_background": "light"
     },
     "output_type": "display_data"
    },
    {
     "data": {
      "image/png": "[encoded data removed]",
      "text/plain": [
       "<Figure size 432x288 with 1 Axes>"
      ]
     },
     "metadata": {
      "needs_background": "light"
     },
     "output_type": "display_data"
    },
    {
     "data": {
      "image/png": "[encoded data removed]",
      "text/plain": [
       "<Figure size 432x288 with 1 Axes>"
      ]
     },
     "metadata": {
      "needs_background": "light"
     },
     "output_type": "display_data"
    },
    {
     "data": {
      "image/png": "[encoded data removed]",
      "text/plain": [
       "<Figure size 432x288 with 1 Axes>"
      ]
     },
     "metadata": {
      "needs_background": "light"
     },
     "output_type": "display_data"
    },
    {
     "data": {
      "image/png": "[encoded data removed]",
      "text/plain": [
       "<Figure size 432x288 with 1 Axes>"
      ]
     },
     "metadata": {
      "needs_background": "light"
     },
     "output_type": "display_data"
    },
    {
     "data": {
      "image/png": "[encoded data removed]",
      "text/plain": [
       "<Figure size 432x288 with 1 Axes>"
      ]
     },
     "metadata": {
      "needs_background": "light"
     },
     "output_type": "display_data"
    },
    {
     "data": {
      "image/png": "[encoded data removed]",
      "text/plain": [
       "<Figure size 432x288 with 1 Axes>"
      ]
     },
     "metadata": {
      "needs_background": "light"
     },
     "output_type": "display_data"
    },
    {
     "data": {
      "image/png": "[encoded data removed]",
      "text/plain": [
       "<Figure size 432x288 with 1 Axes>"
      ]
     },
     "metadata": {
      "needs_background": "light"
     },
     "output_type": "display_data"
    },
    {
     "data": {
      "image/png": "[encoded data removed]",
      "text/plain": [
       "<Figure size 432x288 with 1 Axes>"
      ]
     },
     "metadata": {
      "needs_background": "light"
     },
     "output_type": "display_data"
    },
    {
     "data": {
      "image/png": "[encoded data removed]",
      "text/plain": [
       "<Figure size 432x288 with 1 Axes>"
      ]
     },
     "metadata": {
      "needs_background": "light"
     },
     "output_type": "display_data"
    }
   ],
   "source": [
    "for i in discreet_data :\n",
    "    data = df1.copy()\n",
    "    data[i].value_counts().plot.bar()\n",
    "    plt.xlabel(i)\n",
    "    plt.legend('B_target')\n",
    "    plt.show()"
   ]
  },
  {
   "cell_type": "code",
   "execution_count": 92,
   "metadata": {},
   "outputs": [
    {
     "name": "stdout",
     "output_type": "stream",
     "text": [
      "[0]\n",
      "[0]\n"
     ]
    }
   ],
   "source": [
    "print(df.land.unique())\n",
    "\n",
    "print(df.num_outbound_cmds.unique())\n"
   ]
  },
  {
   "cell_type": "code",
   "execution_count": 93,
   "metadata": {},
   "outputs": [
    {
     "data": {
      "text/plain": [
       "<AxesSubplot:>"
      ]
     },
     "execution_count": 93,
     "metadata": {},
     "output_type": "execute_result"
    },
    {
     "data": {
      "image/png": "[encoded data removed]",
      "text/plain": [
       "<Figure size 432x288 with 1 Axes>"
      ]
     },
     "metadata": {
      "needs_background": "light"
     },
     "output_type": "display_data"
    }
   ],
   "source": [
    "df.target.value_counts().plot.bar()"
   ]
  },
  {
   "cell_type": "code",
   "execution_count": 94,
   "metadata": {},
   "outputs": [
    {
     "name": "stderr",
     "output_type": "stream",
     "text": [
      "/Users/abin/opt/anaconda3/lib/python3.8/site-packages/pandas/core/frame.py:4163: SettingWithCopyWarning: \n",
      "A value is trying to be set on a copy of a slice from a DataFrame\n",
      "\n",
      "See the caveats in the documentation: https://pandas.pydata.org/pandas-docs/stable/user_guide/indexing.html#returning-a-view-versus-a-copy\n",
      "  return super().drop(\n"
     ]
    }
   ],
   "source": [
    "# since land and num_outbound_cmds have only 1 value we remove then from the data set \n",
    "df1.drop( columns = ['land','num_outbound_cmds'], axis = 1, inplace=True)"
   ]
  },
  {
   "cell_type": "code",
   "execution_count": 95,
   "metadata": {},
   "outputs": [],
   "source": [
    "# Creating Data audit Report\n",
    "# Use a general function that returns multiple values\n",
    "def var_summary(x):\n",
    "    return pd.Series([x.count(), x.isnull().sum(), x.sum(), x.mean(), x.median(),  x.std(), x.var(), x.min(), x.dropna().quantile(0.01), x.dropna().quantile(0.05),x.dropna().quantile(0.10),x.dropna().quantile(0.25),x.dropna().quantile(0.50),x.dropna().quantile(0.75), x.dropna().quantile(0.90),x.dropna().quantile(0.95), x.dropna().quantile(0.99),x.max()], \n",
    "                  index=['N', 'NMISS', 'SUM', 'MEAN','MEDIAN', 'STD', 'VAR', 'MIN', 'P1' , 'P5' ,'P10' ,'P25' ,'P50' ,'P75' ,'P90' ,'P95' ,'P99' ,'MAX'])\n",
    "\n",
    "num_summary=df1.apply(lambda x: var_summary(x)).T"
   ]
  },
  {
   "cell_type": "code",
   "execution_count": 96,
   "metadata": {},
   "outputs": [
    {
     "data": {
      "text/html": [
       "<div>\n",
       "<style scoped>\n",
       "    .dataframe tbody tr th:only-of-type {\n",
       "        vertical-align: middle;\n",
       "    }\n",
       "\n",
       "    .dataframe tbody tr th {\n",
       "        vertical-align: top;\n",
       "    }\n",
       "\n",
       "    .dataframe thead th {\n",
       "        text-align: right;\n",
       "    }\n",
       "</style>\n",
       "<table border=\"1\" class=\"dataframe\">\n",
       "  <thead>\n",
       "    <tr style=\"text-align: right;\">\n",
       "      <th></th>\n",
       "      <th>N</th>\n",
       "      <th>NMISS</th>\n",
       "      <th>SUM</th>\n",
       "      <th>MEAN</th>\n",
       "      <th>MEDIAN</th>\n",
       "      <th>STD</th>\n",
       "      <th>VAR</th>\n",
       "      <th>MIN</th>\n",
       "      <th>P1</th>\n",
       "      <th>P5</th>\n",
       "      <th>P10</th>\n",
       "      <th>P25</th>\n",
       "      <th>P50</th>\n",
       "      <th>P75</th>\n",
       "      <th>P90</th>\n",
       "      <th>P95</th>\n",
       "      <th>P99</th>\n",
       "      <th>MAX</th>\n",
       "    </tr>\n",
       "  </thead>\n",
       "  <tbody>\n",
       "    <tr>\n",
       "      <th>duration</th>\n",
       "      <td>617550.0</td>\n",
       "      <td>0.0</td>\n",
       "      <td>575.67460</td>\n",
       "      <td>9.321911e-04</td>\n",
       "      <td>0.00000</td>\n",
       "      <td>0.027758</td>\n",
       "      <td>7.705004e-04</td>\n",
       "      <td>0.0</td>\n",
       "      <td>0.000</td>\n",
       "      <td>0.000</td>\n",
       "      <td>0.000</td>\n",
       "      <td>0.000</td>\n",
       "      <td>0.00000</td>\n",
       "      <td>0.00000</td>\n",
       "      <td>0.00000</td>\n",
       "      <td>0.00000</td>\n",
       "      <td>0.001300</td>\n",
       "      <td>1.000</td>\n",
       "    </tr>\n",
       "    <tr>\n",
       "      <th>protocol_type</th>\n",
       "      <td>617550.0</td>\n",
       "      <td>0.0</td>\n",
       "      <td>339.60000</td>\n",
       "      <td>5.499150e-04</td>\n",
       "      <td>0.00000</td>\n",
       "      <td>0.002613</td>\n",
       "      <td>6.827068e-06</td>\n",
       "      <td>0.0</td>\n",
       "      <td>0.000</td>\n",
       "      <td>0.000</td>\n",
       "      <td>0.000</td>\n",
       "      <td>0.000</td>\n",
       "      <td>0.00000</td>\n",
       "      <td>0.00000</td>\n",
       "      <td>0.00000</td>\n",
       "      <td>0.00000</td>\n",
       "      <td>0.010000</td>\n",
       "      <td>0.020</td>\n",
       "    </tr>\n",
       "    <tr>\n",
       "      <th>service</th>\n",
       "      <td>617550.0</td>\n",
       "      <td>0.0</td>\n",
       "      <td>41533.40000</td>\n",
       "      <td>6.725512e-02</td>\n",
       "      <td>0.01000</td>\n",
       "      <td>0.105647</td>\n",
       "      <td>1.116130e-02</td>\n",
       "      <td>0.0</td>\n",
       "      <td>0.000</td>\n",
       "      <td>0.000</td>\n",
       "      <td>0.000</td>\n",
       "      <td>0.000</td>\n",
       "      <td>0.01000</td>\n",
       "      <td>0.12000</td>\n",
       "      <td>0.12000</td>\n",
       "      <td>0.25000</td>\n",
       "      <td>0.550000</td>\n",
       "      <td>0.670</td>\n",
       "    </tr>\n",
       "    <tr>\n",
       "      <th>flag</th>\n",
       "      <td>617550.0</td>\n",
       "      <td>0.0</td>\n",
       "      <td>16258.81000</td>\n",
       "      <td>2.632792e-02</td>\n",
       "      <td>0.00000</td>\n",
       "      <td>0.033097</td>\n",
       "      <td>1.095386e-03</td>\n",
       "      <td>0.0</td>\n",
       "      <td>0.000</td>\n",
       "      <td>0.000</td>\n",
       "      <td>0.000</td>\n",
       "      <td>0.000</td>\n",
       "      <td>0.00000</td>\n",
       "      <td>0.07000</td>\n",
       "      <td>0.07000</td>\n",
       "      <td>0.07000</td>\n",
       "      <td>0.070000</td>\n",
       "      <td>0.100</td>\n",
       "    </tr>\n",
       "    <tr>\n",
       "      <th>src_bytes</th>\n",
       "      <td>617550.0</td>\n",
       "      <td>0.0</td>\n",
       "      <td>2841.78149</td>\n",
       "      <td>4.601703e-03</td>\n",
       "      <td>0.00202</td>\n",
       "      <td>0.033523</td>\n",
       "      <td>1.123824e-03</td>\n",
       "      <td>0.0</td>\n",
       "      <td>0.000</td>\n",
       "      <td>0.000</td>\n",
       "      <td>0.000</td>\n",
       "      <td>0.000</td>\n",
       "      <td>0.00202</td>\n",
       "      <td>0.00288</td>\n",
       "      <td>0.00347</td>\n",
       "      <td>0.01032</td>\n",
       "      <td>0.058910</td>\n",
       "      <td>1.000</td>\n",
       "    </tr>\n",
       "    <tr>\n",
       "      <th>dst_bytes</th>\n",
       "      <td>617550.0</td>\n",
       "      <td>0.0</td>\n",
       "      <td>13309.62841</td>\n",
       "      <td>2.155231e-02</td>\n",
       "      <td>0.00302</td>\n",
       "      <td>0.062519</td>\n",
       "      <td>3.908677e-03</td>\n",
       "      <td>0.0</td>\n",
       "      <td>0.000</td>\n",
       "      <td>0.000</td>\n",
       "      <td>0.000</td>\n",
       "      <td>0.000</td>\n",
       "      <td>0.00302</td>\n",
       "      <td>0.01582</td>\n",
       "      <td>0.05639</td>\n",
       "      <td>0.10563</td>\n",
       "      <td>0.287866</td>\n",
       "      <td>1.000</td>\n",
       "    </tr>\n",
       "    <tr>\n",
       "      <th>wrong_fragment</th>\n",
       "      <td>617550.0</td>\n",
       "      <td>0.0</td>\n",
       "      <td>0.30000</td>\n",
       "      <td>4.857906e-07</td>\n",
       "      <td>0.00000</td>\n",
       "      <td>0.000382</td>\n",
       "      <td>1.457372e-07</td>\n",
       "      <td>0.0</td>\n",
       "      <td>0.000</td>\n",
       "      <td>0.000</td>\n",
       "      <td>0.000</td>\n",
       "      <td>0.000</td>\n",
       "      <td>0.00000</td>\n",
       "      <td>0.00000</td>\n",
       "      <td>0.00000</td>\n",
       "      <td>0.00000</td>\n",
       "      <td>0.000000</td>\n",
       "      <td>0.300</td>\n",
       "    </tr>\n",
       "    <tr>\n",
       "      <th>urgent</th>\n",
       "      <td>617550.0</td>\n",
       "      <td>0.0</td>\n",
       "      <td>1.20000</td>\n",
       "      <td>1.943162e-06</td>\n",
       "      <td>0.00000</td>\n",
       "      <td>0.000742</td>\n",
       "      <td>5.505598e-07</td>\n",
       "      <td>0.0</td>\n",
       "      <td>0.000</td>\n",
       "      <td>0.000</td>\n",
       "      <td>0.000</td>\n",
       "      <td>0.000</td>\n",
       "      <td>0.00000</td>\n",
       "      <td>0.00000</td>\n",
       "      <td>0.00000</td>\n",
       "      <td>0.00000</td>\n",
       "      <td>0.000000</td>\n",
       "      <td>0.500</td>\n",
       "    </tr>\n",
       "    <tr>\n",
       "      <th>hot</th>\n",
       "      <td>617550.0</td>\n",
       "      <td>0.0</td>\n",
       "      <td>1370.70000</td>\n",
       "      <td>2.219577e-03</td>\n",
       "      <td>0.00000</td>\n",
       "      <td>0.038708</td>\n",
       "      <td>1.498323e-03</td>\n",
       "      <td>0.0</td>\n",
       "      <td>0.000</td>\n",
       "      <td>0.000</td>\n",
       "      <td>0.000</td>\n",
       "      <td>0.000</td>\n",
       "      <td>0.00000</td>\n",
       "      <td>0.00000</td>\n",
       "      <td>0.00000</td>\n",
       "      <td>0.00000</td>\n",
       "      <td>0.000000</td>\n",
       "      <td>1.000</td>\n",
       "    </tr>\n",
       "    <tr>\n",
       "      <th>num_failed_logins</th>\n",
       "      <td>617550.0</td>\n",
       "      <td>0.0</td>\n",
       "      <td>10.20000</td>\n",
       "      <td>1.651688e-05</td>\n",
       "      <td>0.00000</td>\n",
       "      <td>0.001630</td>\n",
       "      <td>2.655387e-06</td>\n",
       "      <td>0.0</td>\n",
       "      <td>0.000</td>\n",
       "      <td>0.000</td>\n",
       "      <td>0.000</td>\n",
       "      <td>0.000</td>\n",
       "      <td>0.00000</td>\n",
       "      <td>0.00000</td>\n",
       "      <td>0.00000</td>\n",
       "      <td>0.00000</td>\n",
       "      <td>0.000000</td>\n",
       "      <td>0.500</td>\n",
       "    </tr>\n",
       "    <tr>\n",
       "      <th>logged_in</th>\n",
       "      <td>617550.0</td>\n",
       "      <td>0.0</td>\n",
       "      <td>34105.00000</td>\n",
       "      <td>5.522630e-02</td>\n",
       "      <td>0.10000</td>\n",
       "      <td>0.049726</td>\n",
       "      <td>2.472690e-03</td>\n",
       "      <td>0.0</td>\n",
       "      <td>0.000</td>\n",
       "      <td>0.000</td>\n",
       "      <td>0.000</td>\n",
       "      <td>0.000</td>\n",
       "      <td>0.10000</td>\n",
       "      <td>0.10000</td>\n",
       "      <td>0.10000</td>\n",
       "      <td>0.10000</td>\n",
       "      <td>0.100000</td>\n",
       "      <td>0.100</td>\n",
       "    </tr>\n",
       "    <tr>\n",
       "      <th>num_compromised</th>\n",
       "      <td>617550.0</td>\n",
       "      <td>0.0</td>\n",
       "      <td>182.20000</td>\n",
       "      <td>2.950368e-04</td>\n",
       "      <td>0.00000</td>\n",
       "      <td>0.009929</td>\n",
       "      <td>9.859338e-05</td>\n",
       "      <td>0.0</td>\n",
       "      <td>0.000</td>\n",
       "      <td>0.000</td>\n",
       "      <td>0.000</td>\n",
       "      <td>0.000</td>\n",
       "      <td>0.00000</td>\n",
       "      <td>0.00000</td>\n",
       "      <td>0.00000</td>\n",
       "      <td>0.00000</td>\n",
       "      <td>0.000000</td>\n",
       "      <td>1.000</td>\n",
       "    </tr>\n",
       "    <tr>\n",
       "      <th>root_shell</th>\n",
       "      <td>617550.0</td>\n",
       "      <td>0.0</td>\n",
       "      <td>17.70000</td>\n",
       "      <td>2.866165e-05</td>\n",
       "      <td>0.00000</td>\n",
       "      <td>0.001693</td>\n",
       "      <td>2.865348e-06</td>\n",
       "      <td>0.0</td>\n",
       "      <td>0.000</td>\n",
       "      <td>0.000</td>\n",
       "      <td>0.000</td>\n",
       "      <td>0.000</td>\n",
       "      <td>0.00000</td>\n",
       "      <td>0.00000</td>\n",
       "      <td>0.00000</td>\n",
       "      <td>0.00000</td>\n",
       "      <td>0.000000</td>\n",
       "      <td>0.100</td>\n",
       "    </tr>\n",
       "    <tr>\n",
       "      <th>su_attempted</th>\n",
       "      <td>617550.0</td>\n",
       "      <td>0.0</td>\n",
       "      <td>6.00000</td>\n",
       "      <td>9.715812e-06</td>\n",
       "      <td>0.00000</td>\n",
       "      <td>0.001310</td>\n",
       "      <td>1.716369e-06</td>\n",
       "      <td>0.0</td>\n",
       "      <td>0.000</td>\n",
       "      <td>0.000</td>\n",
       "      <td>0.000</td>\n",
       "      <td>0.000</td>\n",
       "      <td>0.00000</td>\n",
       "      <td>0.00000</td>\n",
       "      <td>0.00000</td>\n",
       "      <td>0.00000</td>\n",
       "      <td>0.000000</td>\n",
       "      <td>0.200</td>\n",
       "    </tr>\n",
       "    <tr>\n",
       "      <th>num_root</th>\n",
       "      <td>617550.0</td>\n",
       "      <td>0.0</td>\n",
       "      <td>778.30000</td>\n",
       "      <td>1.260303e-03</td>\n",
       "      <td>0.00000</td>\n",
       "      <td>0.029339</td>\n",
       "      <td>8.607724e-04</td>\n",
       "      <td>0.0</td>\n",
       "      <td>0.000</td>\n",
       "      <td>0.000</td>\n",
       "      <td>0.000</td>\n",
       "      <td>0.000</td>\n",
       "      <td>0.00000</td>\n",
       "      <td>0.00000</td>\n",
       "      <td>0.00000</td>\n",
       "      <td>0.00000</td>\n",
       "      <td>0.000000</td>\n",
       "      <td>1.000</td>\n",
       "    </tr>\n",
       "    <tr>\n",
       "      <th>num_file_creations</th>\n",
       "      <td>617550.0</td>\n",
       "      <td>0.0</td>\n",
       "      <td>160.70000</td>\n",
       "      <td>2.602218e-04</td>\n",
       "      <td>0.00000</td>\n",
       "      <td>0.011415</td>\n",
       "      <td>1.303025e-04</td>\n",
       "      <td>0.0</td>\n",
       "      <td>0.000</td>\n",
       "      <td>0.000</td>\n",
       "      <td>0.000</td>\n",
       "      <td>0.000</td>\n",
       "      <td>0.00000</td>\n",
       "      <td>0.00000</td>\n",
       "      <td>0.00000</td>\n",
       "      <td>0.00000</td>\n",
       "      <td>0.000000</td>\n",
       "      <td>1.000</td>\n",
       "    </tr>\n",
       "    <tr>\n",
       "      <th>num_shells</th>\n",
       "      <td>617550.0</td>\n",
       "      <td>0.0</td>\n",
       "      <td>10.40000</td>\n",
       "      <td>1.684074e-05</td>\n",
       "      <td>0.00000</td>\n",
       "      <td>0.001310</td>\n",
       "      <td>1.716179e-06</td>\n",
       "      <td>0.0</td>\n",
       "      <td>0.000</td>\n",
       "      <td>0.000</td>\n",
       "      <td>0.000</td>\n",
       "      <td>0.000</td>\n",
       "      <td>0.00000</td>\n",
       "      <td>0.00000</td>\n",
       "      <td>0.00000</td>\n",
       "      <td>0.00000</td>\n",
       "      <td>0.000000</td>\n",
       "      <td>0.200</td>\n",
       "    </tr>\n",
       "    <tr>\n",
       "      <th>num_access_files</th>\n",
       "      <td>617550.0</td>\n",
       "      <td>0.0</td>\n",
       "      <td>188.30000</td>\n",
       "      <td>3.049146e-04</td>\n",
       "      <td>0.00000</td>\n",
       "      <td>0.006149</td>\n",
       "      <td>3.781495e-05</td>\n",
       "      <td>0.0</td>\n",
       "      <td>0.000</td>\n",
       "      <td>0.000</td>\n",
       "      <td>0.000</td>\n",
       "      <td>0.000</td>\n",
       "      <td>0.00000</td>\n",
       "      <td>0.00000</td>\n",
       "      <td>0.00000</td>\n",
       "      <td>0.00000</td>\n",
       "      <td>0.000000</td>\n",
       "      <td>0.900</td>\n",
       "    </tr>\n",
       "    <tr>\n",
       "      <th>is_host_login</th>\n",
       "      <td>617550.0</td>\n",
       "      <td>0.0</td>\n",
       "      <td>0.10000</td>\n",
       "      <td>1.619302e-07</td>\n",
       "      <td>0.00000</td>\n",
       "      <td>0.000127</td>\n",
       "      <td>1.619302e-08</td>\n",
       "      <td>0.0</td>\n",
       "      <td>0.000</td>\n",
       "      <td>0.000</td>\n",
       "      <td>0.000</td>\n",
       "      <td>0.000</td>\n",
       "      <td>0.00000</td>\n",
       "      <td>0.00000</td>\n",
       "      <td>0.00000</td>\n",
       "      <td>0.00000</td>\n",
       "      <td>0.000000</td>\n",
       "      <td>0.100</td>\n",
       "    </tr>\n",
       "    <tr>\n",
       "      <th>is_guest_login</th>\n",
       "      <td>617550.0</td>\n",
       "      <td>0.0</td>\n",
       "      <td>147.10000</td>\n",
       "      <td>2.381993e-04</td>\n",
       "      <td>0.00000</td>\n",
       "      <td>0.004875</td>\n",
       "      <td>2.376323e-05</td>\n",
       "      <td>0.0</td>\n",
       "      <td>0.000</td>\n",
       "      <td>0.000</td>\n",
       "      <td>0.000</td>\n",
       "      <td>0.000</td>\n",
       "      <td>0.00000</td>\n",
       "      <td>0.00000</td>\n",
       "      <td>0.00000</td>\n",
       "      <td>0.00000</td>\n",
       "      <td>0.000000</td>\n",
       "      <td>0.100</td>\n",
       "    </tr>\n",
       "    <tr>\n",
       "      <th>count</th>\n",
       "      <td>617550.0</td>\n",
       "      <td>0.0</td>\n",
       "      <td>46892.44000</td>\n",
       "      <td>7.593303e-02</td>\n",
       "      <td>0.01500</td>\n",
       "      <td>0.100096</td>\n",
       "      <td>1.001926e-02</td>\n",
       "      <td>0.0</td>\n",
       "      <td>0.001</td>\n",
       "      <td>0.001</td>\n",
       "      <td>0.001</td>\n",
       "      <td>0.003</td>\n",
       "      <td>0.01500</td>\n",
       "      <td>0.13300</td>\n",
       "      <td>0.24400</td>\n",
       "      <td>0.27300</td>\n",
       "      <td>0.298000</td>\n",
       "      <td>0.511</td>\n",
       "    </tr>\n",
       "    <tr>\n",
       "      <th>srv_count</th>\n",
       "      <td>617550.0</td>\n",
       "      <td>0.0</td>\n",
       "      <td>8772.39800</td>\n",
       "      <td>1.420516e-02</td>\n",
       "      <td>0.00900</td>\n",
       "      <td>0.033522</td>\n",
       "      <td>1.123718e-03</td>\n",
       "      <td>0.0</td>\n",
       "      <td>0.001</td>\n",
       "      <td>0.001</td>\n",
       "      <td>0.001</td>\n",
       "      <td>0.003</td>\n",
       "      <td>0.00900</td>\n",
       "      <td>0.01600</td>\n",
       "      <td>0.02400</td>\n",
       "      <td>0.03400</td>\n",
       "      <td>0.131000</td>\n",
       "      <td>0.511</td>\n",
       "    </tr>\n",
       "    <tr>\n",
       "      <th>serror_rate</th>\n",
       "      <td>617550.0</td>\n",
       "      <td>0.0</td>\n",
       "      <td>20271.73600</td>\n",
       "      <td>3.282606e-02</td>\n",
       "      <td>0.00000</td>\n",
       "      <td>0.046827</td>\n",
       "      <td>2.192761e-03</td>\n",
       "      <td>0.0</td>\n",
       "      <td>0.000</td>\n",
       "      <td>0.000</td>\n",
       "      <td>0.000</td>\n",
       "      <td>0.000</td>\n",
       "      <td>0.00000</td>\n",
       "      <td>0.10000</td>\n",
       "      <td>0.10000</td>\n",
       "      <td>0.10000</td>\n",
       "      <td>0.100000</td>\n",
       "      <td>0.100</td>\n",
       "    </tr>\n",
       "    <tr>\n",
       "      <th>srv_error_rate</th>\n",
       "      <td>617550.0</td>\n",
       "      <td>0.0</td>\n",
       "      <td>20343.93400</td>\n",
       "      <td>3.294297e-02</td>\n",
       "      <td>0.00000</td>\n",
       "      <td>0.046911</td>\n",
       "      <td>2.200645e-03</td>\n",
       "      <td>0.0</td>\n",
       "      <td>0.000</td>\n",
       "      <td>0.000</td>\n",
       "      <td>0.000</td>\n",
       "      <td>0.000</td>\n",
       "      <td>0.00000</td>\n",
       "      <td>0.10000</td>\n",
       "      <td>0.10000</td>\n",
       "      <td>0.10000</td>\n",
       "      <td>0.100000</td>\n",
       "      <td>0.100</td>\n",
       "    </tr>\n",
       "    <tr>\n",
       "      <th>rerror_rate</th>\n",
       "      <td>617550.0</td>\n",
       "      <td>0.0</td>\n",
       "      <td>3951.33100</td>\n",
       "      <td>6.398399e-03</td>\n",
       "      <td>0.00000</td>\n",
       "      <td>0.024271</td>\n",
       "      <td>5.890760e-04</td>\n",
       "      <td>0.0</td>\n",
       "      <td>0.000</td>\n",
       "      <td>0.000</td>\n",
       "      <td>0.000</td>\n",
       "      <td>0.000</td>\n",
       "      <td>0.00000</td>\n",
       "      <td>0.00000</td>\n",
       "      <td>0.00000</td>\n",
       "      <td>0.10000</td>\n",
       "      <td>0.100000</td>\n",
       "      <td>0.100</td>\n",
       "    </tr>\n",
       "    <tr>\n",
       "      <th>srv_rerror_rate</th>\n",
       "      <td>617550.0</td>\n",
       "      <td>0.0</td>\n",
       "      <td>3915.61100</td>\n",
       "      <td>6.340557e-03</td>\n",
       "      <td>0.00000</td>\n",
       "      <td>0.024182</td>\n",
       "      <td>5.847690e-04</td>\n",
       "      <td>0.0</td>\n",
       "      <td>0.000</td>\n",
       "      <td>0.000</td>\n",
       "      <td>0.000</td>\n",
       "      <td>0.000</td>\n",
       "      <td>0.00000</td>\n",
       "      <td>0.00000</td>\n",
       "      <td>0.00000</td>\n",
       "      <td>0.10000</td>\n",
       "      <td>0.100000</td>\n",
       "      <td>0.100</td>\n",
       "    </tr>\n",
       "    <tr>\n",
       "      <th>same_srv_rate</th>\n",
       "      <td>617550.0</td>\n",
       "      <td>0.0</td>\n",
       "      <td>40154.90600</td>\n",
       "      <td>6.502292e-02</td>\n",
       "      <td>0.10000</td>\n",
       "      <td>0.044878</td>\n",
       "      <td>2.014044e-03</td>\n",
       "      <td>0.0</td>\n",
       "      <td>0.000</td>\n",
       "      <td>0.002</td>\n",
       "      <td>0.003</td>\n",
       "      <td>0.008</td>\n",
       "      <td>0.10000</td>\n",
       "      <td>0.10000</td>\n",
       "      <td>0.10000</td>\n",
       "      <td>0.10000</td>\n",
       "      <td>0.100000</td>\n",
       "      <td>0.100</td>\n",
       "    </tr>\n",
       "    <tr>\n",
       "      <th>diff_srv_rate</th>\n",
       "      <td>617550.0</td>\n",
       "      <td>0.0</td>\n",
       "      <td>2264.53200</td>\n",
       "      <td>3.666961e-03</td>\n",
       "      <td>0.00000</td>\n",
       "      <td>0.010675</td>\n",
       "      <td>1.139483e-04</td>\n",
       "      <td>0.0</td>\n",
       "      <td>0.000</td>\n",
       "      <td>0.000</td>\n",
       "      <td>0.000</td>\n",
       "      <td>0.000</td>\n",
       "      <td>0.00000</td>\n",
       "      <td>0.00600</td>\n",
       "      <td>0.00700</td>\n",
       "      <td>0.00800</td>\n",
       "      <td>0.067000</td>\n",
       "      <td>0.100</td>\n",
       "    </tr>\n",
       "    <tr>\n",
       "      <th>srv_diff_host_rate</th>\n",
       "      <td>617550.0</td>\n",
       "      <td>0.0</td>\n",
       "      <td>5420.28800</td>\n",
       "      <td>8.777084e-03</td>\n",
       "      <td>0.00000</td>\n",
       "      <td>0.022298</td>\n",
       "      <td>4.972152e-04</td>\n",
       "      <td>0.0</td>\n",
       "      <td>0.000</td>\n",
       "      <td>0.000</td>\n",
       "      <td>0.000</td>\n",
       "      <td>0.000</td>\n",
       "      <td>0.00000</td>\n",
       "      <td>0.00100</td>\n",
       "      <td>0.02700</td>\n",
       "      <td>0.06700</td>\n",
       "      <td>0.100000</td>\n",
       "      <td>0.100</td>\n",
       "    </tr>\n",
       "    <tr>\n",
       "      <th>dst_host_count</th>\n",
       "      <td>617550.0</td>\n",
       "      <td>0.0</td>\n",
       "      <td>110169.06100</td>\n",
       "      <td>1.783970e-01</td>\n",
       "      <td>0.25500</td>\n",
       "      <td>0.099657</td>\n",
       "      <td>9.931501e-03</td>\n",
       "      <td>0.0</td>\n",
       "      <td>0.001</td>\n",
       "      <td>0.007</td>\n",
       "      <td>0.016</td>\n",
       "      <td>0.071</td>\n",
       "      <td>0.25500</td>\n",
       "      <td>0.25500</td>\n",
       "      <td>0.25500</td>\n",
       "      <td>0.25500</td>\n",
       "      <td>0.255000</td>\n",
       "      <td>0.255</td>\n",
       "    </tr>\n",
       "    <tr>\n",
       "      <th>dst_host_srv_count</th>\n",
       "      <td>617550.0</td>\n",
       "      <td>0.0</td>\n",
       "      <td>87540.74800</td>\n",
       "      <td>1.417549e-01</td>\n",
       "      <td>0.19300</td>\n",
       "      <td>0.115840</td>\n",
       "      <td>1.341884e-02</td>\n",
       "      <td>0.0</td>\n",
       "      <td>0.001</td>\n",
       "      <td>0.003</td>\n",
       "      <td>0.005</td>\n",
       "      <td>0.013</td>\n",
       "      <td>0.19300</td>\n",
       "      <td>0.25500</td>\n",
       "      <td>0.25500</td>\n",
       "      <td>0.25500</td>\n",
       "      <td>0.255000</td>\n",
       "      <td>0.255</td>\n",
       "    </tr>\n",
       "    <tr>\n",
       "      <th>dst_host_same_srv_rate</th>\n",
       "      <td>617550.0</td>\n",
       "      <td>0.0</td>\n",
       "      <td>36197.41400</td>\n",
       "      <td>5.861455e-02</td>\n",
       "      <td>0.09800</td>\n",
       "      <td>0.045653</td>\n",
       "      <td>2.084199e-03</td>\n",
       "      <td>0.0</td>\n",
       "      <td>0.000</td>\n",
       "      <td>0.001</td>\n",
       "      <td>0.002</td>\n",
       "      <td>0.005</td>\n",
       "      <td>0.09800</td>\n",
       "      <td>0.10000</td>\n",
       "      <td>0.10000</td>\n",
       "      <td>0.10000</td>\n",
       "      <td>0.100000</td>\n",
       "      <td>0.100</td>\n",
       "    </tr>\n",
       "    <tr>\n",
       "      <th>dst_host_diff_srv_rate</th>\n",
       "      <td>617550.0</td>\n",
       "      <td>0.0</td>\n",
       "      <td>2526.44700</td>\n",
       "      <td>4.091081e-03</td>\n",
       "      <td>0.00100</td>\n",
       "      <td>0.009290</td>\n",
       "      <td>8.631091e-05</td>\n",
       "      <td>0.0</td>\n",
       "      <td>0.000</td>\n",
       "      <td>0.000</td>\n",
       "      <td>0.000</td>\n",
       "      <td>0.000</td>\n",
       "      <td>0.00100</td>\n",
       "      <td>0.00700</td>\n",
       "      <td>0.00800</td>\n",
       "      <td>0.00900</td>\n",
       "      <td>0.050000</td>\n",
       "      <td>0.100</td>\n",
       "    </tr>\n",
       "    <tr>\n",
       "      <th>dst_host_same_src_port_rate</th>\n",
       "      <td>617550.0</td>\n",
       "      <td>0.0</td>\n",
       "      <td>3515.64700</td>\n",
       "      <td>5.692895e-03</td>\n",
       "      <td>0.00000</td>\n",
       "      <td>0.017232</td>\n",
       "      <td>2.969376e-04</td>\n",
       "      <td>0.0</td>\n",
       "      <td>0.000</td>\n",
       "      <td>0.000</td>\n",
       "      <td>0.000</td>\n",
       "      <td>0.000</td>\n",
       "      <td>0.00000</td>\n",
       "      <td>0.00200</td>\n",
       "      <td>0.01200</td>\n",
       "      <td>0.03300</td>\n",
       "      <td>0.100000</td>\n",
       "      <td>0.100</td>\n",
       "    </tr>\n",
       "    <tr>\n",
       "      <th>dst_host_srv_diff_host_rate</th>\n",
       "      <td>617550.0</td>\n",
       "      <td>0.0</td>\n",
       "      <td>907.43900</td>\n",
       "      <td>1.469418e-03</td>\n",
       "      <td>0.00000</td>\n",
       "      <td>0.003545</td>\n",
       "      <td>1.256357e-05</td>\n",
       "      <td>0.0</td>\n",
       "      <td>0.000</td>\n",
       "      <td>0.000</td>\n",
       "      <td>0.000</td>\n",
       "      <td>0.000</td>\n",
       "      <td>0.00000</td>\n",
       "      <td>0.00200</td>\n",
       "      <td>0.00400</td>\n",
       "      <td>0.00600</td>\n",
       "      <td>0.017000</td>\n",
       "      <td>0.100</td>\n",
       "    </tr>\n",
       "    <tr>\n",
       "      <th>dst_host_serror_rate</th>\n",
       "      <td>617550.0</td>\n",
       "      <td>0.0</td>\n",
       "      <td>20292.86600</td>\n",
       "      <td>3.286028e-02</td>\n",
       "      <td>0.00000</td>\n",
       "      <td>0.046814</td>\n",
       "      <td>2.191545e-03</td>\n",
       "      <td>0.0</td>\n",
       "      <td>0.000</td>\n",
       "      <td>0.000</td>\n",
       "      <td>0.000</td>\n",
       "      <td>0.000</td>\n",
       "      <td>0.00000</td>\n",
       "      <td>0.10000</td>\n",
       "      <td>0.10000</td>\n",
       "      <td>0.10000</td>\n",
       "      <td>0.100000</td>\n",
       "      <td>0.100</td>\n",
       "    </tr>\n",
       "    <tr>\n",
       "      <th>dst_host_srv_serror_rate</th>\n",
       "      <td>617550.0</td>\n",
       "      <td>0.0</td>\n",
       "      <td>20302.55700</td>\n",
       "      <td>3.287597e-02</td>\n",
       "      <td>0.00000</td>\n",
       "      <td>0.046920</td>\n",
       "      <td>2.201530e-03</td>\n",
       "      <td>0.0</td>\n",
       "      <td>0.000</td>\n",
       "      <td>0.000</td>\n",
       "      <td>0.000</td>\n",
       "      <td>0.000</td>\n",
       "      <td>0.00000</td>\n",
       "      <td>0.10000</td>\n",
       "      <td>0.10000</td>\n",
       "      <td>0.10000</td>\n",
       "      <td>0.100000</td>\n",
       "      <td>0.100</td>\n",
       "    </tr>\n",
       "    <tr>\n",
       "      <th>dst_host_rerror_rate</th>\n",
       "      <td>617550.0</td>\n",
       "      <td>0.0</td>\n",
       "      <td>3934.32900</td>\n",
       "      <td>6.370867e-03</td>\n",
       "      <td>0.00000</td>\n",
       "      <td>0.023800</td>\n",
       "      <td>5.664629e-04</td>\n",
       "      <td>0.0</td>\n",
       "      <td>0.000</td>\n",
       "      <td>0.000</td>\n",
       "      <td>0.000</td>\n",
       "      <td>0.000</td>\n",
       "      <td>0.00000</td>\n",
       "      <td>0.00000</td>\n",
       "      <td>0.00000</td>\n",
       "      <td>0.10000</td>\n",
       "      <td>0.100000</td>\n",
       "      <td>0.100</td>\n",
       "    </tr>\n",
       "    <tr>\n",
       "      <th>dst_host_srv_rerror_rate</th>\n",
       "      <td>617550.0</td>\n",
       "      <td>0.0</td>\n",
       "      <td>3889.03800</td>\n",
       "      <td>6.297527e-03</td>\n",
       "      <td>0.00000</td>\n",
       "      <td>0.024054</td>\n",
       "      <td>5.786133e-04</td>\n",
       "      <td>0.0</td>\n",
       "      <td>0.000</td>\n",
       "      <td>0.000</td>\n",
       "      <td>0.000</td>\n",
       "      <td>0.000</td>\n",
       "      <td>0.00000</td>\n",
       "      <td>0.00000</td>\n",
       "      <td>0.00000</td>\n",
       "      <td>0.10000</td>\n",
       "      <td>0.100000</td>\n",
       "      <td>0.100</td>\n",
       "    </tr>\n",
       "    <tr>\n",
       "      <th>B_target</th>\n",
       "      <td>617550.0</td>\n",
       "      <td>0.0</td>\n",
       "      <td>240840.00000</td>\n",
       "      <td>3.899927e-01</td>\n",
       "      <td>0.00000</td>\n",
       "      <td>0.487749</td>\n",
       "      <td>2.378988e-01</td>\n",
       "      <td>0.0</td>\n",
       "      <td>0.000</td>\n",
       "      <td>0.000</td>\n",
       "      <td>0.000</td>\n",
       "      <td>0.000</td>\n",
       "      <td>0.00000</td>\n",
       "      <td>1.00000</td>\n",
       "      <td>1.00000</td>\n",
       "      <td>1.00000</td>\n",
       "      <td>1.000000</td>\n",
       "      <td>1.000</td>\n",
       "    </tr>\n",
       "  </tbody>\n",
       "</table>\n",
       "</div>"
      ],
      "text/plain": [
       "                                    N  NMISS           SUM          MEAN  \\\n",
       "duration                     617550.0    0.0     575.67460  9.321911e-04   \n",
       "protocol_type                617550.0    0.0     339.60000  5.499150e-04   \n",
       "service                      617550.0    0.0   41533.40000  6.725512e-02   \n",
       "flag                         617550.0    0.0   16258.81000  2.632792e-02   \n",
       "src_bytes                    617550.0    0.0    2841.78149  4.601703e-03   \n",
       "dst_bytes                    617550.0    0.0   13309.62841  2.155231e-02   \n",
       "wrong_fragment               617550.0    0.0       0.30000  4.857906e-07   \n",
       "urgent                       617550.0    0.0       1.20000  1.943162e-06   \n",
       "hot                          617550.0    0.0    1370.70000  2.219577e-03   \n",
       "num_failed_logins            617550.0    0.0      10.20000  1.651688e-05   \n",
       "logged_in                    617550.0    0.0   34105.00000  5.522630e-02   \n",
       "num_compromised              617550.0    0.0     182.20000  2.950368e-04   \n",
       "root_shell                   617550.0    0.0      17.70000  2.866165e-05   \n",
       "su_attempted                 617550.0    0.0       6.00000  9.715812e-06   \n",
       "num_root                     617550.0    0.0     778.30000  1.260303e-03   \n",
       "num_file_creations           617550.0    0.0     160.70000  2.602218e-04   \n",
       "num_shells                   617550.0    0.0      10.40000  1.684074e-05   \n",
       "num_access_files             617550.0    0.0     188.30000  3.049146e-04   \n",
       "is_host_login                617550.0    0.0       0.10000  1.619302e-07   \n",
       "is_guest_login               617550.0    0.0     147.10000  2.381993e-04   \n",
       "count                        617550.0    0.0   46892.44000  7.593303e-02   \n",
       "srv_count                    617550.0    0.0    8772.39800  1.420516e-02   \n",
       "serror_rate                  617550.0    0.0   20271.73600  3.282606e-02   \n",
       "srv_error_rate               617550.0    0.0   20343.93400  3.294297e-02   \n",
       "rerror_rate                  617550.0    0.0    3951.33100  6.398399e-03   \n",
       "srv_rerror_rate              617550.0    0.0    3915.61100  6.340557e-03   \n",
       "same_srv_rate                617550.0    0.0   40154.90600  6.502292e-02   \n",
       "diff_srv_rate                617550.0    0.0    2264.53200  3.666961e-03   \n",
       "srv_diff_host_rate           617550.0    0.0    5420.28800  8.777084e-03   \n",
       "dst_host_count               617550.0    0.0  110169.06100  1.783970e-01   \n",
       "dst_host_srv_count           617550.0    0.0   87540.74800  1.417549e-01   \n",
       "dst_host_same_srv_rate       617550.0    0.0   36197.41400  5.861455e-02   \n",
       "dst_host_diff_srv_rate       617550.0    0.0    2526.44700  4.091081e-03   \n",
       "dst_host_same_src_port_rate  617550.0    0.0    3515.64700  5.692895e-03   \n",
       "dst_host_srv_diff_host_rate  617550.0    0.0     907.43900  1.469418e-03   \n",
       "dst_host_serror_rate         617550.0    0.0   20292.86600  3.286028e-02   \n",
       "dst_host_srv_serror_rate     617550.0    0.0   20302.55700  3.287597e-02   \n",
       "dst_host_rerror_rate         617550.0    0.0    3934.32900  6.370867e-03   \n",
       "dst_host_srv_rerror_rate     617550.0    0.0    3889.03800  6.297527e-03   \n",
       "B_target                     617550.0    0.0  240840.00000  3.899927e-01   \n",
       "\n",
       "                              MEDIAN       STD           VAR  MIN     P1  \\\n",
       "duration                     0.00000  0.027758  7.705004e-04  0.0  0.000   \n",
       "protocol_type                0.00000  0.002613  6.827068e-06  0.0  0.000   \n",
       "service                      0.01000  0.105647  1.116130e-02  0.0  0.000   \n",
       "flag                         0.00000  0.033097  1.095386e-03  0.0  0.000   \n",
       "src_bytes                    0.00202  0.033523  1.123824e-03  0.0  0.000   \n",
       "dst_bytes                    0.00302  0.062519  3.908677e-03  0.0  0.000   \n",
       "wrong_fragment               0.00000  0.000382  1.457372e-07  0.0  0.000   \n",
       "urgent                       0.00000  0.000742  5.505598e-07  0.0  0.000   \n",
       "hot                          0.00000  0.038708  1.498323e-03  0.0  0.000   \n",
       "num_failed_logins            0.00000  0.001630  2.655387e-06  0.0  0.000   \n",
       "logged_in                    0.10000  0.049726  2.472690e-03  0.0  0.000   \n",
       "num_compromised              0.00000  0.009929  9.859338e-05  0.0  0.000   \n",
       "root_shell                   0.00000  0.001693  2.865348e-06  0.0  0.000   \n",
       "su_attempted                 0.00000  0.001310  1.716369e-06  0.0  0.000   \n",
       "num_root                     0.00000  0.029339  8.607724e-04  0.0  0.000   \n",
       "num_file_creations           0.00000  0.011415  1.303025e-04  0.0  0.000   \n",
       "num_shells                   0.00000  0.001310  1.716179e-06  0.0  0.000   \n",
       "num_access_files             0.00000  0.006149  3.781495e-05  0.0  0.000   \n",
       "is_host_login                0.00000  0.000127  1.619302e-08  0.0  0.000   \n",
       "is_guest_login               0.00000  0.004875  2.376323e-05  0.0  0.000   \n",
       "count                        0.01500  0.100096  1.001926e-02  0.0  0.001   \n",
       "srv_count                    0.00900  0.033522  1.123718e-03  0.0  0.001   \n",
       "serror_rate                  0.00000  0.046827  2.192761e-03  0.0  0.000   \n",
       "srv_error_rate               0.00000  0.046911  2.200645e-03  0.0  0.000   \n",
       "rerror_rate                  0.00000  0.024271  5.890760e-04  0.0  0.000   \n",
       "srv_rerror_rate              0.00000  0.024182  5.847690e-04  0.0  0.000   \n",
       "same_srv_rate                0.10000  0.044878  2.014044e-03  0.0  0.000   \n",
       "diff_srv_rate                0.00000  0.010675  1.139483e-04  0.0  0.000   \n",
       "srv_diff_host_rate           0.00000  0.022298  4.972152e-04  0.0  0.000   \n",
       "dst_host_count               0.25500  0.099657  9.931501e-03  0.0  0.001   \n",
       "dst_host_srv_count           0.19300  0.115840  1.341884e-02  0.0  0.001   \n",
       "dst_host_same_srv_rate       0.09800  0.045653  2.084199e-03  0.0  0.000   \n",
       "dst_host_diff_srv_rate       0.00100  0.009290  8.631091e-05  0.0  0.000   \n",
       "dst_host_same_src_port_rate  0.00000  0.017232  2.969376e-04  0.0  0.000   \n",
       "dst_host_srv_diff_host_rate  0.00000  0.003545  1.256357e-05  0.0  0.000   \n",
       "dst_host_serror_rate         0.00000  0.046814  2.191545e-03  0.0  0.000   \n",
       "dst_host_srv_serror_rate     0.00000  0.046920  2.201530e-03  0.0  0.000   \n",
       "dst_host_rerror_rate         0.00000  0.023800  5.664629e-04  0.0  0.000   \n",
       "dst_host_srv_rerror_rate     0.00000  0.024054  5.786133e-04  0.0  0.000   \n",
       "B_target                     0.00000  0.487749  2.378988e-01  0.0  0.000   \n",
       "\n",
       "                                P5    P10    P25      P50      P75      P90  \\\n",
       "duration                     0.000  0.000  0.000  0.00000  0.00000  0.00000   \n",
       "protocol_type                0.000  0.000  0.000  0.00000  0.00000  0.00000   \n",
       "service                      0.000  0.000  0.000  0.01000  0.12000  0.12000   \n",
       "flag                         0.000  0.000  0.000  0.00000  0.07000  0.07000   \n",
       "src_bytes                    0.000  0.000  0.000  0.00202  0.00288  0.00347   \n",
       "dst_bytes                    0.000  0.000  0.000  0.00302  0.01582  0.05639   \n",
       "wrong_fragment               0.000  0.000  0.000  0.00000  0.00000  0.00000   \n",
       "urgent                       0.000  0.000  0.000  0.00000  0.00000  0.00000   \n",
       "hot                          0.000  0.000  0.000  0.00000  0.00000  0.00000   \n",
       "num_failed_logins            0.000  0.000  0.000  0.00000  0.00000  0.00000   \n",
       "logged_in                    0.000  0.000  0.000  0.10000  0.10000  0.10000   \n",
       "num_compromised              0.000  0.000  0.000  0.00000  0.00000  0.00000   \n",
       "root_shell                   0.000  0.000  0.000  0.00000  0.00000  0.00000   \n",
       "su_attempted                 0.000  0.000  0.000  0.00000  0.00000  0.00000   \n",
       "num_root                     0.000  0.000  0.000  0.00000  0.00000  0.00000   \n",
       "num_file_creations           0.000  0.000  0.000  0.00000  0.00000  0.00000   \n",
       "num_shells                   0.000  0.000  0.000  0.00000  0.00000  0.00000   \n",
       "num_access_files             0.000  0.000  0.000  0.00000  0.00000  0.00000   \n",
       "is_host_login                0.000  0.000  0.000  0.00000  0.00000  0.00000   \n",
       "is_guest_login               0.000  0.000  0.000  0.00000  0.00000  0.00000   \n",
       "count                        0.001  0.001  0.003  0.01500  0.13300  0.24400   \n",
       "srv_count                    0.001  0.001  0.003  0.00900  0.01600  0.02400   \n",
       "serror_rate                  0.000  0.000  0.000  0.00000  0.10000  0.10000   \n",
       "srv_error_rate               0.000  0.000  0.000  0.00000  0.10000  0.10000   \n",
       "rerror_rate                  0.000  0.000  0.000  0.00000  0.00000  0.00000   \n",
       "srv_rerror_rate              0.000  0.000  0.000  0.00000  0.00000  0.00000   \n",
       "same_srv_rate                0.002  0.003  0.008  0.10000  0.10000  0.10000   \n",
       "diff_srv_rate                0.000  0.000  0.000  0.00000  0.00600  0.00700   \n",
       "srv_diff_host_rate           0.000  0.000  0.000  0.00000  0.00100  0.02700   \n",
       "dst_host_count               0.007  0.016  0.071  0.25500  0.25500  0.25500   \n",
       "dst_host_srv_count           0.003  0.005  0.013  0.19300  0.25500  0.25500   \n",
       "dst_host_same_srv_rate       0.001  0.002  0.005  0.09800  0.10000  0.10000   \n",
       "dst_host_diff_srv_rate       0.000  0.000  0.000  0.00100  0.00700  0.00800   \n",
       "dst_host_same_src_port_rate  0.000  0.000  0.000  0.00000  0.00200  0.01200   \n",
       "dst_host_srv_diff_host_rate  0.000  0.000  0.000  0.00000  0.00200  0.00400   \n",
       "dst_host_serror_rate         0.000  0.000  0.000  0.00000  0.10000  0.10000   \n",
       "dst_host_srv_serror_rate     0.000  0.000  0.000  0.00000  0.10000  0.10000   \n",
       "dst_host_rerror_rate         0.000  0.000  0.000  0.00000  0.00000  0.00000   \n",
       "dst_host_srv_rerror_rate     0.000  0.000  0.000  0.00000  0.00000  0.00000   \n",
       "B_target                     0.000  0.000  0.000  0.00000  1.00000  1.00000   \n",
       "\n",
       "                                 P95       P99    MAX  \n",
       "duration                     0.00000  0.001300  1.000  \n",
       "protocol_type                0.00000  0.010000  0.020  \n",
       "service                      0.25000  0.550000  0.670  \n",
       "flag                         0.07000  0.070000  0.100  \n",
       "src_bytes                    0.01032  0.058910  1.000  \n",
       "dst_bytes                    0.10563  0.287866  1.000  \n",
       "wrong_fragment               0.00000  0.000000  0.300  \n",
       "urgent                       0.00000  0.000000  0.500  \n",
       "hot                          0.00000  0.000000  1.000  \n",
       "num_failed_logins            0.00000  0.000000  0.500  \n",
       "logged_in                    0.10000  0.100000  0.100  \n",
       "num_compromised              0.00000  0.000000  1.000  \n",
       "root_shell                   0.00000  0.000000  0.100  \n",
       "su_attempted                 0.00000  0.000000  0.200  \n",
       "num_root                     0.00000  0.000000  1.000  \n",
       "num_file_creations           0.00000  0.000000  1.000  \n",
       "num_shells                   0.00000  0.000000  0.200  \n",
       "num_access_files             0.00000  0.000000  0.900  \n",
       "is_host_login                0.00000  0.000000  0.100  \n",
       "is_guest_login               0.00000  0.000000  0.100  \n",
       "count                        0.27300  0.298000  0.511  \n",
       "srv_count                    0.03400  0.131000  0.511  \n",
       "serror_rate                  0.10000  0.100000  0.100  \n",
       "srv_error_rate               0.10000  0.100000  0.100  \n",
       "rerror_rate                  0.10000  0.100000  0.100  \n",
       "srv_rerror_rate              0.10000  0.100000  0.100  \n",
       "same_srv_rate                0.10000  0.100000  0.100  \n",
       "diff_srv_rate                0.00800  0.067000  0.100  \n",
       "srv_diff_host_rate           0.06700  0.100000  0.100  \n",
       "dst_host_count               0.25500  0.255000  0.255  \n",
       "dst_host_srv_count           0.25500  0.255000  0.255  \n",
       "dst_host_same_srv_rate       0.10000  0.100000  0.100  \n",
       "dst_host_diff_srv_rate       0.00900  0.050000  0.100  \n",
       "dst_host_same_src_port_rate  0.03300  0.100000  0.100  \n",
       "dst_host_srv_diff_host_rate  0.00600  0.017000  0.100  \n",
       "dst_host_serror_rate         0.10000  0.100000  0.100  \n",
       "dst_host_srv_serror_rate     0.10000  0.100000  0.100  \n",
       "dst_host_rerror_rate         0.10000  0.100000  0.100  \n",
       "dst_host_srv_rerror_rate     0.10000  0.100000  0.100  \n",
       "B_target                     1.00000  1.000000  1.000  "
      ]
     },
     "execution_count": 96,
     "metadata": {},
     "output_type": "execute_result"
    }
   ],
   "source": [
    "num_summary"
   ]
  },
  {
   "cell_type": "code",
   "execution_count": null,
   "metadata": {},
   "outputs": [],
   "source": []
  },
  {
   "cell_type": "code",
   "execution_count": 97,
   "metadata": {},
   "outputs": [],
   "source": [
    "#df1 = df1.apply( lambda x: x.clip(lower = x.quantile(0.01), upper = x.quantile(0.99)) )"
   ]
  },
  {
   "cell_type": "code",
   "execution_count": 98,
   "metadata": {},
   "outputs": [
    {
     "data": {
      "image/png": "[encoded data removed]",
      "text/plain": [
       "<Figure size 1152x360 with 1 Axes>"
      ]
     },
     "metadata": {
      "needs_background": "light"
     },
     "output_type": "display_data"
    },
    {
     "data": {
      "image/png": "[encoded data removed]",
      "text/plain": [
       "<Figure size 1152x360 with 1 Axes>"
      ]
     },
     "metadata": {
      "needs_background": "light"
     },
     "output_type": "display_data"
    },
    {
     "data": {
      "image/png": "[encoded data removed]",
      "text/plain": [
       "<Figure size 1152x360 with 1 Axes>"
      ]
     },
     "metadata": {
      "needs_background": "light"
     },
     "output_type": "display_data"
    },
    {
     "data": {
      "image/png": "[encoded data removed]",
      "text/plain": [
       "<Figure size 1152x360 with 1 Axes>"
      ]
     },
     "metadata": {
      "needs_background": "light"
     },
     "output_type": "display_data"
    },
    {
     "data": {
      "image/png": "[encoded data removed]",
      "text/plain": [
       "<Figure size 1152x360 with 1 Axes>"
      ]
     },
     "metadata": {
      "needs_background": "light"
     },
     "output_type": "display_data"
    },
    {
     "data": {
      "image/png": "[encoded data removed]",
      "text/plain": [
       "<Figure size 1152x360 with 1 Axes>"
      ]
     },
     "metadata": {
      "needs_background": "light"
     },
     "output_type": "display_data"
    },
    {
     "data": {
      "image/png": "[encoded data removed]",
      "text/plain": [
       "<Figure size 1152x360 with 1 Axes>"
      ]
     },
     "metadata": {
      "needs_background": "light"
     },
     "output_type": "display_data"
    },
    {
     "data": {
      "image/png": "[encoded data removed]",
      "text/plain": [
       "<Figure size 1152x360 with 1 Axes>"
      ]
     },
     "metadata": {
      "needs_background": "light"
     },
     "output_type": "display_data"
    },
    {
     "data": {
      "image/png": "[encoded data removed]",
      "text/plain": [
       "<Figure size 1152x360 with 1 Axes>"
      ]
     },
     "metadata": {
      "needs_background": "light"
     },
     "output_type": "display_data"
    },
    {
     "data": {
      "image/png": "[encoded data removed]",
      "text/plain": [
       "<Figure size 1152x360 with 1 Axes>"
      ]
     },
     "metadata": {
      "needs_background": "light"
     },
     "output_type": "display_data"
    },
    {
     "data": {
      "image/png": "[encoded data removed]",
      "text/plain": [
       "<Figure size 1152x360 with 1 Axes>"
      ]
     },
     "metadata": {
      "needs_background": "light"
     },
     "output_type": "display_data"
    },
    {
     "data": {
      "image/png": "[encoded data removed]",
      "text/plain": [
       "<Figure size 1152x360 with 1 Axes>"
      ]
     },
     "metadata": {
      "needs_background": "light"
     },
     "output_type": "display_data"
    },
    {
     "data": {
      "image/png": "[encoded data removed]",
      "text/plain": [
       "<Figure size 1152x360 with 1 Axes>"
      ]
     },
     "metadata": {
      "needs_background": "light"
     },
     "output_type": "display_data"
    },
    {
     "data": {
      "image/png": "[encoded data removed]",
      "text/plain": [
       "<Figure size 1152x360 with 1 Axes>"
      ]
     },
     "metadata": {
      "needs_background": "light"
     },
     "output_type": "display_data"
    },
    {
     "data": {
      "image/png": "[encoded data removed]",
      "text/plain": [
       "<Figure size 1152x360 with 1 Axes>"
      ]
     },
     "metadata": {
      "needs_background": "light"
     },
     "output_type": "display_data"
    },
    {
     "data": {
      "image/png": "[encoded data removed]",
      "text/plain": [
       "<Figure size 1152x360 with 1 Axes>"
      ]
     },
     "metadata": {
      "needs_background": "light"
     },
     "output_type": "display_data"
    },
    {
     "data": {
      "image/png": "[encoded data removed]",
      "text/plain": [
       "<Figure size 1152x360 with 1 Axes>"
      ]
     },
     "metadata": {
      "needs_background": "light"
     },
     "output_type": "display_data"
    },
    {
     "data": {
      "image/png": "[encoded data removed]",
      "text/plain": [
       "<Figure size 1152x360 with 1 Axes>"
      ]
     },
     "metadata": {
      "needs_background": "light"
     },
     "output_type": "display_data"
    },
    {
     "data": {
      "image/png": "[encoded data removed]",
      "text/plain": [
       "<Figure size 1152x360 with 1 Axes>"
      ]
     },
     "metadata": {
      "needs_background": "light"
     },
     "output_type": "display_data"
    },
    {
     "data": {
      "image/png": "[encoded data removed]",
      "text/plain": [
       "<Figure size 1152x360 with 1 Axes>"
      ]
     },
     "metadata": {
      "needs_background": "light"
     },
     "output_type": "display_data"
    },
    {
     "data": {
      "image/png": "[encoded data removed]",
      "text/plain": [
       "<Figure size 1152x360 with 1 Axes>"
      ]
     },
     "metadata": {
      "needs_background": "light"
     },
     "output_type": "display_data"
    },
    {
     "data": {
      "image/png": "[encoded data removed]",
      "text/plain": [
       "<Figure size 1152x360 with 1 Axes>"
      ]
     },
     "metadata": {
      "needs_background": "light"
     },
     "output_type": "display_data"
    },
    {
     "data": {
      "image/png": "[encoded data removed]",
      "text/plain": [
       "<Figure size 1152x360 with 1 Axes>"
      ]
     },
     "metadata": {
      "needs_background": "light"
     },
     "output_type": "display_data"
    },
    {
     "data": {
      "image/png": "[encoded data removed]",
      "text/plain": [
       "<Figure size 1152x360 with 1 Axes>"
      ]
     },
     "metadata": {
      "needs_background": "light"
     },
     "output_type": "display_data"
    },
    {
     "data": {
      "image/png": "[encoded data removed]",
      "text/plain": [
       "<Figure size 1152x360 with 1 Axes>"
      ]
     },
     "metadata": {
      "needs_background": "light"
     },
     "output_type": "display_data"
    },
    {
     "data": {
      "image/png": "[encoded data removed]",
      "text/plain": [
       "<Figure size 1152x360 with 1 Axes>"
      ]
     },
     "metadata": {
      "needs_background": "light"
     },
     "output_type": "display_data"
    },
    {
     "data": {
      "image/png": "[encoded data removed]",
      "text/plain": [
       "<Figure size 1152x360 with 1 Axes>"
      ]
     },
     "metadata": {
      "needs_background": "light"
     },
     "output_type": "display_data"
    },
    {
     "data": {
      "image/png": "[encoded data removed]",
      "text/plain": [
       "<Figure size 1152x360 with 1 Axes>"
      ]
     },
     "metadata": {
      "needs_background": "light"
     },
     "output_type": "display_data"
    },
    {
     "data": {
      "image/png": "[encoded data removed]",
      "text/plain": [
       "<Figure size 1152x360 with 1 Axes>"
      ]
     },
     "metadata": {
      "needs_background": "light"
     },
     "output_type": "display_data"
    },
    {
     "data": {
      "image/png": "[encoded data removed]",
      "text/plain": [
       "<Figure size 1152x360 with 1 Axes>"
      ]
     },
     "metadata": {
      "needs_background": "light"
     },
     "output_type": "display_data"
    },
    {
     "data": {
      "image/png": "[encoded data removed]",
      "text/plain": [
       "<Figure size 1152x360 with 1 Axes>"
      ]
     },
     "metadata": {
      "needs_background": "light"
     },
     "output_type": "display_data"
    },
    {
     "data": {
      "image/png": "[encoded data removed]",
      "text/plain": [
       "<Figure size 1152x360 with 1 Axes>"
      ]
     },
     "metadata": {
      "needs_background": "light"
     },
     "output_type": "display_data"
    },
    {
     "data": {
      "image/png": "[encoded data removed]",
      "text/plain": [
       "<Figure size 1152x360 with 1 Axes>"
      ]
     },
     "metadata": {
      "needs_background": "light"
     },
     "output_type": "display_data"
    },
    {
     "data": {
      "image/png": "[encoded data removed]",
      "text/plain": [
       "<Figure size 1152x360 with 1 Axes>"
      ]
     },
     "metadata": {
      "needs_background": "light"
     },
     "output_type": "display_data"
    },
    {
     "data": {
      "image/png": "[encoded data removed]",
      "text/plain": [
       "<Figure size 1152x360 with 1 Axes>"
      ]
     },
     "metadata": {
      "needs_background": "light"
     },
     "output_type": "display_data"
    },
    {
     "data": {
      "image/png": "[encoded data removed]",
      "text/plain": [
       "<Figure size 1152x360 with 1 Axes>"
      ]
     },
     "metadata": {
      "needs_background": "light"
     },
     "output_type": "display_data"
    },
    {
     "data": {
      "image/png": "[encoded data removed]",
      "text/plain": [
       "<Figure size 1152x360 with 1 Axes>"
      ]
     },
     "metadata": {
      "needs_background": "light"
     },
     "output_type": "display_data"
    },
    {
     "data": {
      "image/png": "[encoded data removed]",
      "text/plain": [
       "<Figure size 1152x360 with 1 Axes>"
      ]
     },
     "metadata": {
      "needs_background": "light"
     },
     "output_type": "display_data"
    },
    {
     "data": {
      "image/png": "[encoded data removed]",
      "text/plain": [
       "<Figure size 1152x360 with 1 Axes>"
      ]
     },
     "metadata": {
      "needs_background": "light"
     },
     "output_type": "display_data"
    },
    {
     "data": {
      "image/png": "[encoded data removed]",
      "text/plain": [
       "<Figure size 1152x360 with 1 Axes>"
      ]
     },
     "metadata": {
      "needs_background": "light"
     },
     "output_type": "display_data"
    }
   ],
   "source": [
    "for i in df1.columns:\n",
    "    plt.figure(figsize=(16,5))\n",
    "    sns.boxplot(x = i, data = df1)\n",
    "    plt.show()"
   ]
  },
  {
   "cell_type": "code",
   "execution_count": 99,
   "metadata": {},
   "outputs": [],
   "source": [
    "IQR=df.duration.quantile(0.75)-df.duration.quantile(0.25)"
   ]
  },
  {
   "cell_type": "code",
   "execution_count": 100,
   "metadata": {},
   "outputs": [
    {
     "name": "stdout",
     "output_type": "stream",
     "text": [
      "0.0\n",
      "0.0\n"
     ]
    },
    {
     "data": {
      "text/plain": [
       "(None, None)"
      ]
     },
     "execution_count": 100,
     "metadata": {},
     "output_type": "execute_result"
    }
   ],
   "source": [
    "lower_bridge=df['duration'].quantile(0.25)-(IQR*3)\n",
    "upper_bridge=df['duration'].quantile(0.75)+(IQR*3)\n",
    "print(lower_bridge), print(upper_bridge)"
   ]
  },
  {
   "cell_type": "code",
   "execution_count": 101,
   "metadata": {},
   "outputs": [
    {
     "data": {
      "text/plain": [
       "Index(['duration', 'protocol_type', 'service', 'flag', 'src_bytes',\n",
       "       'dst_bytes', 'wrong_fragment', 'urgent', 'hot', 'num_failed_logins',\n",
       "       'logged_in', 'num_compromised', 'root_shell', 'su_attempted',\n",
       "       'num_root', 'num_file_creations', 'num_shells', 'num_access_files',\n",
       "       'is_host_login', 'is_guest_login', 'count', 'srv_count', 'serror_rate',\n",
       "       'srv_error_rate', 'rerror_rate', 'srv_rerror_rate', 'same_srv_rate',\n",
       "       'diff_srv_rate', 'srv_diff_host_rate', 'dst_host_count',\n",
       "       'dst_host_srv_count', 'dst_host_same_srv_rate',\n",
       "       'dst_host_diff_srv_rate', 'dst_host_same_src_port_rate',\n",
       "       'dst_host_srv_diff_host_rate', 'dst_host_serror_rate',\n",
       "       'dst_host_srv_serror_rate', 'dst_host_rerror_rate',\n",
       "       'dst_host_srv_rerror_rate', 'B_target'],\n",
       "      dtype='object')"
      ]
     },
     "execution_count": 101,
     "metadata": {},
     "output_type": "execute_result"
    }
   ],
   "source": [
    "df1.columns"
   ]
  },
  {
   "cell_type": "code",
   "execution_count": 102,
   "metadata": {},
   "outputs": [
    {
     "data": {
      "image/png": "[encoded data removed]",
      "text/plain": [
       "<Figure size 1080x864 with 2 Axes>"
      ]
     },
     "metadata": {
      "needs_background": "light"
     },
     "output_type": "display_data"
    }
   ],
   "source": [
    "## correlationships \n",
    "plt.figure(figsize=(15,12))\n",
    "sns.heatmap(df1.drop(['logged_in','flag','same_srv_rate'], axis = 1).corr())\n",
    "plt.show()"
   ]
  },
  {
   "cell_type": "code",
   "execution_count": 103,
   "metadata": {},
   "outputs": [],
   "source": [
    "def correlation(dataset, threshold):\n",
    "    col_corr = set()  # Set of all the names of correlated columns\n",
    "    corr_matrix = dataset.corr()\n",
    "    for i in range(len(corr_matrix.columns)):\n",
    "        for j in range(i):\n",
    "            if abs(corr_matrix.iloc[i, j]) > threshold: # we are interested in absolute coeff value\n",
    "                colname = corr_matrix.columns[i]  # getting the name of column\n",
    "                col_corr.add(colname)\n",
    "    return col_corr"
   ]
  },
  {
   "cell_type": "code",
   "execution_count": 104,
   "metadata": {},
   "outputs": [
    {
     "data": {
      "text/plain": [
       "20"
      ]
     },
     "execution_count": 104,
     "metadata": {},
     "output_type": "execute_result"
    }
   ],
   "source": [
    "len(correlation(df1, 0.5 ))"
   ]
  },
  {
   "cell_type": "code",
   "execution_count": 105,
   "metadata": {},
   "outputs": [],
   "source": [
    "cor_features = correlation(df1, 0.5 )"
   ]
  },
  {
   "cell_type": "code",
   "execution_count": 106,
   "metadata": {},
   "outputs": [],
   "source": [
    "features = df1.drop(cor_features , axis =1 )"
   ]
  },
  {
   "cell_type": "markdown",
   "metadata": {},
   "source": [
    "features using correlation "
   ]
  },
  {
   "cell_type": "code",
   "execution_count": 107,
   "metadata": {},
   "outputs": [],
   "source": [
    "features_corr = features"
   ]
  },
  {
   "cell_type": "markdown",
   "metadata": {},
   "source": [
    "### Feature selection using mutal information gain "
   ]
  },
  {
   "cell_type": "code",
   "execution_count": 108,
   "metadata": {},
   "outputs": [],
   "source": [
    "from sklearn.feature_selection import mutual_info_classif"
   ]
  },
  {
   "cell_type": "code",
   "execution_count": 109,
   "metadata": {},
   "outputs": [],
   "source": [
    "x_mi=df1.drop('B_target', axis =1)"
   ]
  },
  {
   "cell_type": "code",
   "execution_count": 110,
   "metadata": {},
   "outputs": [],
   "source": [
    "y_mi = df1.B_target"
   ]
  },
  {
   "cell_type": "code",
   "execution_count": 111,
   "metadata": {},
   "outputs": [],
   "source": [
    "mutual_info = mutual_info_classif(x_mi,y_mi)"
   ]
  },
  {
   "cell_type": "code",
   "execution_count": 112,
   "metadata": {},
   "outputs": [],
   "source": [
    "mutual_info = pd.Series(mutual_info)"
   ]
  },
  {
   "cell_type": "code",
   "execution_count": 113,
   "metadata": {},
   "outputs": [],
   "source": [
    "mutual_info.index = x_mi.columns"
   ]
  },
  {
   "cell_type": "code",
   "execution_count": 114,
   "metadata": {},
   "outputs": [],
   "source": [
    "mi_final =mutual_info.sort_values(ascending = False).head(15)"
   ]
  },
  {
   "cell_type": "code",
   "execution_count": 115,
   "metadata": {},
   "outputs": [],
   "source": [
    "mutual_df = pd.DataFrame (mutual_info)"
   ]
  },
  {
   "cell_type": "code",
   "execution_count": 116,
   "metadata": {},
   "outputs": [],
   "source": [
    "mi_final = mutual_df.sort_values(0,ascending = False).head(15)"
   ]
  },
  {
   "cell_type": "code",
   "execution_count": null,
   "metadata": {},
   "outputs": [],
   "source": []
  },
  {
   "cell_type": "markdown",
   "metadata": {},
   "source": [
    "mi_final = list(mi_final.variable.values)"
   ]
  },
  {
   "cell_type": "code",
   "execution_count": 117,
   "metadata": {},
   "outputs": [],
   "source": [
    "mi_final = list(mutual_df.index.values)"
   ]
  },
  {
   "cell_type": "code",
   "execution_count": null,
   "metadata": {},
   "outputs": [],
   "source": []
  },
  {
   "cell_type": "markdown",
   "metadata": {},
   "source": [
    "### selection of top 20 percentile from mutual information gain "
   ]
  },
  {
   "cell_type": "code",
   "execution_count": 118,
   "metadata": {},
   "outputs": [],
   "source": [
    "from sklearn.feature_selection import SelectPercentile"
   ]
  },
  {
   "cell_type": "code",
   "execution_count": 119,
   "metadata": {},
   "outputs": [],
   "source": [
    "selected_top_columns = SelectPercentile(mutual_info_classif, percentile = 20 )"
   ]
  },
  {
   "cell_type": "code",
   "execution_count": 120,
   "metadata": {},
   "outputs": [
    {
     "data": {
      "text/plain": [
       "SelectPercentile(percentile=20,\n",
       "                 score_func=<function mutual_info_classif at 0x7f8ae2437af0>)"
      ]
     },
     "execution_count": 120,
     "metadata": {},
     "output_type": "execute_result"
    }
   ],
   "source": [
    "selected_top_columns.fit(x_mi,y_mi)"
   ]
  },
  {
   "cell_type": "code",
   "execution_count": 121,
   "metadata": {},
   "outputs": [],
   "source": [
    "top_20 = x_mi.columns[selected_top_columns.get_support()]"
   ]
  },
  {
   "cell_type": "code",
   "execution_count": 122,
   "metadata": {},
   "outputs": [],
   "source": [
    "top_20 = list(top_20)"
   ]
  },
  {
   "cell_type": "code",
   "execution_count": null,
   "metadata": {},
   "outputs": [],
   "source": []
  },
  {
   "cell_type": "code",
   "execution_count": null,
   "metadata": {},
   "outputs": [],
   "source": []
  },
  {
   "cell_type": "code",
   "execution_count": null,
   "metadata": {},
   "outputs": [],
   "source": []
  },
  {
   "cell_type": "markdown",
   "metadata": {},
   "source": [
    "### Univariate regression "
   ]
  },
  {
   "cell_type": "code",
   "execution_count": 123,
   "metadata": {},
   "outputs": [],
   "source": [
    "import statsmodels.formula.api as smf\n",
    "from sklearn import metrics"
   ]
  },
  {
   "cell_type": "code",
   "execution_count": 124,
   "metadata": {},
   "outputs": [
    {
     "name": "stdout",
     "output_type": "stream",
     "text": [
      "Optimization terminated successfully.\n",
      "         Current function value: 0.157827\n",
      "         Iterations 9\n",
      "Optimization terminated successfully.\n",
      "         Current function value: 0.399529\n",
      "         Iterations 8\n"
     ]
    },
    {
     "name": "stderr",
     "output_type": "stream",
     "text": [
      "/Users/abin/opt/anaconda3/lib/python3.8/site-packages/statsmodels/discrete/discrete_model.py:1799: RuntimeWarning: overflow encountered in exp\n",
      "  return 1/(1+np.exp(-X))\n",
      "/Users/abin/opt/anaconda3/lib/python3.8/site-packages/statsmodels/discrete/discrete_model.py:1852: RuntimeWarning: divide by zero encountered in log\n",
      "  return np.sum(np.log(self.cdf(q*np.dot(X,params))))\n"
     ]
    },
    {
     "name": "stdout",
     "output_type": "stream",
     "text": [
      "Optimization terminated successfully.\n",
      "         Current function value: inf\n",
      "         Iterations 12\n",
      "Optimization terminated successfully.\n",
      "         Current function value: 0.430224\n",
      "         Iterations 9\n",
      "Optimization terminated successfully.\n",
      "         Current function value: 0.382438\n",
      "         Iterations 8\n",
      "Optimization terminated successfully.\n",
      "         Current function value: 0.645662\n",
      "         Iterations 5\n",
      "Optimization terminated successfully.\n",
      "         Current function value: 0.657988\n",
      "         Iterations 6\n",
      "Optimization terminated successfully.\n",
      "         Current function value: 0.127571\n",
      "         Iterations 9\n",
      "Optimization terminated successfully.\n",
      "         Current function value: 0.206924\n",
      "         Iterations 12\n",
      "Optimization terminated successfully.\n",
      "         Current function value: 0.156529\n",
      "         Iterations 10\n",
      "Optimization terminated successfully.\n",
      "         Current function value: 0.510768\n",
      "         Iterations 10\n",
      "Optimization terminated successfully.\n",
      "         Current function value: 0.645354\n",
      "         Iterations 5\n",
      "Optimization terminated successfully.\n",
      "         Current function value: 0.206537\n",
      "         Iterations 12\n",
      "Optimization terminated successfully.\n",
      "         Current function value: 0.668663\n",
      "         Iterations 4\n",
      "Optimization terminated successfully.\n",
      "         Current function value: 0.096014\n",
      "         Iterations 8\n",
      "Optimization terminated successfully.\n",
      "         Current function value: 0.668236\n",
      "         Iterations 6\n",
      "Optimization terminated successfully.\n",
      "         Current function value: 0.667598\n",
      "         Iterations 11\n",
      "Warning: Maximum number of iterations has been exceeded.\n",
      "         Current function value: inf\n",
      "         Iterations: 35\n"
     ]
    },
    {
     "name": "stderr",
     "output_type": "stream",
     "text": [
      "/Users/abin/opt/anaconda3/lib/python3.8/site-packages/statsmodels/discrete/discrete_model.py:1799: RuntimeWarning: overflow encountered in exp\n",
      "  return 1/(1+np.exp(-X))\n",
      "/Users/abin/opt/anaconda3/lib/python3.8/site-packages/statsmodels/discrete/discrete_model.py:1852: RuntimeWarning: divide by zero encountered in log\n",
      "  return np.sum(np.log(self.cdf(q*np.dot(X,params))))\n"
     ]
    },
    {
     "ename": "LinAlgError",
     "evalue": "Singular matrix",
     "output_type": "error",
     "traceback": [
      "\u001b[0;31m---------------------------------------------------------------------------\u001b[0m",
      "\u001b[0;31mLinAlgError\u001b[0m                               Traceback (most recent call last)",
      "\u001b[0;32m<ipython-input-124-85fd0cfeb5d0>\u001b[0m in \u001b[0;36m<module>\u001b[0;34m\u001b[0m\n\u001b[1;32m      1\u001b[0m \u001b[0msomersd_df\u001b[0m \u001b[0;34m=\u001b[0m \u001b[0mpd\u001b[0m\u001b[0;34m.\u001b[0m\u001b[0mDataFrame\u001b[0m\u001b[0;34m(\u001b[0m\u001b[0;34m)\u001b[0m\u001b[0;34m\u001b[0m\u001b[0;34m\u001b[0m\u001b[0m\n\u001b[1;32m      2\u001b[0m \u001b[0;32mfor\u001b[0m \u001b[0mnum_variable\u001b[0m \u001b[0;32min\u001b[0m \u001b[0mdf1\u001b[0m\u001b[0;34m.\u001b[0m\u001b[0mcolumns\u001b[0m\u001b[0;34m.\u001b[0m\u001b[0mdifference\u001b[0m\u001b[0;34m(\u001b[0m\u001b[0;34m[\u001b[0m\u001b[0;34m'B_target'\u001b[0m\u001b[0;34m]\u001b[0m\u001b[0;34m)\u001b[0m\u001b[0;34m:\u001b[0m\u001b[0;34m\u001b[0m\u001b[0;34m\u001b[0m\u001b[0m\n\u001b[0;32m----> 3\u001b[0;31m     \u001b[0mresult\u001b[0m \u001b[0;34m=\u001b[0m \u001b[0msmf\u001b[0m\u001b[0;34m.\u001b[0m\u001b[0mlogit\u001b[0m\u001b[0;34m(\u001b[0m\u001b[0mformula\u001b[0m \u001b[0;34m=\u001b[0m \u001b[0mstr\u001b[0m\u001b[0;34m(\u001b[0m\u001b[0;34m'B_target ~ '\u001b[0m\u001b[0;34m)\u001b[0m\u001b[0;34m+\u001b[0m\u001b[0mstr\u001b[0m\u001b[0;34m(\u001b[0m\u001b[0mnum_variable\u001b[0m\u001b[0;34m)\u001b[0m\u001b[0;34m,\u001b[0m \u001b[0mdata\u001b[0m\u001b[0;34m=\u001b[0m\u001b[0mdf1\u001b[0m\u001b[0;34m)\u001b[0m\u001b[0;34m.\u001b[0m\u001b[0mfit\u001b[0m\u001b[0;34m(\u001b[0m\u001b[0;34m)\u001b[0m\u001b[0;34m\u001b[0m\u001b[0;34m\u001b[0m\u001b[0m\n\u001b[0m\u001b[1;32m      4\u001b[0m     \u001b[0msomers_d\u001b[0m \u001b[0;34m=\u001b[0m \u001b[0;36m2\u001b[0m\u001b[0;34m*\u001b[0m\u001b[0mmetrics\u001b[0m\u001b[0;34m.\u001b[0m\u001b[0mroc_auc_score\u001b[0m\u001b[0;34m(\u001b[0m\u001b[0mdf1\u001b[0m\u001b[0;34m.\u001b[0m\u001b[0mB_target\u001b[0m\u001b[0;34m,\u001b[0m \u001b[0mresult\u001b[0m\u001b[0;34m.\u001b[0m\u001b[0mpredict\u001b[0m\u001b[0;34m(\u001b[0m\u001b[0;34m)\u001b[0m\u001b[0;34m)\u001b[0m \u001b[0;34m-\u001b[0m \u001b[0;36m1\u001b[0m\u001b[0;34m\u001b[0m\u001b[0;34m\u001b[0m\u001b[0m\n\u001b[1;32m      5\u001b[0m     \u001b[0mtemp\u001b[0m \u001b[0;34m=\u001b[0m \u001b[0mpd\u001b[0m\u001b[0;34m.\u001b[0m\u001b[0mDataFrame\u001b[0m\u001b[0;34m(\u001b[0m\u001b[0;34m[\u001b[0m\u001b[0mnum_variable\u001b[0m\u001b[0;34m,\u001b[0m\u001b[0msomers_d\u001b[0m\u001b[0;34m]\u001b[0m\u001b[0;34m)\u001b[0m\u001b[0;34m.\u001b[0m\u001b[0mT\u001b[0m\u001b[0;34m\u001b[0m\u001b[0;34m\u001b[0m\u001b[0m\n",
      "\u001b[0;32m~/opt/anaconda3/lib/python3.8/site-packages/statsmodels/discrete/discrete_model.py\u001b[0m in \u001b[0;36mfit\u001b[0;34m(self, start_params, method, maxiter, full_output, disp, callback, **kwargs)\u001b[0m\n\u001b[1;32m   1961\u001b[0m     def fit(self, start_params=None, method='newton', maxiter=35,\n\u001b[1;32m   1962\u001b[0m             full_output=1, disp=1, callback=None, **kwargs):\n\u001b[0;32m-> 1963\u001b[0;31m         bnryfit = super().fit(start_params=start_params,\n\u001b[0m\u001b[1;32m   1964\u001b[0m                               \u001b[0mmethod\u001b[0m\u001b[0;34m=\u001b[0m\u001b[0mmethod\u001b[0m\u001b[0;34m,\u001b[0m\u001b[0;34m\u001b[0m\u001b[0;34m\u001b[0m\u001b[0m\n\u001b[1;32m   1965\u001b[0m                               \u001b[0mmaxiter\u001b[0m\u001b[0;34m=\u001b[0m\u001b[0mmaxiter\u001b[0m\u001b[0;34m,\u001b[0m\u001b[0;34m\u001b[0m\u001b[0;34m\u001b[0m\u001b[0m\n",
      "\u001b[0;32m~/opt/anaconda3/lib/python3.8/site-packages/statsmodels/discrete/discrete_model.py\u001b[0m in \u001b[0;36mfit\u001b[0;34m(self, start_params, method, maxiter, full_output, disp, callback, **kwargs)\u001b[0m\n\u001b[1;32m    225\u001b[0m             \u001b[0;32mpass\u001b[0m  \u001b[0;31m# TODO: make a function factory to have multiple call-backs\u001b[0m\u001b[0;34m\u001b[0m\u001b[0;34m\u001b[0m\u001b[0m\n\u001b[1;32m    226\u001b[0m \u001b[0;34m\u001b[0m\u001b[0m\n\u001b[0;32m--> 227\u001b[0;31m         mlefit = super().fit(start_params=start_params,\n\u001b[0m\u001b[1;32m    228\u001b[0m                              \u001b[0mmethod\u001b[0m\u001b[0;34m=\u001b[0m\u001b[0mmethod\u001b[0m\u001b[0;34m,\u001b[0m\u001b[0;34m\u001b[0m\u001b[0;34m\u001b[0m\u001b[0m\n\u001b[1;32m    229\u001b[0m                              \u001b[0mmaxiter\u001b[0m\u001b[0;34m=\u001b[0m\u001b[0mmaxiter\u001b[0m\u001b[0;34m,\u001b[0m\u001b[0;34m\u001b[0m\u001b[0;34m\u001b[0m\u001b[0m\n",
      "\u001b[0;32m~/opt/anaconda3/lib/python3.8/site-packages/statsmodels/base/model.py\u001b[0m in \u001b[0;36mfit\u001b[0;34m(self, start_params, method, maxiter, full_output, disp, fargs, callback, retall, skip_hessian, **kwargs)\u001b[0m\n\u001b[1;32m    532\u001b[0m             \u001b[0mHinv\u001b[0m \u001b[0;34m=\u001b[0m \u001b[0mcov_params_func\u001b[0m\u001b[0;34m(\u001b[0m\u001b[0mself\u001b[0m\u001b[0;34m,\u001b[0m \u001b[0mxopt\u001b[0m\u001b[0;34m,\u001b[0m \u001b[0mretvals\u001b[0m\u001b[0;34m)\u001b[0m\u001b[0;34m\u001b[0m\u001b[0;34m\u001b[0m\u001b[0m\n\u001b[1;32m    533\u001b[0m         \u001b[0;32melif\u001b[0m \u001b[0mmethod\u001b[0m \u001b[0;34m==\u001b[0m \u001b[0;34m'newton'\u001b[0m \u001b[0;32mand\u001b[0m \u001b[0mfull_output\u001b[0m\u001b[0;34m:\u001b[0m\u001b[0;34m\u001b[0m\u001b[0;34m\u001b[0m\u001b[0m\n\u001b[0;32m--> 534\u001b[0;31m             \u001b[0mHinv\u001b[0m \u001b[0;34m=\u001b[0m \u001b[0mnp\u001b[0m\u001b[0;34m.\u001b[0m\u001b[0mlinalg\u001b[0m\u001b[0;34m.\u001b[0m\u001b[0minv\u001b[0m\u001b[0;34m(\u001b[0m\u001b[0;34m-\u001b[0m\u001b[0mretvals\u001b[0m\u001b[0;34m[\u001b[0m\u001b[0;34m'Hessian'\u001b[0m\u001b[0;34m]\u001b[0m\u001b[0;34m)\u001b[0m \u001b[0;34m/\u001b[0m \u001b[0mnobs\u001b[0m\u001b[0;34m\u001b[0m\u001b[0;34m\u001b[0m\u001b[0m\n\u001b[0m\u001b[1;32m    535\u001b[0m         \u001b[0;32melif\u001b[0m \u001b[0;32mnot\u001b[0m \u001b[0mskip_hessian\u001b[0m\u001b[0;34m:\u001b[0m\u001b[0;34m\u001b[0m\u001b[0;34m\u001b[0m\u001b[0m\n\u001b[1;32m    536\u001b[0m             \u001b[0mH\u001b[0m \u001b[0;34m=\u001b[0m \u001b[0;34m-\u001b[0m\u001b[0;36m1\u001b[0m \u001b[0;34m*\u001b[0m \u001b[0mself\u001b[0m\u001b[0;34m.\u001b[0m\u001b[0mhessian\u001b[0m\u001b[0;34m(\u001b[0m\u001b[0mxopt\u001b[0m\u001b[0;34m)\u001b[0m\u001b[0;34m\u001b[0m\u001b[0;34m\u001b[0m\u001b[0m\n",
      "\u001b[0;32m<__array_function__ internals>\u001b[0m in \u001b[0;36minv\u001b[0;34m(*args, **kwargs)\u001b[0m\n",
      "\u001b[0;32m~/opt/anaconda3/lib/python3.8/site-packages/numpy/linalg/linalg.py\u001b[0m in \u001b[0;36minv\u001b[0;34m(a)\u001b[0m\n\u001b[1;32m    543\u001b[0m     \u001b[0msignature\u001b[0m \u001b[0;34m=\u001b[0m \u001b[0;34m'D->D'\u001b[0m \u001b[0;32mif\u001b[0m \u001b[0misComplexType\u001b[0m\u001b[0;34m(\u001b[0m\u001b[0mt\u001b[0m\u001b[0;34m)\u001b[0m \u001b[0;32melse\u001b[0m \u001b[0;34m'd->d'\u001b[0m\u001b[0;34m\u001b[0m\u001b[0;34m\u001b[0m\u001b[0m\n\u001b[1;32m    544\u001b[0m     \u001b[0mextobj\u001b[0m \u001b[0;34m=\u001b[0m \u001b[0mget_linalg_error_extobj\u001b[0m\u001b[0;34m(\u001b[0m\u001b[0m_raise_linalgerror_singular\u001b[0m\u001b[0;34m)\u001b[0m\u001b[0;34m\u001b[0m\u001b[0;34m\u001b[0m\u001b[0m\n\u001b[0;32m--> 545\u001b[0;31m     \u001b[0mainv\u001b[0m \u001b[0;34m=\u001b[0m \u001b[0m_umath_linalg\u001b[0m\u001b[0;34m.\u001b[0m\u001b[0minv\u001b[0m\u001b[0;34m(\u001b[0m\u001b[0ma\u001b[0m\u001b[0;34m,\u001b[0m \u001b[0msignature\u001b[0m\u001b[0;34m=\u001b[0m\u001b[0msignature\u001b[0m\u001b[0;34m,\u001b[0m \u001b[0mextobj\u001b[0m\u001b[0;34m=\u001b[0m\u001b[0mextobj\u001b[0m\u001b[0;34m)\u001b[0m\u001b[0;34m\u001b[0m\u001b[0;34m\u001b[0m\u001b[0m\n\u001b[0m\u001b[1;32m    546\u001b[0m     \u001b[0;32mreturn\u001b[0m \u001b[0mwrap\u001b[0m\u001b[0;34m(\u001b[0m\u001b[0mainv\u001b[0m\u001b[0;34m.\u001b[0m\u001b[0mastype\u001b[0m\u001b[0;34m(\u001b[0m\u001b[0mresult_t\u001b[0m\u001b[0;34m,\u001b[0m \u001b[0mcopy\u001b[0m\u001b[0;34m=\u001b[0m\u001b[0;32mFalse\u001b[0m\u001b[0;34m)\u001b[0m\u001b[0;34m)\u001b[0m\u001b[0;34m\u001b[0m\u001b[0;34m\u001b[0m\u001b[0m\n\u001b[1;32m    547\u001b[0m \u001b[0;34m\u001b[0m\u001b[0m\n",
      "\u001b[0;32m~/opt/anaconda3/lib/python3.8/site-packages/numpy/linalg/linalg.py\u001b[0m in \u001b[0;36m_raise_linalgerror_singular\u001b[0;34m(err, flag)\u001b[0m\n\u001b[1;32m     86\u001b[0m \u001b[0;34m\u001b[0m\u001b[0m\n\u001b[1;32m     87\u001b[0m \u001b[0;32mdef\u001b[0m \u001b[0m_raise_linalgerror_singular\u001b[0m\u001b[0;34m(\u001b[0m\u001b[0merr\u001b[0m\u001b[0;34m,\u001b[0m \u001b[0mflag\u001b[0m\u001b[0;34m)\u001b[0m\u001b[0;34m:\u001b[0m\u001b[0;34m\u001b[0m\u001b[0;34m\u001b[0m\u001b[0m\n\u001b[0;32m---> 88\u001b[0;31m     \u001b[0;32mraise\u001b[0m \u001b[0mLinAlgError\u001b[0m\u001b[0;34m(\u001b[0m\u001b[0;34m\"Singular matrix\"\u001b[0m\u001b[0;34m)\u001b[0m\u001b[0;34m\u001b[0m\u001b[0;34m\u001b[0m\u001b[0m\n\u001b[0m\u001b[1;32m     89\u001b[0m \u001b[0;34m\u001b[0m\u001b[0m\n\u001b[1;32m     90\u001b[0m \u001b[0;32mdef\u001b[0m \u001b[0m_raise_linalgerror_nonposdef\u001b[0m\u001b[0;34m(\u001b[0m\u001b[0merr\u001b[0m\u001b[0;34m,\u001b[0m \u001b[0mflag\u001b[0m\u001b[0;34m)\u001b[0m\u001b[0;34m:\u001b[0m\u001b[0;34m\u001b[0m\u001b[0;34m\u001b[0m\u001b[0m\n",
      "\u001b[0;31mLinAlgError\u001b[0m: Singular matrix"
     ]
    }
   ],
   "source": [
    "somersd_df = pd.DataFrame()\n",
    "for num_variable in df1.columns.difference(['B_target']):\n",
    "    result = smf.logit(formula = str('B_target ~ ')+str(num_variable), data=df1).fit()\n",
    "    somers_d = 2*metrics.roc_auc_score(df1.B_target, result.predict()) - 1\n",
    "    temp = pd.DataFrame([num_variable,somers_d]).T\n",
    "    temp.columns = ['VariableName', 'SomersD']\n",
    "    somersd_df = pd.concat([somersd_df, temp], axis=0)"
   ]
  },
  {
   "cell_type": "code",
   "execution_count": 125,
   "metadata": {},
   "outputs": [
    {
     "data": {
      "text/html": [
       "<div>\n",
       "<style scoped>\n",
       "    .dataframe tbody tr th:only-of-type {\n",
       "        vertical-align: middle;\n",
       "    }\n",
       "\n",
       "    .dataframe tbody tr th {\n",
       "        vertical-align: top;\n",
       "    }\n",
       "\n",
       "    .dataframe thead th {\n",
       "        text-align: right;\n",
       "    }\n",
       "</style>\n",
       "<table border=\"1\" class=\"dataframe\">\n",
       "  <thead>\n",
       "    <tr style=\"text-align: right;\">\n",
       "      <th></th>\n",
       "      <th>VariableName</th>\n",
       "      <th>SomersD</th>\n",
       "    </tr>\n",
       "  </thead>\n",
       "  <tbody>\n",
       "    <tr>\n",
       "      <th>0</th>\n",
       "      <td>count</td>\n",
       "      <td>0.94523</td>\n",
       "    </tr>\n",
       "    <tr>\n",
       "      <th>0</th>\n",
       "      <td>diff_srv_rate</td>\n",
       "      <td>0.950646</td>\n",
       "    </tr>\n",
       "    <tr>\n",
       "      <th>0</th>\n",
       "      <td>dst_bytes</td>\n",
       "      <td>0.924057</td>\n",
       "    </tr>\n",
       "    <tr>\n",
       "      <th>0</th>\n",
       "      <td>dst_host_count</td>\n",
       "      <td>0.662342</td>\n",
       "    </tr>\n",
       "    <tr>\n",
       "      <th>0</th>\n",
       "      <td>dst_host_diff_srv_rate</td>\n",
       "      <td>0.904354</td>\n",
       "    </tr>\n",
       "    <tr>\n",
       "      <th>0</th>\n",
       "      <td>dst_host_rerror_rate</td>\n",
       "      <td>0.0931066</td>\n",
       "    </tr>\n",
       "    <tr>\n",
       "      <th>0</th>\n",
       "      <td>dst_host_same_src_port_rate</td>\n",
       "      <td>0.591073</td>\n",
       "    </tr>\n",
       "    <tr>\n",
       "      <th>0</th>\n",
       "      <td>dst_host_same_srv_rate</td>\n",
       "      <td>0.969093</td>\n",
       "    </tr>\n",
       "    <tr>\n",
       "      <th>0</th>\n",
       "      <td>dst_host_serror_rate</td>\n",
       "      <td>0.85057</td>\n",
       "    </tr>\n",
       "    <tr>\n",
       "      <th>0</th>\n",
       "      <td>dst_host_srv_count</td>\n",
       "      <td>0.960625</td>\n",
       "    </tr>\n",
       "    <tr>\n",
       "      <th>0</th>\n",
       "      <td>dst_host_srv_diff_host_rate</td>\n",
       "      <td>0.610107</td>\n",
       "    </tr>\n",
       "    <tr>\n",
       "      <th>0</th>\n",
       "      <td>dst_host_srv_rerror_rate</td>\n",
       "      <td>0.0882318</td>\n",
       "    </tr>\n",
       "    <tr>\n",
       "      <th>0</th>\n",
       "      <td>dst_host_srv_serror_rate</td>\n",
       "      <td>0.835447</td>\n",
       "    </tr>\n",
       "    <tr>\n",
       "      <th>0</th>\n",
       "      <td>duration</td>\n",
       "      <td>-0.0535681</td>\n",
       "    </tr>\n",
       "    <tr>\n",
       "      <th>0</th>\n",
       "      <td>flag</td>\n",
       "      <td>0.966858</td>\n",
       "    </tr>\n",
       "    <tr>\n",
       "      <th>0</th>\n",
       "      <td>hot</td>\n",
       "      <td>0.0015598</td>\n",
       "    </tr>\n",
       "    <tr>\n",
       "      <th>0</th>\n",
       "      <td>is_guest_login</td>\n",
       "      <td>0.00388444</td>\n",
       "    </tr>\n",
       "  </tbody>\n",
       "</table>\n",
       "</div>"
      ],
      "text/plain": [
       "                  VariableName     SomersD\n",
       "0                        count     0.94523\n",
       "0                diff_srv_rate    0.950646\n",
       "0                    dst_bytes    0.924057\n",
       "0               dst_host_count    0.662342\n",
       "0       dst_host_diff_srv_rate    0.904354\n",
       "0         dst_host_rerror_rate   0.0931066\n",
       "0  dst_host_same_src_port_rate    0.591073\n",
       "0       dst_host_same_srv_rate    0.969093\n",
       "0         dst_host_serror_rate     0.85057\n",
       "0           dst_host_srv_count    0.960625\n",
       "0  dst_host_srv_diff_host_rate    0.610107\n",
       "0     dst_host_srv_rerror_rate   0.0882318\n",
       "0     dst_host_srv_serror_rate    0.835447\n",
       "0                     duration  -0.0535681\n",
       "0                         flag    0.966858\n",
       "0                          hot   0.0015598\n",
       "0               is_guest_login  0.00388444"
      ]
     },
     "execution_count": 125,
     "metadata": {},
     "output_type": "execute_result"
    }
   ],
   "source": [
    "somersd_df"
   ]
  },
  {
   "cell_type": "code",
   "execution_count": 126,
   "metadata": {},
   "outputs": [],
   "source": [
    "imp_vars_SD = somersd_df.sort_values('SomersD', ascending=False).head(15)"
   ]
  },
  {
   "cell_type": "code",
   "execution_count": 127,
   "metadata": {},
   "outputs": [],
   "source": [
    "imp_vars_somerceD = list(imp_vars_SD.VariableName.values)"
   ]
  },
  {
   "cell_type": "markdown",
   "metadata": {},
   "source": [
    "### RFE "
   ]
  },
  {
   "cell_type": "code",
   "execution_count": 128,
   "metadata": {},
   "outputs": [
    {
     "data": {
      "text/plain": [
       "(617550, 40)"
      ]
     },
     "execution_count": 128,
     "metadata": {},
     "output_type": "execute_result"
    }
   ],
   "source": [
    "df1.shape"
   ]
  },
  {
   "cell_type": "code",
   "execution_count": 129,
   "metadata": {},
   "outputs": [],
   "source": [
    "from sklearn.ensemble import BaggingClassifier, BaggingRegressor,RandomForestClassifier,RandomForestRegressor\n",
    "from sklearn.feature_selection import RFE"
   ]
  },
  {
   "cell_type": "code",
   "execution_count": 130,
   "metadata": {},
   "outputs": [
    {
     "name": "stderr",
     "output_type": "stream",
     "text": [
      "/Users/abin/opt/anaconda3/lib/python3.8/site-packages/sklearn/utils/validation.py:70: FutureWarning: Pass n_features_to_select=15 as keyword args. From version 1.0 (renaming of 0.25) passing these as positional arguments will result in an error\n",
      "  warnings.warn(f\"Pass {args_msg} as keyword args. From version \"\n",
      "/Users/abin/opt/anaconda3/lib/python3.8/site-packages/sklearn/feature_selection/_rfe.py:241: DataConversionWarning: A column-vector y was passed when a 1d array was expected. Please change the shape of y to (n_samples,), for example using ravel().\n",
      "  estimator.fit(X[:, features], y)\n",
      "/Users/abin/opt/anaconda3/lib/python3.8/site-packages/sklearn/feature_selection/_rfe.py:241: DataConversionWarning: A column-vector y was passed when a 1d array was expected. Please change the shape of y to (n_samples,), for example using ravel().\n",
      "  estimator.fit(X[:, features], y)\n",
      "/Users/abin/opt/anaconda3/lib/python3.8/site-packages/sklearn/feature_selection/_rfe.py:241: DataConversionWarning: A column-vector y was passed when a 1d array was expected. Please change the shape of y to (n_samples,), for example using ravel().\n",
      "  estimator.fit(X[:, features], y)\n",
      "/Users/abin/opt/anaconda3/lib/python3.8/site-packages/sklearn/feature_selection/_rfe.py:241: DataConversionWarning: A column-vector y was passed when a 1d array was expected. Please change the shape of y to (n_samples,), for example using ravel().\n",
      "  estimator.fit(X[:, features], y)\n",
      "/Users/abin/opt/anaconda3/lib/python3.8/site-packages/sklearn/feature_selection/_rfe.py:241: DataConversionWarning: A column-vector y was passed when a 1d array was expected. Please change the shape of y to (n_samples,), for example using ravel().\n",
      "  estimator.fit(X[:, features], y)\n",
      "/Users/abin/opt/anaconda3/lib/python3.8/site-packages/sklearn/feature_selection/_rfe.py:241: DataConversionWarning: A column-vector y was passed when a 1d array was expected. Please change the shape of y to (n_samples,), for example using ravel().\n",
      "  estimator.fit(X[:, features], y)\n",
      "/Users/abin/opt/anaconda3/lib/python3.8/site-packages/sklearn/feature_selection/_rfe.py:241: DataConversionWarning: A column-vector y was passed when a 1d array was expected. Please change the shape of y to (n_samples,), for example using ravel().\n",
      "  estimator.fit(X[:, features], y)\n",
      "/Users/abin/opt/anaconda3/lib/python3.8/site-packages/sklearn/feature_selection/_rfe.py:241: DataConversionWarning: A column-vector y was passed when a 1d array was expected. Please change the shape of y to (n_samples,), for example using ravel().\n",
      "  estimator.fit(X[:, features], y)\n",
      "/Users/abin/opt/anaconda3/lib/python3.8/site-packages/sklearn/feature_selection/_rfe.py:241: DataConversionWarning: A column-vector y was passed when a 1d array was expected. Please change the shape of y to (n_samples,), for example using ravel().\n",
      "  estimator.fit(X[:, features], y)\n",
      "/Users/abin/opt/anaconda3/lib/python3.8/site-packages/sklearn/feature_selection/_rfe.py:241: DataConversionWarning: A column-vector y was passed when a 1d array was expected. Please change the shape of y to (n_samples,), for example using ravel().\n",
      "  estimator.fit(X[:, features], y)\n",
      "/Users/abin/opt/anaconda3/lib/python3.8/site-packages/sklearn/feature_selection/_rfe.py:241: DataConversionWarning: A column-vector y was passed when a 1d array was expected. Please change the shape of y to (n_samples,), for example using ravel().\n",
      "  estimator.fit(X[:, features], y)\n",
      "/Users/abin/opt/anaconda3/lib/python3.8/site-packages/sklearn/feature_selection/_rfe.py:241: DataConversionWarning: A column-vector y was passed when a 1d array was expected. Please change the shape of y to (n_samples,), for example using ravel().\n",
      "  estimator.fit(X[:, features], y)\n",
      "/Users/abin/opt/anaconda3/lib/python3.8/site-packages/sklearn/feature_selection/_rfe.py:241: DataConversionWarning: A column-vector y was passed when a 1d array was expected. Please change the shape of y to (n_samples,), for example using ravel().\n",
      "  estimator.fit(X[:, features], y)\n",
      "/Users/abin/opt/anaconda3/lib/python3.8/site-packages/sklearn/feature_selection/_rfe.py:241: DataConversionWarning: A column-vector y was passed when a 1d array was expected. Please change the shape of y to (n_samples,), for example using ravel().\n",
      "  estimator.fit(X[:, features], y)\n",
      "/Users/abin/opt/anaconda3/lib/python3.8/site-packages/sklearn/feature_selection/_rfe.py:241: DataConversionWarning: A column-vector y was passed when a 1d array was expected. Please change the shape of y to (n_samples,), for example using ravel().\n",
      "  estimator.fit(X[:, features], y)\n",
      "/Users/abin/opt/anaconda3/lib/python3.8/site-packages/sklearn/feature_selection/_rfe.py:241: DataConversionWarning: A column-vector y was passed when a 1d array was expected. Please change the shape of y to (n_samples,), for example using ravel().\n",
      "  estimator.fit(X[:, features], y)\n",
      "/Users/abin/opt/anaconda3/lib/python3.8/site-packages/sklearn/feature_selection/_rfe.py:241: DataConversionWarning: A column-vector y was passed when a 1d array was expected. Please change the shape of y to (n_samples,), for example using ravel().\n",
      "  estimator.fit(X[:, features], y)\n",
      "/Users/abin/opt/anaconda3/lib/python3.8/site-packages/sklearn/feature_selection/_rfe.py:241: DataConversionWarning: A column-vector y was passed when a 1d array was expected. Please change the shape of y to (n_samples,), for example using ravel().\n",
      "  estimator.fit(X[:, features], y)\n",
      "/Users/abin/opt/anaconda3/lib/python3.8/site-packages/sklearn/feature_selection/_rfe.py:241: DataConversionWarning: A column-vector y was passed when a 1d array was expected. Please change the shape of y to (n_samples,), for example using ravel().\n",
      "  estimator.fit(X[:, features], y)\n",
      "/Users/abin/opt/anaconda3/lib/python3.8/site-packages/sklearn/feature_selection/_rfe.py:241: DataConversionWarning: A column-vector y was passed when a 1d array was expected. Please change the shape of y to (n_samples,), for example using ravel().\n",
      "  estimator.fit(X[:, features], y)\n",
      "/Users/abin/opt/anaconda3/lib/python3.8/site-packages/sklearn/feature_selection/_rfe.py:241: DataConversionWarning: A column-vector y was passed when a 1d array was expected. Please change the shape of y to (n_samples,), for example using ravel().\n",
      "  estimator.fit(X[:, features], y)\n",
      "/Users/abin/opt/anaconda3/lib/python3.8/site-packages/sklearn/feature_selection/_rfe.py:241: DataConversionWarning: A column-vector y was passed when a 1d array was expected. Please change the shape of y to (n_samples,), for example using ravel().\n",
      "  estimator.fit(X[:, features], y)\n",
      "/Users/abin/opt/anaconda3/lib/python3.8/site-packages/sklearn/feature_selection/_rfe.py:241: DataConversionWarning: A column-vector y was passed when a 1d array was expected. Please change the shape of y to (n_samples,), for example using ravel().\n",
      "  estimator.fit(X[:, features], y)\n",
      "/Users/abin/opt/anaconda3/lib/python3.8/site-packages/sklearn/feature_selection/_rfe.py:241: DataConversionWarning: A column-vector y was passed when a 1d array was expected. Please change the shape of y to (n_samples,), for example using ravel().\n",
      "  estimator.fit(X[:, features], y)\n",
      "/Users/abin/opt/anaconda3/lib/python3.8/site-packages/sklearn/feature_selection/_rfe.py:266: DataConversionWarning: A column-vector y was passed when a 1d array was expected. Please change the shape of y to (n_samples,), for example using ravel().\n",
      "  self.estimator_.fit(X[:, features], y)\n"
     ]
    }
   ],
   "source": [
    "X = df1[df1.columns.difference(['B_target'])]\n",
    "classifier = RandomForestClassifier()\n",
    "rfe = RFE(classifier, 15)\n",
    "rfe = rfe.fit(X, df1[['B_target']] )"
   ]
  },
  {
   "cell_type": "code",
   "execution_count": 131,
   "metadata": {},
   "outputs": [],
   "source": [
    "imp_vars_RFE = list(x_mi.columns[rfe.support_])"
   ]
  },
  {
   "cell_type": "code",
   "execution_count": 132,
   "metadata": {},
   "outputs": [
    {
     "data": {
      "text/plain": [
       "['duration',\n",
       " 'protocol_type',\n",
       " 'service',\n",
       " 'flag',\n",
       " 'src_bytes',\n",
       " 'urgent',\n",
       " 'num_failed_logins',\n",
       " 'logged_in',\n",
       " 'num_root',\n",
       " 'is_host_login',\n",
       " 'srv_rerror_rate',\n",
       " 'srv_diff_host_rate',\n",
       " 'dst_host_srv_count',\n",
       " 'dst_host_same_srv_rate',\n",
       " 'dst_host_diff_srv_rate']"
      ]
     },
     "execution_count": 132,
     "metadata": {},
     "output_type": "execute_result"
    }
   ],
   "source": [
    "imp_vars_RFE"
   ]
  },
  {
   "cell_type": "markdown",
   "metadata": {},
   "source": [
    "### Select K Best "
   ]
  },
  {
   "cell_type": "code",
   "execution_count": 133,
   "metadata": {},
   "outputs": [
    {
     "data": {
      "text/plain": [
       "(617550, 40)"
      ]
     },
     "execution_count": 133,
     "metadata": {},
     "output_type": "execute_result"
    }
   ],
   "source": [
    "df1.shape"
   ]
  },
  {
   "cell_type": "code",
   "execution_count": 134,
   "metadata": {},
   "outputs": [],
   "source": [
    "k_x = df1.drop(['B_target'],axis=1)"
   ]
  },
  {
   "cell_type": "code",
   "execution_count": 135,
   "metadata": {},
   "outputs": [],
   "source": [
    "k_y = df1.B_target"
   ]
  },
  {
   "cell_type": "code",
   "execution_count": 136,
   "metadata": {},
   "outputs": [],
   "source": [
    "from sklearn.feature_selection import SelectKBest,f_classif"
   ]
  },
  {
   "cell_type": "code",
   "execution_count": 137,
   "metadata": {},
   "outputs": [],
   "source": [
    "SKB = SelectKBest(f_classif, k=15).fit(k_x,k_y)"
   ]
  },
  {
   "cell_type": "code",
   "execution_count": 138,
   "metadata": {},
   "outputs": [],
   "source": [
    "SKB.get_support()\n",
    "imp_vars_SKB = list(k_x.columns[SKB.get_support()])"
   ]
  },
  {
   "cell_type": "code",
   "execution_count": 139,
   "metadata": {},
   "outputs": [
    {
     "data": {
      "text/plain": [
       "['service',\n",
       " 'flag',\n",
       " 'logged_in',\n",
       " 'count',\n",
       " 'serror_rate',\n",
       " 'srv_error_rate',\n",
       " 'same_srv_rate',\n",
       " 'diff_srv_rate',\n",
       " 'dst_host_count',\n",
       " 'dst_host_srv_count',\n",
       " 'dst_host_same_srv_rate',\n",
       " 'dst_host_diff_srv_rate',\n",
       " 'dst_host_srv_diff_host_rate',\n",
       " 'dst_host_serror_rate',\n",
       " 'dst_host_srv_serror_rate']"
      ]
     },
     "execution_count": 139,
     "metadata": {},
     "output_type": "execute_result"
    }
   ],
   "source": [
    "imp_vars_SKB"
   ]
  },
  {
   "cell_type": "code",
   "execution_count": 140,
   "metadata": {},
   "outputs": [],
   "source": [
    "Final_list = list(set(imp_vars_SKB + imp_vars_somerceD + imp_vars_RFE + top_20 ))"
   ]
  },
  {
   "cell_type": "code",
   "execution_count": null,
   "metadata": {},
   "outputs": [],
   "source": []
  },
  {
   "cell_type": "code",
   "execution_count": 141,
   "metadata": {},
   "outputs": [
    {
     "data": {
      "text/plain": [
       "29"
      ]
     },
     "execution_count": 141,
     "metadata": {},
     "output_type": "execute_result"
    }
   ],
   "source": [
    "len(Final_list)"
   ]
  },
  {
   "cell_type": "code",
   "execution_count": null,
   "metadata": {},
   "outputs": [],
   "source": [
    "X = df1[Final_list]"
   ]
  },
  {
   "cell_type": "markdown",
   "metadata": {},
   "source": [
    "### Variance inflation factor "
   ]
  },
  {
   "cell_type": "code",
   "execution_count": 142,
   "metadata": {},
   "outputs": [
    {
     "data": {
      "text/plain": [
       "(617550, 39)"
      ]
     },
     "execution_count": 142,
     "metadata": {},
     "output_type": "execute_result"
    }
   ],
   "source": [
    "X.shape"
   ]
  },
  {
   "cell_type": "code",
   "execution_count": 144,
   "metadata": {},
   "outputs": [],
   "source": [
    "from statsmodels.stats.outliers_influence import variance_inflation_factor"
   ]
  },
  {
   "cell_type": "code",
   "execution_count": 145,
   "metadata": {},
   "outputs": [
    {
     "name": "stdout",
     "output_type": "stream",
     "text": [
      "    VIF Factor                     features\n",
      "0     5.996234                        count\n",
      "1     1.885475                diff_srv_rate\n",
      "2     1.255861                    dst_bytes\n",
      "3     2.305744       dst_host_diff_srv_rate\n",
      "4     1.482336  dst_host_same_src_port_rate\n",
      "5     1.853215           dst_host_srv_count\n",
      "6     1.397723  dst_host_srv_diff_host_rate\n",
      "7     1.219304                     duration\n",
      "8     5.927946                         flag\n",
      "9     6.723676                          hot\n",
      "10    6.534830               is_guest_login\n",
      "11    1.035094                is_host_login\n",
      "12    1.085019             num_access_files\n",
      "13    2.118024              num_compromised\n",
      "14    1.002881            num_failed_logins\n",
      "15    1.188911           num_file_creations\n",
      "16    1.072979                     num_root\n",
      "17    1.002051                   num_shells\n",
      "18    1.839022                protocol_type\n",
      "19   38.880898                  rerror_rate\n",
      "20    1.195908                   root_shell\n",
      "21    2.741043                      service\n",
      "22    1.208445                    src_bytes\n",
      "23    2.293700                    srv_count\n",
      "24    1.276024           srv_diff_host_rate\n",
      "25   37.922031              srv_rerror_rate\n",
      "26    1.940685                 su_attempted\n",
      "27    1.027558                       urgent\n",
      "28    1.000035               wrong_fragment\n"
     ]
    }
   ],
   "source": [
    "X_new =  X[X.columns.difference(['dst_host_count','logged_in','dst_host_rerror_rate','dst_host_srv_rerror_rate','same_srv_rate','srv_error_rate','serror_rate','dst_host_srv_serror_rate','dst_host_serror_rate','dst_host_same_srv_rate'])]\n",
    "#X_new =  X\n",
    "vif = pd.DataFrame()\n",
    "\n",
    "vif[\"VIF Factor\"] = [variance_inflation_factor(X_new.values, i) for i in range(X_new.shape[1])]\n",
    "vif[\"features\"] = X_new.columns\n",
    "\n",
    "print(vif)\n"
   ]
  },
  {
   "cell_type": "code",
   "execution_count": 146,
   "metadata": {},
   "outputs": [],
   "source": [
    "var= list(features.columns)"
   ]
  },
  {
   "cell_type": "code",
   "execution_count": 147,
   "metadata": {},
   "outputs": [
    {
     "data": {
      "text/plain": [
       "'duration+protocol_type+service+src_bytes+dst_bytes+wrong_fragment+urgent+hot+num_failed_logins+num_compromised+root_shell+num_root+num_file_creations+num_shells+num_access_files+is_host_login+rerror_rate+diff_srv_rate+srv_diff_host_rate+dst_host_same_src_port_rate'"
      ]
     },
     "execution_count": 147,
     "metadata": {},
     "output_type": "execute_result"
    }
   ],
   "source": [
    "\"+\".join(var)"
   ]
  },
  {
   "cell_type": "code",
   "execution_count": null,
   "metadata": {},
   "outputs": [],
   "source": []
  },
  {
   "cell_type": "code",
   "execution_count": 148,
   "metadata": {},
   "outputs": [],
   "source": [
    "features = X_new "
   ]
  },
  {
   "cell_type": "code",
   "execution_count": 149,
   "metadata": {},
   "outputs": [],
   "source": [
    "target = df1['B_target']"
   ]
  },
  {
   "cell_type": "code",
   "execution_count": 150,
   "metadata": {},
   "outputs": [],
   "source": [
    "from sklearn.model_selection import train_test_split, GridSearchCV"
   ]
  },
  {
   "cell_type": "code",
   "execution_count": 151,
   "metadata": {},
   "outputs": [],
   "source": [
    "#Splitting the data for sklearn methods\n",
    "train_y, test_y, train_X, test_X = train_test_split(target,features, test_size=0.3, random_state=123)"
   ]
  },
  {
   "cell_type": "code",
   "execution_count": 152,
   "metadata": {},
   "outputs": [],
   "source": [
    "#for logistic regression using statsmodels\n",
    "train, test = train_test_split(df1, test_size=0.3, random_state=0)"
   ]
  },
  {
   "cell_type": "code",
   "execution_count": 153,
   "metadata": {},
   "outputs": [
    {
     "name": "stdout",
     "output_type": "stream",
     "text": [
      "Optimization terminated successfully.\n",
      "         Current function value: 0.019304\n",
      "         Iterations 23\n"
     ]
    }
   ],
   "source": [
    "logreg = smf.logit(formula='B_target ~ count+diff_srv_rate+dst_bytes+dst_host_diff_srv_rate+dst_host_same_src_port_rate+dst_host_srv_count+dst_host_srv_diff_host_rate+duration+flag+is_guest_login+num_failed_logins+num_root+protocol_type+root_shell+service+src_bytes+srv_diff_host_rate+srv_rerror_rate+urgent',data = train)\n",
    "result = logreg.fit()"
   ]
  },
  {
   "cell_type": "code",
   "execution_count": 154,
   "metadata": {},
   "outputs": [
    {
     "name": "stdout",
     "output_type": "stream",
     "text": [
      "                           Logit Regression Results                           \n",
      "==============================================================================\n",
      "Dep. Variable:               B_target   No. Observations:               432285\n",
      "Model:                          Logit   Df Residuals:                   432265\n",
      "Method:                           MLE   Df Model:                           19\n",
      "Date:                Wed, 29 Sep 2021   Pseudo R-squ.:                  0.9711\n",
      "Time:                        16:42:01   Log-Likelihood:                -8345.0\n",
      "converged:                       True   LL-Null:                   -2.8915e+05\n",
      "Covariance Type:            nonrobust   LLR p-value:                     0.000\n",
      "===============================================================================================\n",
      "                                  coef    std err          z      P>|z|      [0.025      0.975]\n",
      "-----------------------------------------------------------------------------------------------\n",
      "Intercept                      -7.3872      0.100    -73.761      0.000      -7.583      -7.191\n",
      "count                          24.6841      0.389     63.441      0.000      23.921      25.447\n",
      "diff_srv_rate                  23.4608      1.405     16.697      0.000      20.707      26.215\n",
      "dst_bytes                       4.6322      0.252     18.366      0.000       4.138       5.127\n",
      "dst_host_diff_srv_rate         49.0648      1.706     28.768      0.000      45.722      52.408\n",
      "dst_host_same_src_port_rate    25.8792      0.761     34.005      0.000      24.388      27.371\n",
      "dst_host_srv_count            -14.2979      0.319    -44.808      0.000     -14.923     -13.672\n",
      "dst_host_srv_diff_host_rate   -37.2489      3.131    -11.897      0.000     -43.386     -31.112\n",
      "duration                       -5.8191      0.242    -24.089      0.000      -6.293      -5.346\n",
      "flag                          146.5749      1.618     90.618      0.000     143.405     149.745\n",
      "is_guest_login                -42.0962     10.241     -4.110      0.000     -62.169     -22.023\n",
      "num_failed_logins              27.0772      3.567      7.590      0.000      20.085      34.069\n",
      "num_root                      -68.8761      3.602    -19.124      0.000     -75.935     -61.817\n",
      "protocol_type                 314.9376      5.745     54.822      0.000     303.678     326.197\n",
      "root_shell                     59.4754      4.526     13.140      0.000      50.604      68.347\n",
      "service                         7.1606      0.471     15.206      0.000       6.238       8.084\n",
      "src_bytes                      13.7310      0.238     57.786      0.000      13.265      14.197\n",
      "srv_diff_host_rate              8.8274      0.714     12.369      0.000       7.429      10.226\n",
      "srv_rerror_rate                -9.1229      0.732    -12.463      0.000     -10.558      -7.688\n",
      "urgent                         48.2582     66.935      0.721      0.471     -82.931     179.447\n",
      "===============================================================================================\n",
      "\n",
      "Possibly complete quasi-separation: A fraction 0.62 of observations can be\n",
      "perfectly predicted. This might indicate that there is complete\n",
      "quasi-separation. In this case some parameters will not be identified.\n"
     ]
    }
   ],
   "source": [
    "print(result.summary())"
   ]
  },
  {
   "cell_type": "code",
   "execution_count": 155,
   "metadata": {},
   "outputs": [
    {
     "name": "stdout",
     "output_type": "stream",
     "text": [
      "The Gini Index for the model built on the Train Data is :  0.9990701494208234\n",
      "The Gini Index for the model built on the Test Data is :  0.9989889616069199\n",
      "The AUC for the model built on the Train Data is :  0.9995350747104117\n",
      "The AUC for the model built on the Test Data is :  0.9994944808034599\n"
     ]
    }
   ],
   "source": [
    "train_gini = 2*metrics.roc_auc_score(train['B_target'], result.predict(train)) - 1\n",
    "print(\"The Gini Index for the model built on the Train Data is : \", train_gini)\n",
    "\n",
    "test_gini = 2*metrics.roc_auc_score(test['B_target'], result.predict(test)) - 1\n",
    "print(\"The Gini Index for the model built on the Test Data is : \", test_gini)\n",
    "\n",
    "train_auc = metrics.roc_auc_score(train['B_target'], result.predict(train))\n",
    "test_auc = metrics.roc_auc_score(test['B_target'], result.predict(test))\n",
    "\n",
    "print(\"The AUC for the model built on the Train Data is : \", train_auc)\n",
    "print(\"The AUC for the model built on the Test Data is : \", test_auc)"
   ]
  },
  {
   "cell_type": "code",
   "execution_count": null,
   "metadata": {},
   "outputs": [],
   "source": []
  },
  {
   "cell_type": "code",
   "execution_count": 156,
   "metadata": {},
   "outputs": [
    {
     "data": {
      "text/html": [
       "<div>\n",
       "<style scoped>\n",
       "    .dataframe tbody tr th:only-of-type {\n",
       "        vertical-align: middle;\n",
       "    }\n",
       "\n",
       "    .dataframe tbody tr th {\n",
       "        vertical-align: top;\n",
       "    }\n",
       "\n",
       "    .dataframe thead th {\n",
       "        text-align: right;\n",
       "    }\n",
       "</style>\n",
       "<table border=\"1\" class=\"dataframe\">\n",
       "  <thead>\n",
       "    <tr style=\"text-align: right;\">\n",
       "      <th></th>\n",
       "      <th>actual</th>\n",
       "      <th>prob</th>\n",
       "    </tr>\n",
       "  </thead>\n",
       "  <tbody>\n",
       "    <tr>\n",
       "      <th>68498</th>\n",
       "      <td>0</td>\n",
       "      <td>0.000026</td>\n",
       "    </tr>\n",
       "    <tr>\n",
       "      <th>688677</th>\n",
       "      <td>1</td>\n",
       "      <td>0.998635</td>\n",
       "    </tr>\n",
       "    <tr>\n",
       "      <th>388265</th>\n",
       "      <td>0</td>\n",
       "      <td>0.000178</td>\n",
       "    </tr>\n",
       "    <tr>\n",
       "      <th>688862</th>\n",
       "      <td>1</td>\n",
       "      <td>0.999414</td>\n",
       "    </tr>\n",
       "    <tr>\n",
       "      <th>592442</th>\n",
       "      <td>1</td>\n",
       "      <td>0.999917</td>\n",
       "    </tr>\n",
       "  </tbody>\n",
       "</table>\n",
       "</div>"
      ],
      "text/plain": [
       "        actual      prob\n",
       "68498        0  0.000026\n",
       "688677       1  0.998635\n",
       "388265       0  0.000178\n",
       "688862       1  0.999414\n",
       "592442       1  0.999917"
      ]
     },
     "execution_count": 156,
     "metadata": {},
     "output_type": "execute_result"
    }
   ],
   "source": [
    "## Intuition behind ROC curve - predicted probability as a tool for separating the '1's and '0's\n",
    "train_predicted_prob = pd.DataFrame(result.predict(train))\n",
    "train_predicted_prob.columns = ['prob']\n",
    "train_actual = train['B_target']\n",
    "# making a DataFrame with actual and prob columns\n",
    "train_predict = pd.concat([train_actual, train_predicted_prob], axis=1)\n",
    "train_predict.columns = ['actual','prob']\n",
    "train_predict.head()"
   ]
  },
  {
   "cell_type": "code",
   "execution_count": null,
   "metadata": {},
   "outputs": [],
   "source": []
  },
  {
   "cell_type": "markdown",
   "metadata": {},
   "source": [
    "### Logistic Regression using Sklearn"
   ]
  },
  {
   "cell_type": "code",
   "execution_count": 157,
   "metadata": {},
   "outputs": [],
   "source": [
    "from sklearn.linear_model import LogisticRegression, LinearRegression, ElasticNet, Lasso, Ridge"
   ]
  },
  {
   "cell_type": "code",
   "execution_count": 158,
   "metadata": {},
   "outputs": [],
   "source": [
    "#Build the model\n",
    "model = LogisticRegression()\n",
    "model = model.fit(train_X, train_y)"
   ]
  },
  {
   "cell_type": "code",
   "execution_count": 159,
   "metadata": {},
   "outputs": [
    {
     "data": {
      "text/plain": [
       "((432285, 29), (432285,))"
      ]
     },
     "execution_count": 159,
     "metadata": {},
     "output_type": "execute_result"
    }
   ],
   "source": [
    "train_X.shape, train_y.shape"
   ]
  },
  {
   "cell_type": "code",
   "execution_count": 160,
   "metadata": {},
   "outputs": [
    {
     "name": "stderr",
     "output_type": "stream",
     "text": [
      "<ipython-input-160-aeee8ec2a7f3>:1: SettingWithCopyWarning: \n",
      "A value is trying to be set on a copy of a slice from a DataFrame.\n",
      "Try using .loc[row_indexer,col_indexer] = value instead\n",
      "\n",
      "See the caveats in the documentation: https://pandas.pydata.org/pandas-docs/stable/user_guide/indexing.html#returning-a-view-versus-a-copy\n",
      "  train_X['pred_prob'] = pd.DataFrame(model.predict_proba(train_X), index=train_X.index)[1]\n"
     ]
    }
   ],
   "source": [
    "train_X['pred_prob'] = pd.DataFrame(model.predict_proba(train_X), index=train_X.index)[1]"
   ]
  },
  {
   "cell_type": "code",
   "execution_count": 161,
   "metadata": {},
   "outputs": [
    {
     "name": "stderr",
     "output_type": "stream",
     "text": [
      "<ipython-input-161-21ee515a06ca>:1: SettingWithCopyWarning: \n",
      "A value is trying to be set on a copy of a slice from a DataFrame.\n",
      "Try using .loc[row_indexer,col_indexer] = value instead\n",
      "\n",
      "See the caveats in the documentation: https://pandas.pydata.org/pandas-docs/stable/user_guide/indexing.html#returning-a-view-versus-a-copy\n",
      "  test_X['pred_prob'] = pd.DataFrame(model.predict_proba(test_X),index=test_X.index)[1]\n"
     ]
    }
   ],
   "source": [
    "test_X['pred_prob'] = pd.DataFrame(model.predict_proba(test_X),index=test_X.index)[1]"
   ]
  },
  {
   "cell_type": "code",
   "execution_count": 162,
   "metadata": {},
   "outputs": [],
   "source": [
    "train = pd.concat([train_X, train_y], axis=1)"
   ]
  },
  {
   "cell_type": "code",
   "execution_count": 163,
   "metadata": {},
   "outputs": [],
   "source": [
    "test = pd.concat([test_X, test_y], axis=1)"
   ]
  },
  {
   "cell_type": "code",
   "execution_count": null,
   "metadata": {},
   "outputs": [],
   "source": []
  },
  {
   "cell_type": "code",
   "execution_count": 169,
   "metadata": {},
   "outputs": [
    {
     "ename": "ValueError",
     "evalue": "X has 31 features per sample; expecting 29",
     "output_type": "error",
     "traceback": [
      "\u001b[0;31m---------------------------------------------------------------------------\u001b[0m",
      "\u001b[0;31mValueError\u001b[0m                                Traceback (most recent call last)",
      "\u001b[0;32m<ipython-input-169-94376cff010a>\u001b[0m in \u001b[0;36m<module>\u001b[0;34m\u001b[0m\n\u001b[0;32m----> 1\u001b[0;31m \u001b[0mmodel\u001b[0m\u001b[0;34m.\u001b[0m\u001b[0mpredict\u001b[0m\u001b[0;34m(\u001b[0m\u001b[0mtrain\u001b[0m\u001b[0;34m)\u001b[0m\u001b[0;34m\u001b[0m\u001b[0;34m\u001b[0m\u001b[0m\n\u001b[0m",
      "\u001b[0;32m~/opt/anaconda3/lib/python3.8/site-packages/sklearn/linear_model/_base.py\u001b[0m in \u001b[0;36mpredict\u001b[0;34m(self, X)\u001b[0m\n\u001b[1;32m    307\u001b[0m             \u001b[0mPredicted\u001b[0m \u001b[0;32mclass\u001b[0m \u001b[0mlabel\u001b[0m \u001b[0mper\u001b[0m \u001b[0msample\u001b[0m\u001b[0;34m.\u001b[0m\u001b[0;34m\u001b[0m\u001b[0;34m\u001b[0m\u001b[0m\n\u001b[1;32m    308\u001b[0m         \"\"\"\n\u001b[0;32m--> 309\u001b[0;31m         \u001b[0mscores\u001b[0m \u001b[0;34m=\u001b[0m \u001b[0mself\u001b[0m\u001b[0;34m.\u001b[0m\u001b[0mdecision_function\u001b[0m\u001b[0;34m(\u001b[0m\u001b[0mX\u001b[0m\u001b[0;34m)\u001b[0m\u001b[0;34m\u001b[0m\u001b[0;34m\u001b[0m\u001b[0m\n\u001b[0m\u001b[1;32m    310\u001b[0m         \u001b[0;32mif\u001b[0m \u001b[0mlen\u001b[0m\u001b[0;34m(\u001b[0m\u001b[0mscores\u001b[0m\u001b[0;34m.\u001b[0m\u001b[0mshape\u001b[0m\u001b[0;34m)\u001b[0m \u001b[0;34m==\u001b[0m \u001b[0;36m1\u001b[0m\u001b[0;34m:\u001b[0m\u001b[0;34m\u001b[0m\u001b[0;34m\u001b[0m\u001b[0m\n\u001b[1;32m    311\u001b[0m             \u001b[0mindices\u001b[0m \u001b[0;34m=\u001b[0m \u001b[0;34m(\u001b[0m\u001b[0mscores\u001b[0m \u001b[0;34m>\u001b[0m \u001b[0;36m0\u001b[0m\u001b[0;34m)\u001b[0m\u001b[0;34m.\u001b[0m\u001b[0mastype\u001b[0m\u001b[0;34m(\u001b[0m\u001b[0mint\u001b[0m\u001b[0;34m)\u001b[0m\u001b[0;34m\u001b[0m\u001b[0;34m\u001b[0m\u001b[0m\n",
      "\u001b[0;32m~/opt/anaconda3/lib/python3.8/site-packages/sklearn/linear_model/_base.py\u001b[0m in \u001b[0;36mdecision_function\u001b[0;34m(self, X)\u001b[0m\n\u001b[1;32m    286\u001b[0m         \u001b[0mn_features\u001b[0m \u001b[0;34m=\u001b[0m \u001b[0mself\u001b[0m\u001b[0;34m.\u001b[0m\u001b[0mcoef_\u001b[0m\u001b[0;34m.\u001b[0m\u001b[0mshape\u001b[0m\u001b[0;34m[\u001b[0m\u001b[0;36m1\u001b[0m\u001b[0;34m]\u001b[0m\u001b[0;34m\u001b[0m\u001b[0;34m\u001b[0m\u001b[0m\n\u001b[1;32m    287\u001b[0m         \u001b[0;32mif\u001b[0m \u001b[0mX\u001b[0m\u001b[0;34m.\u001b[0m\u001b[0mshape\u001b[0m\u001b[0;34m[\u001b[0m\u001b[0;36m1\u001b[0m\u001b[0;34m]\u001b[0m \u001b[0;34m!=\u001b[0m \u001b[0mn_features\u001b[0m\u001b[0;34m:\u001b[0m\u001b[0;34m\u001b[0m\u001b[0;34m\u001b[0m\u001b[0m\n\u001b[0;32m--> 288\u001b[0;31m             raise ValueError(\"X has %d features per sample; expecting %d\"\n\u001b[0m\u001b[1;32m    289\u001b[0m                              % (X.shape[1], n_features))\n\u001b[1;32m    290\u001b[0m \u001b[0;34m\u001b[0m\u001b[0m\n",
      "\u001b[0;31mValueError\u001b[0m: X has 31 features per sample; expecting 29"
     ]
    }
   ],
   "source": [
    "model.predict(train)"
   ]
  },
  {
   "cell_type": "code",
   "execution_count": 167,
   "metadata": {},
   "outputs": [
    {
     "ename": "ValueError",
     "evalue": "X has 30 features per sample; expecting 29",
     "output_type": "error",
     "traceback": [
      "\u001b[0;31m---------------------------------------------------------------------------\u001b[0m",
      "\u001b[0;31mValueError\u001b[0m                                Traceback (most recent call last)",
      "\u001b[0;32m<ipython-input-167-eafff174eff0>\u001b[0m in \u001b[0;36m<module>\u001b[0;34m\u001b[0m\n\u001b[0;32m----> 1\u001b[0;31m \u001b[0mprint\u001b[0m\u001b[0;34m(\u001b[0m\u001b[0mmetrics\u001b[0m\u001b[0;34m.\u001b[0m\u001b[0mclassification_report\u001b[0m\u001b[0;34m(\u001b[0m\u001b[0mmodel\u001b[0m\u001b[0;34m.\u001b[0m\u001b[0mpredict\u001b[0m\u001b[0;34m(\u001b[0m\u001b[0mtrain_X\u001b[0m\u001b[0;34m)\u001b[0m\u001b[0;34m,\u001b[0m \u001b[0mtrain_y\u001b[0m\u001b[0;34m)\u001b[0m\u001b[0;34m)\u001b[0m\u001b[0;34m\u001b[0m\u001b[0;34m\u001b[0m\u001b[0m\n\u001b[0m",
      "\u001b[0;32m~/opt/anaconda3/lib/python3.8/site-packages/sklearn/linear_model/_base.py\u001b[0m in \u001b[0;36mpredict\u001b[0;34m(self, X)\u001b[0m\n\u001b[1;32m    307\u001b[0m             \u001b[0mPredicted\u001b[0m \u001b[0;32mclass\u001b[0m \u001b[0mlabel\u001b[0m \u001b[0mper\u001b[0m \u001b[0msample\u001b[0m\u001b[0;34m.\u001b[0m\u001b[0;34m\u001b[0m\u001b[0;34m\u001b[0m\u001b[0m\n\u001b[1;32m    308\u001b[0m         \"\"\"\n\u001b[0;32m--> 309\u001b[0;31m         \u001b[0mscores\u001b[0m \u001b[0;34m=\u001b[0m \u001b[0mself\u001b[0m\u001b[0;34m.\u001b[0m\u001b[0mdecision_function\u001b[0m\u001b[0;34m(\u001b[0m\u001b[0mX\u001b[0m\u001b[0;34m)\u001b[0m\u001b[0;34m\u001b[0m\u001b[0;34m\u001b[0m\u001b[0m\n\u001b[0m\u001b[1;32m    310\u001b[0m         \u001b[0;32mif\u001b[0m \u001b[0mlen\u001b[0m\u001b[0;34m(\u001b[0m\u001b[0mscores\u001b[0m\u001b[0;34m.\u001b[0m\u001b[0mshape\u001b[0m\u001b[0;34m)\u001b[0m \u001b[0;34m==\u001b[0m \u001b[0;36m1\u001b[0m\u001b[0;34m:\u001b[0m\u001b[0;34m\u001b[0m\u001b[0;34m\u001b[0m\u001b[0m\n\u001b[1;32m    311\u001b[0m             \u001b[0mindices\u001b[0m \u001b[0;34m=\u001b[0m \u001b[0;34m(\u001b[0m\u001b[0mscores\u001b[0m \u001b[0;34m>\u001b[0m \u001b[0;36m0\u001b[0m\u001b[0;34m)\u001b[0m\u001b[0;34m.\u001b[0m\u001b[0mastype\u001b[0m\u001b[0;34m(\u001b[0m\u001b[0mint\u001b[0m\u001b[0;34m)\u001b[0m\u001b[0;34m\u001b[0m\u001b[0;34m\u001b[0m\u001b[0m\n",
      "\u001b[0;32m~/opt/anaconda3/lib/python3.8/site-packages/sklearn/linear_model/_base.py\u001b[0m in \u001b[0;36mdecision_function\u001b[0;34m(self, X)\u001b[0m\n\u001b[1;32m    286\u001b[0m         \u001b[0mn_features\u001b[0m \u001b[0;34m=\u001b[0m \u001b[0mself\u001b[0m\u001b[0;34m.\u001b[0m\u001b[0mcoef_\u001b[0m\u001b[0;34m.\u001b[0m\u001b[0mshape\u001b[0m\u001b[0;34m[\u001b[0m\u001b[0;36m1\u001b[0m\u001b[0;34m]\u001b[0m\u001b[0;34m\u001b[0m\u001b[0;34m\u001b[0m\u001b[0m\n\u001b[1;32m    287\u001b[0m         \u001b[0;32mif\u001b[0m \u001b[0mX\u001b[0m\u001b[0;34m.\u001b[0m\u001b[0mshape\u001b[0m\u001b[0;34m[\u001b[0m\u001b[0;36m1\u001b[0m\u001b[0;34m]\u001b[0m \u001b[0;34m!=\u001b[0m \u001b[0mn_features\u001b[0m\u001b[0;34m:\u001b[0m\u001b[0;34m\u001b[0m\u001b[0;34m\u001b[0m\u001b[0m\n\u001b[0;32m--> 288\u001b[0;31m             raise ValueError(\"X has %d features per sample; expecting %d\"\n\u001b[0m\u001b[1;32m    289\u001b[0m                              % (X.shape[1], n_features))\n\u001b[1;32m    290\u001b[0m \u001b[0;34m\u001b[0m\u001b[0m\n",
      "\u001b[0;31mValueError\u001b[0m: X has 30 features per sample; expecting 29"
     ]
    }
   ],
   "source": [
    "print(metrics.classification_report(model.predict(train_X), train_y))"
   ]
  },
  {
   "cell_type": "code",
   "execution_count": null,
   "metadata": {},
   "outputs": [],
   "source": [
    "print(metrics.classification_report(model.predict(test_X), test_y))"
   ]
  },
  {
   "cell_type": "markdown",
   "metadata": {},
   "source": [
    "### NAIVE BAYES "
   ]
  },
  {
   "cell_type": "code",
   "execution_count": 170,
   "metadata": {},
   "outputs": [],
   "source": [
    "from sklearn.naive_bayes import BernoulliNB, MultinomialNB, GaussianNB"
   ]
  },
  {
   "cell_type": "code",
   "execution_count": 171,
   "metadata": {},
   "outputs": [],
   "source": [
    "nb_clf = GaussianNB()\n",
    "nb_clf = nb_clf.fit(train_X, train_y)"
   ]
  },
  {
   "cell_type": "code",
   "execution_count": 172,
   "metadata": {},
   "outputs": [
    {
     "data": {
      "text/plain": [
       "array([[111205,   1723],\n",
       "       [   822,  71515]])"
      ]
     },
     "execution_count": 172,
     "metadata": {},
     "output_type": "execute_result"
    }
   ],
   "source": [
    "metrics.confusion_matrix( test_y,nb_clf.predict( test_X) )"
   ]
  },
  {
   "cell_type": "code",
   "execution_count": 173,
   "metadata": {},
   "outputs": [],
   "source": [
    "from sklearn.model_selection import cross_val_score \n",
    "from sklearn.metrics import confusion_matrix \n",
    "from sklearn.metrics import plot_confusion_matrix"
   ]
  },
  {
   "cell_type": "code",
   "execution_count": 174,
   "metadata": {},
   "outputs": [
    {
     "data": {
      "text/plain": [
       "<sklearn.metrics._plot.confusion_matrix.ConfusionMatrixDisplay at 0x7f8ad329de80>"
      ]
     },
     "execution_count": 174,
     "metadata": {},
     "output_type": "execute_result"
    },
    {
     "data": {
      "image/png": "[encoded data removed]",
      "text/plain": [
       "<Figure size 432x288 with 2 Axes>"
      ]
     },
     "metadata": {
      "needs_background": "light"
     },
     "output_type": "display_data"
    }
   ],
   "source": [
    "plot_confusion_matrix(nb_clf,train_X,train_y)"
   ]
  },
  {
   "cell_type": "code",
   "execution_count": 175,
   "metadata": {},
   "outputs": [
    {
     "data": {
      "text/plain": [
       "0.9862629206811864"
      ]
     },
     "execution_count": 175,
     "metadata": {},
     "output_type": "execute_result"
    }
   ],
   "source": [
    "metrics.accuracy_score( test_y, nb_clf.predict( test_X ) )"
   ]
  },
  {
   "cell_type": "markdown",
   "metadata": {},
   "source": [
    "# Multinomial Classification "
   ]
  },
  {
   "cell_type": "code",
   "execution_count": 176,
   "metadata": {},
   "outputs": [
    {
     "data": {
      "text/html": [
       "<div>\n",
       "<style scoped>\n",
       "    .dataframe tbody tr th:only-of-type {\n",
       "        vertical-align: middle;\n",
       "    }\n",
       "\n",
       "    .dataframe tbody tr th {\n",
       "        vertical-align: top;\n",
       "    }\n",
       "\n",
       "    .dataframe thead th {\n",
       "        text-align: right;\n",
       "    }\n",
       "</style>\n",
       "<table border=\"1\" class=\"dataframe\">\n",
       "  <thead>\n",
       "    <tr style=\"text-align: right;\">\n",
       "      <th></th>\n",
       "      <th>duration</th>\n",
       "      <th>protocol_type</th>\n",
       "      <th>service</th>\n",
       "      <th>flag</th>\n",
       "      <th>src_bytes</th>\n",
       "      <th>dst_bytes</th>\n",
       "      <th>land</th>\n",
       "      <th>wrong_fragment</th>\n",
       "      <th>urgent</th>\n",
       "      <th>hot</th>\n",
       "      <th>...</th>\n",
       "      <th>dst_host_same_srv_rate</th>\n",
       "      <th>dst_host_diff_srv_rate</th>\n",
       "      <th>dst_host_same_src_port_rate</th>\n",
       "      <th>dst_host_srv_diff_host_rate</th>\n",
       "      <th>dst_host_serror_rate</th>\n",
       "      <th>dst_host_srv_serror_rate</th>\n",
       "      <th>dst_host_rerror_rate</th>\n",
       "      <th>dst_host_srv_rerror_rate</th>\n",
       "      <th>target</th>\n",
       "      <th>B_target</th>\n",
       "    </tr>\n",
       "  </thead>\n",
       "  <tbody>\n",
       "    <tr>\n",
       "      <th>0</th>\n",
       "      <td>0.0184</td>\n",
       "      <td>0.0</td>\n",
       "      <td>0.05</td>\n",
       "      <td>0.0</td>\n",
       "      <td>0.01511</td>\n",
       "      <td>0.02957</td>\n",
       "      <td>0</td>\n",
       "      <td>0.0</td>\n",
       "      <td>0.0</td>\n",
       "      <td>0.3</td>\n",
       "      <td>...</td>\n",
       "      <td>0.10</td>\n",
       "      <td>0.0</td>\n",
       "      <td>0.10</td>\n",
       "      <td>0.067</td>\n",
       "      <td>0.0</td>\n",
       "      <td>0.0</td>\n",
       "      <td>0.0</td>\n",
       "      <td>0.0</td>\n",
       "      <td>buffer_Overflow</td>\n",
       "      <td>1</td>\n",
       "    </tr>\n",
       "    <tr>\n",
       "      <th>1</th>\n",
       "      <td>0.0305</td>\n",
       "      <td>0.0</td>\n",
       "      <td>0.05</td>\n",
       "      <td>0.0</td>\n",
       "      <td>0.01735</td>\n",
       "      <td>0.02766</td>\n",
       "      <td>0</td>\n",
       "      <td>0.0</td>\n",
       "      <td>0.0</td>\n",
       "      <td>0.3</td>\n",
       "      <td>...</td>\n",
       "      <td>0.10</td>\n",
       "      <td>0.0</td>\n",
       "      <td>0.05</td>\n",
       "      <td>0.050</td>\n",
       "      <td>0.0</td>\n",
       "      <td>0.0</td>\n",
       "      <td>0.0</td>\n",
       "      <td>0.0</td>\n",
       "      <td>buffer_Overflow</td>\n",
       "      <td>1</td>\n",
       "    </tr>\n",
       "    <tr>\n",
       "      <th>2</th>\n",
       "      <td>0.0150</td>\n",
       "      <td>0.0</td>\n",
       "      <td>0.05</td>\n",
       "      <td>0.0</td>\n",
       "      <td>0.01587</td>\n",
       "      <td>0.06707</td>\n",
       "      <td>0</td>\n",
       "      <td>0.0</td>\n",
       "      <td>0.0</td>\n",
       "      <td>0.1</td>\n",
       "      <td>...</td>\n",
       "      <td>0.10</td>\n",
       "      <td>0.0</td>\n",
       "      <td>0.10</td>\n",
       "      <td>0.000</td>\n",
       "      <td>0.0</td>\n",
       "      <td>0.0</td>\n",
       "      <td>0.0</td>\n",
       "      <td>0.0</td>\n",
       "      <td>buffer_Overflow</td>\n",
       "      <td>1</td>\n",
       "    </tr>\n",
       "    <tr>\n",
       "      <th>3</th>\n",
       "      <td>0.0060</td>\n",
       "      <td>0.0</td>\n",
       "      <td>0.05</td>\n",
       "      <td>0.0</td>\n",
       "      <td>0.02328</td>\n",
       "      <td>0.04551</td>\n",
       "      <td>0</td>\n",
       "      <td>0.0</td>\n",
       "      <td>0.0</td>\n",
       "      <td>0.3</td>\n",
       "      <td>...</td>\n",
       "      <td>0.10</td>\n",
       "      <td>0.0</td>\n",
       "      <td>0.10</td>\n",
       "      <td>0.000</td>\n",
       "      <td>0.0</td>\n",
       "      <td>0.0</td>\n",
       "      <td>0.0</td>\n",
       "      <td>0.0</td>\n",
       "      <td>buffer_Overflow</td>\n",
       "      <td>1</td>\n",
       "    </tr>\n",
       "    <tr>\n",
       "      <th>4</th>\n",
       "      <td>0.0158</td>\n",
       "      <td>0.0</td>\n",
       "      <td>0.05</td>\n",
       "      <td>0.0</td>\n",
       "      <td>0.01567</td>\n",
       "      <td>0.03095</td>\n",
       "      <td>0</td>\n",
       "      <td>0.0</td>\n",
       "      <td>0.0</td>\n",
       "      <td>0.3</td>\n",
       "      <td>...</td>\n",
       "      <td>0.10</td>\n",
       "      <td>0.0</td>\n",
       "      <td>0.05</td>\n",
       "      <td>0.000</td>\n",
       "      <td>0.0</td>\n",
       "      <td>0.0</td>\n",
       "      <td>0.0</td>\n",
       "      <td>0.0</td>\n",
       "      <td>buffer_Overflow</td>\n",
       "      <td>1</td>\n",
       "    </tr>\n",
       "    <tr>\n",
       "      <th>...</th>\n",
       "      <td>...</td>\n",
       "      <td>...</td>\n",
       "      <td>...</td>\n",
       "      <td>...</td>\n",
       "      <td>...</td>\n",
       "      <td>...</td>\n",
       "      <td>...</td>\n",
       "      <td>...</td>\n",
       "      <td>...</td>\n",
       "      <td>...</td>\n",
       "      <td>...</td>\n",
       "      <td>...</td>\n",
       "      <td>...</td>\n",
       "      <td>...</td>\n",
       "      <td>...</td>\n",
       "      <td>...</td>\n",
       "      <td>...</td>\n",
       "      <td>...</td>\n",
       "      <td>...</td>\n",
       "      <td>...</td>\n",
       "      <td>...</td>\n",
       "    </tr>\n",
       "    <tr>\n",
       "      <th>817545</th>\n",
       "      <td>0.0000</td>\n",
       "      <td>0.0</td>\n",
       "      <td>0.14</td>\n",
       "      <td>0.0</td>\n",
       "      <td>0.00000</td>\n",
       "      <td>0.00005</td>\n",
       "      <td>0</td>\n",
       "      <td>0.0</td>\n",
       "      <td>0.0</td>\n",
       "      <td>0.0</td>\n",
       "      <td>...</td>\n",
       "      <td>0.10</td>\n",
       "      <td>0.0</td>\n",
       "      <td>0.10</td>\n",
       "      <td>0.002</td>\n",
       "      <td>0.0</td>\n",
       "      <td>0.0</td>\n",
       "      <td>0.0</td>\n",
       "      <td>0.0</td>\n",
       "      <td>FTPWrite</td>\n",
       "      <td>1</td>\n",
       "    </tr>\n",
       "    <tr>\n",
       "      <th>817546</th>\n",
       "      <td>0.0032</td>\n",
       "      <td>0.0</td>\n",
       "      <td>0.07</td>\n",
       "      <td>0.0</td>\n",
       "      <td>0.00104</td>\n",
       "      <td>0.00449</td>\n",
       "      <td>0</td>\n",
       "      <td>0.0</td>\n",
       "      <td>0.0</td>\n",
       "      <td>0.2</td>\n",
       "      <td>...</td>\n",
       "      <td>0.10</td>\n",
       "      <td>0.0</td>\n",
       "      <td>0.10</td>\n",
       "      <td>0.000</td>\n",
       "      <td>0.0</td>\n",
       "      <td>0.0</td>\n",
       "      <td>0.0</td>\n",
       "      <td>0.0</td>\n",
       "      <td>FTPWrite</td>\n",
       "      <td>1</td>\n",
       "    </tr>\n",
       "    <tr>\n",
       "      <th>817547</th>\n",
       "      <td>0.0067</td>\n",
       "      <td>0.0</td>\n",
       "      <td>0.34</td>\n",
       "      <td>0.0</td>\n",
       "      <td>0.00157</td>\n",
       "      <td>0.02703</td>\n",
       "      <td>0</td>\n",
       "      <td>0.0</td>\n",
       "      <td>0.1</td>\n",
       "      <td>0.0</td>\n",
       "      <td>...</td>\n",
       "      <td>0.05</td>\n",
       "      <td>0.1</td>\n",
       "      <td>0.05</td>\n",
       "      <td>0.000</td>\n",
       "      <td>0.0</td>\n",
       "      <td>0.0</td>\n",
       "      <td>0.0</td>\n",
       "      <td>0.0</td>\n",
       "      <td>FTPWrite</td>\n",
       "      <td>1</td>\n",
       "    </tr>\n",
       "    <tr>\n",
       "      <th>817548</th>\n",
       "      <td>0.0000</td>\n",
       "      <td>0.0</td>\n",
       "      <td>0.14</td>\n",
       "      <td>0.0</td>\n",
       "      <td>0.00676</td>\n",
       "      <td>0.00000</td>\n",
       "      <td>0</td>\n",
       "      <td>0.0</td>\n",
       "      <td>0.0</td>\n",
       "      <td>0.0</td>\n",
       "      <td>...</td>\n",
       "      <td>0.10</td>\n",
       "      <td>0.0</td>\n",
       "      <td>0.10</td>\n",
       "      <td>0.050</td>\n",
       "      <td>0.0</td>\n",
       "      <td>0.0</td>\n",
       "      <td>0.0</td>\n",
       "      <td>0.0</td>\n",
       "      <td>FTPWrite</td>\n",
       "      <td>1</td>\n",
       "    </tr>\n",
       "    <tr>\n",
       "      <th>817549</th>\n",
       "      <td>0.0000</td>\n",
       "      <td>0.0</td>\n",
       "      <td>0.14</td>\n",
       "      <td>0.0</td>\n",
       "      <td>0.00000</td>\n",
       "      <td>0.00005</td>\n",
       "      <td>0</td>\n",
       "      <td>0.0</td>\n",
       "      <td>0.0</td>\n",
       "      <td>0.0</td>\n",
       "      <td>...</td>\n",
       "      <td>0.10</td>\n",
       "      <td>0.0</td>\n",
       "      <td>0.10</td>\n",
       "      <td>0.040</td>\n",
       "      <td>0.0</td>\n",
       "      <td>0.0</td>\n",
       "      <td>0.0</td>\n",
       "      <td>0.0</td>\n",
       "      <td>FTPWrite</td>\n",
       "      <td>1</td>\n",
       "    </tr>\n",
       "  </tbody>\n",
       "</table>\n",
       "<p>817550 rows × 43 columns</p>\n",
       "</div>"
      ],
      "text/plain": [
       "        duration  protocol_type  service  flag  src_bytes  dst_bytes  land  \\\n",
       "0         0.0184            0.0     0.05   0.0    0.01511    0.02957     0   \n",
       "1         0.0305            0.0     0.05   0.0    0.01735    0.02766     0   \n",
       "2         0.0150            0.0     0.05   0.0    0.01587    0.06707     0   \n",
       "3         0.0060            0.0     0.05   0.0    0.02328    0.04551     0   \n",
       "4         0.0158            0.0     0.05   0.0    0.01567    0.03095     0   \n",
       "...          ...            ...      ...   ...        ...        ...   ...   \n",
       "817545    0.0000            0.0     0.14   0.0    0.00000    0.00005     0   \n",
       "817546    0.0032            0.0     0.07   0.0    0.00104    0.00449     0   \n",
       "817547    0.0067            0.0     0.34   0.0    0.00157    0.02703     0   \n",
       "817548    0.0000            0.0     0.14   0.0    0.00676    0.00000     0   \n",
       "817549    0.0000            0.0     0.14   0.0    0.00000    0.00005     0   \n",
       "\n",
       "        wrong_fragment  urgent  hot  ...  dst_host_same_srv_rate  \\\n",
       "0                  0.0     0.0  0.3  ...                    0.10   \n",
       "1                  0.0     0.0  0.3  ...                    0.10   \n",
       "2                  0.0     0.0  0.1  ...                    0.10   \n",
       "3                  0.0     0.0  0.3  ...                    0.10   \n",
       "4                  0.0     0.0  0.3  ...                    0.10   \n",
       "...                ...     ...  ...  ...                     ...   \n",
       "817545             0.0     0.0  0.0  ...                    0.10   \n",
       "817546             0.0     0.0  0.2  ...                    0.10   \n",
       "817547             0.0     0.1  0.0  ...                    0.05   \n",
       "817548             0.0     0.0  0.0  ...                    0.10   \n",
       "817549             0.0     0.0  0.0  ...                    0.10   \n",
       "\n",
       "        dst_host_diff_srv_rate  dst_host_same_src_port_rate  \\\n",
       "0                          0.0                         0.10   \n",
       "1                          0.0                         0.05   \n",
       "2                          0.0                         0.10   \n",
       "3                          0.0                         0.10   \n",
       "4                          0.0                         0.05   \n",
       "...                        ...                          ...   \n",
       "817545                     0.0                         0.10   \n",
       "817546                     0.0                         0.10   \n",
       "817547                     0.1                         0.05   \n",
       "817548                     0.0                         0.10   \n",
       "817549                     0.0                         0.10   \n",
       "\n",
       "        dst_host_srv_diff_host_rate  dst_host_serror_rate  \\\n",
       "0                             0.067                   0.0   \n",
       "1                             0.050                   0.0   \n",
       "2                             0.000                   0.0   \n",
       "3                             0.000                   0.0   \n",
       "4                             0.000                   0.0   \n",
       "...                             ...                   ...   \n",
       "817545                        0.002                   0.0   \n",
       "817546                        0.000                   0.0   \n",
       "817547                        0.000                   0.0   \n",
       "817548                        0.050                   0.0   \n",
       "817549                        0.040                   0.0   \n",
       "\n",
       "        dst_host_srv_serror_rate  dst_host_rerror_rate  \\\n",
       "0                            0.0                   0.0   \n",
       "1                            0.0                   0.0   \n",
       "2                            0.0                   0.0   \n",
       "3                            0.0                   0.0   \n",
       "4                            0.0                   0.0   \n",
       "...                          ...                   ...   \n",
       "817545                       0.0                   0.0   \n",
       "817546                       0.0                   0.0   \n",
       "817547                       0.0                   0.0   \n",
       "817548                       0.0                   0.0   \n",
       "817549                       0.0                   0.0   \n",
       "\n",
       "        dst_host_srv_rerror_rate           target  B_target  \n",
       "0                            0.0  buffer_Overflow         1  \n",
       "1                            0.0  buffer_Overflow         1  \n",
       "2                            0.0  buffer_Overflow         1  \n",
       "3                            0.0  buffer_Overflow         1  \n",
       "4                            0.0  buffer_Overflow         1  \n",
       "...                          ...              ...       ...  \n",
       "817545                       0.0         FTPWrite         1  \n",
       "817546                       0.0         FTPWrite         1  \n",
       "817547                       0.0         FTPWrite         1  \n",
       "817548                       0.0         FTPWrite         1  \n",
       "817549                       0.0         FTPWrite         1  \n",
       "\n",
       "[817550 rows x 43 columns]"
      ]
     },
     "execution_count": 176,
     "metadata": {},
     "output_type": "execute_result"
    }
   ],
   "source": [
    "df"
   ]
  },
  {
   "cell_type": "code",
   "execution_count": 177,
   "metadata": {},
   "outputs": [],
   "source": [
    "from sklearn.preprocessing import LabelEncoder\n",
    "encoder = LabelEncoder()"
   ]
  },
  {
   "cell_type": "code",
   "execution_count": 185,
   "metadata": {},
   "outputs": [
    {
     "data": {
      "text/html": [
       "<div>\n",
       "<style scoped>\n",
       "    .dataframe tbody tr th:only-of-type {\n",
       "        vertical-align: middle;\n",
       "    }\n",
       "\n",
       "    .dataframe tbody tr th {\n",
       "        vertical-align: top;\n",
       "    }\n",
       "\n",
       "    .dataframe thead th {\n",
       "        text-align: right;\n",
       "    }\n",
       "</style>\n",
       "<table border=\"1\" class=\"dataframe\">\n",
       "  <thead>\n",
       "    <tr style=\"text-align: right;\">\n",
       "      <th></th>\n",
       "      <th>count</th>\n",
       "      <th>mean</th>\n",
       "      <th>std</th>\n",
       "      <th>min</th>\n",
       "      <th>25%</th>\n",
       "      <th>50%</th>\n",
       "      <th>75%</th>\n",
       "      <th>max</th>\n",
       "    </tr>\n",
       "  </thead>\n",
       "  <tbody>\n",
       "    <tr>\n",
       "      <th>duration</th>\n",
       "      <td>817550.0</td>\n",
       "      <td>8.768052e-04</td>\n",
       "      <td>0.026636</td>\n",
       "      <td>0.0</td>\n",
       "      <td>0.000</td>\n",
       "      <td>0.00000</td>\n",
       "      <td>0.00000</td>\n",
       "      <td>1.000</td>\n",
       "    </tr>\n",
       "    <tr>\n",
       "      <th>protocol_type</th>\n",
       "      <td>817550.0</td>\n",
       "      <td>5.696043e-04</td>\n",
       "      <td>0.002596</td>\n",
       "      <td>0.0</td>\n",
       "      <td>0.000</td>\n",
       "      <td>0.00000</td>\n",
       "      <td>0.00000</td>\n",
       "      <td>0.020</td>\n",
       "    </tr>\n",
       "    <tr>\n",
       "      <th>service</th>\n",
       "      <td>817550.0</td>\n",
       "      <td>5.290873e-02</td>\n",
       "      <td>0.096389</td>\n",
       "      <td>0.0</td>\n",
       "      <td>0.000</td>\n",
       "      <td>0.00000</td>\n",
       "      <td>0.12000</td>\n",
       "      <td>0.670</td>\n",
       "    </tr>\n",
       "    <tr>\n",
       "      <th>flag</th>\n",
       "      <td>817550.0</td>\n",
       "      <td>2.015962e-02</td>\n",
       "      <td>0.030959</td>\n",
       "      <td>0.0</td>\n",
       "      <td>0.000</td>\n",
       "      <td>0.00000</td>\n",
       "      <td>0.07000</td>\n",
       "      <td>0.100</td>\n",
       "    </tr>\n",
       "    <tr>\n",
       "      <th>src_bytes</th>\n",
       "      <td>817550.0</td>\n",
       "      <td>4.961389e-03</td>\n",
       "      <td>0.033235</td>\n",
       "      <td>0.0</td>\n",
       "      <td>0.000</td>\n",
       "      <td>0.00217</td>\n",
       "      <td>0.00299</td>\n",
       "      <td>1.000</td>\n",
       "    </tr>\n",
       "    <tr>\n",
       "      <th>dst_bytes</th>\n",
       "      <td>817550.0</td>\n",
       "      <td>2.486212e-02</td>\n",
       "      <td>0.066635</td>\n",
       "      <td>0.0</td>\n",
       "      <td>0.000</td>\n",
       "      <td>0.00367</td>\n",
       "      <td>0.01969</td>\n",
       "      <td>1.000</td>\n",
       "    </tr>\n",
       "    <tr>\n",
       "      <th>land</th>\n",
       "      <td>817550.0</td>\n",
       "      <td>0.000000e+00</td>\n",
       "      <td>0.000000</td>\n",
       "      <td>0.0</td>\n",
       "      <td>0.000</td>\n",
       "      <td>0.00000</td>\n",
       "      <td>0.00000</td>\n",
       "      <td>0.000</td>\n",
       "    </tr>\n",
       "    <tr>\n",
       "      <th>wrong_fragment</th>\n",
       "      <td>817550.0</td>\n",
       "      <td>3.669500e-07</td>\n",
       "      <td>0.000332</td>\n",
       "      <td>0.0</td>\n",
       "      <td>0.000</td>\n",
       "      <td>0.00000</td>\n",
       "      <td>0.00000</td>\n",
       "      <td>0.300</td>\n",
       "    </tr>\n",
       "    <tr>\n",
       "      <th>urgent</th>\n",
       "      <td>817550.0</td>\n",
       "      <td>2.568650e-06</td>\n",
       "      <td>0.000805</td>\n",
       "      <td>0.0</td>\n",
       "      <td>0.000</td>\n",
       "      <td>0.00000</td>\n",
       "      <td>0.00000</td>\n",
       "      <td>0.500</td>\n",
       "    </tr>\n",
       "    <tr>\n",
       "      <th>hot</th>\n",
       "      <td>817550.0</td>\n",
       "      <td>2.455507e-03</td>\n",
       "      <td>0.041469</td>\n",
       "      <td>0.0</td>\n",
       "      <td>0.000</td>\n",
       "      <td>0.00000</td>\n",
       "      <td>0.00000</td>\n",
       "      <td>1.000</td>\n",
       "    </tr>\n",
       "    <tr>\n",
       "      <th>num_failed_logins</th>\n",
       "      <td>817550.0</td>\n",
       "      <td>1.565653e-05</td>\n",
       "      <td>0.001618</td>\n",
       "      <td>0.0</td>\n",
       "      <td>0.000</td>\n",
       "      <td>0.00000</td>\n",
       "      <td>0.00000</td>\n",
       "      <td>0.500</td>\n",
       "    </tr>\n",
       "    <tr>\n",
       "      <th>logged_in</th>\n",
       "      <td>817550.0</td>\n",
       "      <td>6.381188e-02</td>\n",
       "      <td>0.048054</td>\n",
       "      <td>0.0</td>\n",
       "      <td>0.000</td>\n",
       "      <td>0.10000</td>\n",
       "      <td>0.10000</td>\n",
       "      <td>0.100</td>\n",
       "    </tr>\n",
       "    <tr>\n",
       "      <th>num_compromised</th>\n",
       "      <td>817550.0</td>\n",
       "      <td>2.750902e-04</td>\n",
       "      <td>0.010338</td>\n",
       "      <td>0.0</td>\n",
       "      <td>0.000</td>\n",
       "      <td>0.00000</td>\n",
       "      <td>0.00000</td>\n",
       "      <td>1.000</td>\n",
       "    </tr>\n",
       "    <tr>\n",
       "      <th>root_shell</th>\n",
       "      <td>817550.0</td>\n",
       "      <td>3.070149e-05</td>\n",
       "      <td>0.001752</td>\n",
       "      <td>0.0</td>\n",
       "      <td>0.000</td>\n",
       "      <td>0.00000</td>\n",
       "      <td>0.00000</td>\n",
       "      <td>0.100</td>\n",
       "    </tr>\n",
       "    <tr>\n",
       "      <th>su_attempted</th>\n",
       "      <td>817550.0</td>\n",
       "      <td>1.113082e-05</td>\n",
       "      <td>0.001412</td>\n",
       "      <td>0.0</td>\n",
       "      <td>0.000</td>\n",
       "      <td>0.00000</td>\n",
       "      <td>0.00000</td>\n",
       "      <td>0.200</td>\n",
       "    </tr>\n",
       "    <tr>\n",
       "      <th>num_root</th>\n",
       "      <td>817550.0</td>\n",
       "      <td>1.462541e-03</td>\n",
       "      <td>0.031777</td>\n",
       "      <td>0.0</td>\n",
       "      <td>0.000</td>\n",
       "      <td>0.00000</td>\n",
       "      <td>0.00000</td>\n",
       "      <td>1.000</td>\n",
       "    </tr>\n",
       "    <tr>\n",
       "      <th>num_file_creations</th>\n",
       "      <td>817550.0</td>\n",
       "      <td>2.842640e-04</td>\n",
       "      <td>0.011742</td>\n",
       "      <td>0.0</td>\n",
       "      <td>0.000</td>\n",
       "      <td>0.00000</td>\n",
       "      <td>0.00000</td>\n",
       "      <td>1.000</td>\n",
       "    </tr>\n",
       "    <tr>\n",
       "      <th>num_shells</th>\n",
       "      <td>817550.0</td>\n",
       "      <td>1.969299e-05</td>\n",
       "      <td>0.001412</td>\n",
       "      <td>0.0</td>\n",
       "      <td>0.000</td>\n",
       "      <td>0.00000</td>\n",
       "      <td>0.00000</td>\n",
       "      <td>0.200</td>\n",
       "    </tr>\n",
       "    <tr>\n",
       "      <th>num_access_files</th>\n",
       "      <td>817550.0</td>\n",
       "      <td>3.603449e-04</td>\n",
       "      <td>0.006565</td>\n",
       "      <td>0.0</td>\n",
       "      <td>0.000</td>\n",
       "      <td>0.00000</td>\n",
       "      <td>0.00000</td>\n",
       "      <td>0.900</td>\n",
       "    </tr>\n",
       "    <tr>\n",
       "      <th>num_outbound_cmds</th>\n",
       "      <td>817550.0</td>\n",
       "      <td>0.000000e+00</td>\n",
       "      <td>0.000000</td>\n",
       "      <td>0.0</td>\n",
       "      <td>0.000</td>\n",
       "      <td>0.00000</td>\n",
       "      <td>0.00000</td>\n",
       "      <td>0.000</td>\n",
       "    </tr>\n",
       "    <tr>\n",
       "      <th>is_host_login</th>\n",
       "      <td>817550.0</td>\n",
       "      <td>1.223167e-07</td>\n",
       "      <td>0.000111</td>\n",
       "      <td>0.0</td>\n",
       "      <td>0.000</td>\n",
       "      <td>0.00000</td>\n",
       "      <td>0.00000</td>\n",
       "      <td>0.100</td>\n",
       "    </tr>\n",
       "    <tr>\n",
       "      <th>is_guest_login</th>\n",
       "      <td>817550.0</td>\n",
       "      <td>2.769250e-04</td>\n",
       "      <td>0.005255</td>\n",
       "      <td>0.0</td>\n",
       "      <td>0.000</td>\n",
       "      <td>0.00000</td>\n",
       "      <td>0.00000</td>\n",
       "      <td>0.100</td>\n",
       "    </tr>\n",
       "    <tr>\n",
       "      <th>count</th>\n",
       "      <td>817550.0</td>\n",
       "      <td>5.985712e-02</td>\n",
       "      <td>0.091984</td>\n",
       "      <td>0.0</td>\n",
       "      <td>0.003</td>\n",
       "      <td>0.01100</td>\n",
       "      <td>0.10600</td>\n",
       "      <td>0.511</td>\n",
       "    </tr>\n",
       "    <tr>\n",
       "      <th>srv_count</th>\n",
       "      <td>817550.0</td>\n",
       "      <td>1.407805e-02</td>\n",
       "      <td>0.031403</td>\n",
       "      <td>0.0</td>\n",
       "      <td>0.003</td>\n",
       "      <td>0.00800</td>\n",
       "      <td>0.01600</td>\n",
       "      <td>0.511</td>\n",
       "    </tr>\n",
       "    <tr>\n",
       "      <th>serror_rate</th>\n",
       "      <td>817550.0</td>\n",
       "      <td>2.483347e-02</td>\n",
       "      <td>0.043074</td>\n",
       "      <td>0.0</td>\n",
       "      <td>0.000</td>\n",
       "      <td>0.00000</td>\n",
       "      <td>0.01500</td>\n",
       "      <td>0.100</td>\n",
       "    </tr>\n",
       "    <tr>\n",
       "      <th>srv_error_rate</th>\n",
       "      <td>817550.0</td>\n",
       "      <td>2.492892e-02</td>\n",
       "      <td>0.043153</td>\n",
       "      <td>0.0</td>\n",
       "      <td>0.000</td>\n",
       "      <td>0.00000</td>\n",
       "      <td>0.01700</td>\n",
       "      <td>0.100</td>\n",
       "    </tr>\n",
       "    <tr>\n",
       "      <th>rerror_rate</th>\n",
       "      <td>817550.0</td>\n",
       "      <td>5.355293e-03</td>\n",
       "      <td>0.022330</td>\n",
       "      <td>0.0</td>\n",
       "      <td>0.000</td>\n",
       "      <td>0.00000</td>\n",
       "      <td>0.00000</td>\n",
       "      <td>0.100</td>\n",
       "    </tr>\n",
       "    <tr>\n",
       "      <th>srv_rerror_rate</th>\n",
       "      <td>817550.0</td>\n",
       "      <td>5.313484e-03</td>\n",
       "      <td>0.022215</td>\n",
       "      <td>0.0</td>\n",
       "      <td>0.000</td>\n",
       "      <td>0.00000</td>\n",
       "      <td>0.00000</td>\n",
       "      <td>0.100</td>\n",
       "    </tr>\n",
       "    <tr>\n",
       "      <th>same_srv_rate</th>\n",
       "      <td>817550.0</td>\n",
       "      <td>7.347058e-02</td>\n",
       "      <td>0.041806</td>\n",
       "      <td>0.0</td>\n",
       "      <td>0.014</td>\n",
       "      <td>0.10000</td>\n",
       "      <td>0.10000</td>\n",
       "      <td>0.100</td>\n",
       "    </tr>\n",
       "    <tr>\n",
       "      <th>diff_srv_rate</th>\n",
       "      <td>817550.0</td>\n",
       "      <td>2.938619e-03</td>\n",
       "      <td>0.010127</td>\n",
       "      <td>0.0</td>\n",
       "      <td>0.000</td>\n",
       "      <td>0.00000</td>\n",
       "      <td>0.00500</td>\n",
       "      <td>0.100</td>\n",
       "    </tr>\n",
       "    <tr>\n",
       "      <th>srv_diff_host_rate</th>\n",
       "      <td>817550.0</td>\n",
       "      <td>1.006425e-02</td>\n",
       "      <td>0.023558</td>\n",
       "      <td>0.0</td>\n",
       "      <td>0.000</td>\n",
       "      <td>0.00000</td>\n",
       "      <td>0.00800</td>\n",
       "      <td>0.100</td>\n",
       "    </tr>\n",
       "    <tr>\n",
       "      <th>dst_host_count</th>\n",
       "      <td>817550.0</td>\n",
       "      <td>1.668684e-01</td>\n",
       "      <td>0.102058</td>\n",
       "      <td>0.0</td>\n",
       "      <td>0.054</td>\n",
       "      <td>0.25500</td>\n",
       "      <td>0.25500</td>\n",
       "      <td>0.255</td>\n",
       "    </tr>\n",
       "    <tr>\n",
       "      <th>dst_host_srv_count</th>\n",
       "      <td>817550.0</td>\n",
       "      <td>1.616515e-01</td>\n",
       "      <td>0.111642</td>\n",
       "      <td>0.0</td>\n",
       "      <td>0.017</td>\n",
       "      <td>0.25500</td>\n",
       "      <td>0.25500</td>\n",
       "      <td>0.255</td>\n",
       "    </tr>\n",
       "    <tr>\n",
       "      <th>dst_host_same_srv_rate</th>\n",
       "      <td>817550.0</td>\n",
       "      <td>6.679459e-02</td>\n",
       "      <td>0.043421</td>\n",
       "      <td>0.0</td>\n",
       "      <td>0.007</td>\n",
       "      <td>0.10000</td>\n",
       "      <td>0.10000</td>\n",
       "      <td>0.100</td>\n",
       "    </tr>\n",
       "    <tr>\n",
       "      <th>dst_host_diff_srv_rate</th>\n",
       "      <td>817550.0</td>\n",
       "      <td>3.380001e-03</td>\n",
       "      <td>0.008557</td>\n",
       "      <td>0.0</td>\n",
       "      <td>0.000</td>\n",
       "      <td>0.00000</td>\n",
       "      <td>0.00600</td>\n",
       "      <td>0.100</td>\n",
       "    </tr>\n",
       "    <tr>\n",
       "      <th>dst_host_same_src_port_rate</th>\n",
       "      <td>817550.0</td>\n",
       "      <td>6.147737e-03</td>\n",
       "      <td>0.017459</td>\n",
       "      <td>0.0</td>\n",
       "      <td>0.000</td>\n",
       "      <td>0.00000</td>\n",
       "      <td>0.00300</td>\n",
       "      <td>0.100</td>\n",
       "    </tr>\n",
       "    <tr>\n",
       "      <th>dst_host_srv_diff_host_rate</th>\n",
       "      <td>817550.0</td>\n",
       "      <td>1.682597e-03</td>\n",
       "      <td>0.003708</td>\n",
       "      <td>0.0</td>\n",
       "      <td>0.000</td>\n",
       "      <td>0.00000</td>\n",
       "      <td>0.00200</td>\n",
       "      <td>0.100</td>\n",
       "    </tr>\n",
       "    <tr>\n",
       "      <th>dst_host_serror_rate</th>\n",
       "      <td>817550.0</td>\n",
       "      <td>2.486527e-02</td>\n",
       "      <td>0.043062</td>\n",
       "      <td>0.0</td>\n",
       "      <td>0.000</td>\n",
       "      <td>0.00000</td>\n",
       "      <td>0.01400</td>\n",
       "      <td>0.100</td>\n",
       "    </tr>\n",
       "    <tr>\n",
       "      <th>dst_host_srv_serror_rate</th>\n",
       "      <td>817550.0</td>\n",
       "      <td>2.485191e-02</td>\n",
       "      <td>0.043151</td>\n",
       "      <td>0.0</td>\n",
       "      <td>0.000</td>\n",
       "      <td>0.00000</td>\n",
       "      <td>0.00300</td>\n",
       "      <td>0.100</td>\n",
       "    </tr>\n",
       "    <tr>\n",
       "      <th>dst_host_rerror_rate</th>\n",
       "      <td>817550.0</td>\n",
       "      <td>5.372208e-03</td>\n",
       "      <td>0.021920</td>\n",
       "      <td>0.0</td>\n",
       "      <td>0.000</td>\n",
       "      <td>0.00000</td>\n",
       "      <td>0.00000</td>\n",
       "      <td>0.100</td>\n",
       "    </tr>\n",
       "    <tr>\n",
       "      <th>dst_host_srv_rerror_rate</th>\n",
       "      <td>817550.0</td>\n",
       "      <td>5.278927e-03</td>\n",
       "      <td>0.022070</td>\n",
       "      <td>0.0</td>\n",
       "      <td>0.000</td>\n",
       "      <td>0.00000</td>\n",
       "      <td>0.00000</td>\n",
       "      <td>0.100</td>\n",
       "    </tr>\n",
       "    <tr>\n",
       "      <th>B_target</th>\n",
       "      <td>817550.0</td>\n",
       "      <td>2.945875e-01</td>\n",
       "      <td>0.455857</td>\n",
       "      <td>0.0</td>\n",
       "      <td>0.000</td>\n",
       "      <td>0.00000</td>\n",
       "      <td>1.00000</td>\n",
       "      <td>1.000</td>\n",
       "    </tr>\n",
       "  </tbody>\n",
       "</table>\n",
       "</div>"
      ],
      "text/plain": [
       "                                count          mean       std  min    25%  \\\n",
       "duration                     817550.0  8.768052e-04  0.026636  0.0  0.000   \n",
       "protocol_type                817550.0  5.696043e-04  0.002596  0.0  0.000   \n",
       "service                      817550.0  5.290873e-02  0.096389  0.0  0.000   \n",
       "flag                         817550.0  2.015962e-02  0.030959  0.0  0.000   \n",
       "src_bytes                    817550.0  4.961389e-03  0.033235  0.0  0.000   \n",
       "dst_bytes                    817550.0  2.486212e-02  0.066635  0.0  0.000   \n",
       "land                         817550.0  0.000000e+00  0.000000  0.0  0.000   \n",
       "wrong_fragment               817550.0  3.669500e-07  0.000332  0.0  0.000   \n",
       "urgent                       817550.0  2.568650e-06  0.000805  0.0  0.000   \n",
       "hot                          817550.0  2.455507e-03  0.041469  0.0  0.000   \n",
       "num_failed_logins            817550.0  1.565653e-05  0.001618  0.0  0.000   \n",
       "logged_in                    817550.0  6.381188e-02  0.048054  0.0  0.000   \n",
       "num_compromised              817550.0  2.750902e-04  0.010338  0.0  0.000   \n",
       "root_shell                   817550.0  3.070149e-05  0.001752  0.0  0.000   \n",
       "su_attempted                 817550.0  1.113082e-05  0.001412  0.0  0.000   \n",
       "num_root                     817550.0  1.462541e-03  0.031777  0.0  0.000   \n",
       "num_file_creations           817550.0  2.842640e-04  0.011742  0.0  0.000   \n",
       "num_shells                   817550.0  1.969299e-05  0.001412  0.0  0.000   \n",
       "num_access_files             817550.0  3.603449e-04  0.006565  0.0  0.000   \n",
       "num_outbound_cmds            817550.0  0.000000e+00  0.000000  0.0  0.000   \n",
       "is_host_login                817550.0  1.223167e-07  0.000111  0.0  0.000   \n",
       "is_guest_login               817550.0  2.769250e-04  0.005255  0.0  0.000   \n",
       "count                        817550.0  5.985712e-02  0.091984  0.0  0.003   \n",
       "srv_count                    817550.0  1.407805e-02  0.031403  0.0  0.003   \n",
       "serror_rate                  817550.0  2.483347e-02  0.043074  0.0  0.000   \n",
       "srv_error_rate               817550.0  2.492892e-02  0.043153  0.0  0.000   \n",
       "rerror_rate                  817550.0  5.355293e-03  0.022330  0.0  0.000   \n",
       "srv_rerror_rate              817550.0  5.313484e-03  0.022215  0.0  0.000   \n",
       "same_srv_rate                817550.0  7.347058e-02  0.041806  0.0  0.014   \n",
       "diff_srv_rate                817550.0  2.938619e-03  0.010127  0.0  0.000   \n",
       "srv_diff_host_rate           817550.0  1.006425e-02  0.023558  0.0  0.000   \n",
       "dst_host_count               817550.0  1.668684e-01  0.102058  0.0  0.054   \n",
       "dst_host_srv_count           817550.0  1.616515e-01  0.111642  0.0  0.017   \n",
       "dst_host_same_srv_rate       817550.0  6.679459e-02  0.043421  0.0  0.007   \n",
       "dst_host_diff_srv_rate       817550.0  3.380001e-03  0.008557  0.0  0.000   \n",
       "dst_host_same_src_port_rate  817550.0  6.147737e-03  0.017459  0.0  0.000   \n",
       "dst_host_srv_diff_host_rate  817550.0  1.682597e-03  0.003708  0.0  0.000   \n",
       "dst_host_serror_rate         817550.0  2.486527e-02  0.043062  0.0  0.000   \n",
       "dst_host_srv_serror_rate     817550.0  2.485191e-02  0.043151  0.0  0.000   \n",
       "dst_host_rerror_rate         817550.0  5.372208e-03  0.021920  0.0  0.000   \n",
       "dst_host_srv_rerror_rate     817550.0  5.278927e-03  0.022070  0.0  0.000   \n",
       "B_target                     817550.0  2.945875e-01  0.455857  0.0  0.000   \n",
       "\n",
       "                                 50%      75%    max  \n",
       "duration                     0.00000  0.00000  1.000  \n",
       "protocol_type                0.00000  0.00000  0.020  \n",
       "service                      0.00000  0.12000  0.670  \n",
       "flag                         0.00000  0.07000  0.100  \n",
       "src_bytes                    0.00217  0.00299  1.000  \n",
       "dst_bytes                    0.00367  0.01969  1.000  \n",
       "land                         0.00000  0.00000  0.000  \n",
       "wrong_fragment               0.00000  0.00000  0.300  \n",
       "urgent                       0.00000  0.00000  0.500  \n",
       "hot                          0.00000  0.00000  1.000  \n",
       "num_failed_logins            0.00000  0.00000  0.500  \n",
       "logged_in                    0.10000  0.10000  0.100  \n",
       "num_compromised              0.00000  0.00000  1.000  \n",
       "root_shell                   0.00000  0.00000  0.100  \n",
       "su_attempted                 0.00000  0.00000  0.200  \n",
       "num_root                     0.00000  0.00000  1.000  \n",
       "num_file_creations           0.00000  0.00000  1.000  \n",
       "num_shells                   0.00000  0.00000  0.200  \n",
       "num_access_files             0.00000  0.00000  0.900  \n",
       "num_outbound_cmds            0.00000  0.00000  0.000  \n",
       "is_host_login                0.00000  0.00000  0.100  \n",
       "is_guest_login               0.00000  0.00000  0.100  \n",
       "count                        0.01100  0.10600  0.511  \n",
       "srv_count                    0.00800  0.01600  0.511  \n",
       "serror_rate                  0.00000  0.01500  0.100  \n",
       "srv_error_rate               0.00000  0.01700  0.100  \n",
       "rerror_rate                  0.00000  0.00000  0.100  \n",
       "srv_rerror_rate              0.00000  0.00000  0.100  \n",
       "same_srv_rate                0.10000  0.10000  0.100  \n",
       "diff_srv_rate                0.00000  0.00500  0.100  \n",
       "srv_diff_host_rate           0.00000  0.00800  0.100  \n",
       "dst_host_count               0.25500  0.25500  0.255  \n",
       "dst_host_srv_count           0.25500  0.25500  0.255  \n",
       "dst_host_same_srv_rate       0.10000  0.10000  0.100  \n",
       "dst_host_diff_srv_rate       0.00000  0.00600  0.100  \n",
       "dst_host_same_src_port_rate  0.00000  0.00300  0.100  \n",
       "dst_host_srv_diff_host_rate  0.00000  0.00200  0.100  \n",
       "dst_host_serror_rate         0.00000  0.01400  0.100  \n",
       "dst_host_srv_serror_rate     0.00000  0.00300  0.100  \n",
       "dst_host_rerror_rate         0.00000  0.00000  0.100  \n",
       "dst_host_srv_rerror_rate     0.00000  0.00000  0.100  \n",
       "B_target                     0.00000  1.00000  1.000  "
      ]
     },
     "execution_count": 185,
     "metadata": {},
     "output_type": "execute_result"
    }
   ],
   "source": [
    "df.describe().T"
   ]
  },
  {
   "cell_type": "code",
   "execution_count": 186,
   "metadata": {},
   "outputs": [
    {
     "name": "stdout",
     "output_type": "stream",
     "text": [
      "<class 'pandas.core.frame.DataFrame'>\n",
      "RangeIndex: 817550 entries, 0 to 817549\n",
      "Data columns (total 43 columns):\n",
      " #   Column                       Non-Null Count   Dtype  \n",
      "---  ------                       --------------   -----  \n",
      " 0   duration                     817550 non-null  float64\n",
      " 1   protocol_type                817550 non-null  float64\n",
      " 2   service                      817550 non-null  float64\n",
      " 3   flag                         817550 non-null  float64\n",
      " 4   src_bytes                    817550 non-null  float64\n",
      " 5   dst_bytes                    817550 non-null  float64\n",
      " 6   land                         817550 non-null  int64  \n",
      " 7   wrong_fragment               817550 non-null  float64\n",
      " 8   urgent                       817550 non-null  float64\n",
      " 9   hot                          817550 non-null  float64\n",
      " 10  num_failed_logins            817550 non-null  float64\n",
      " 11  logged_in                    817550 non-null  float64\n",
      " 12  num_compromised              817550 non-null  float64\n",
      " 13  root_shell                   817550 non-null  float64\n",
      " 14  su_attempted                 817550 non-null  float64\n",
      " 15  num_root                     817550 non-null  float64\n",
      " 16  num_file_creations           817550 non-null  float64\n",
      " 17  num_shells                   817550 non-null  float64\n",
      " 18  num_access_files             817550 non-null  float64\n",
      " 19  num_outbound_cmds            817550 non-null  int64  \n",
      " 20  is_host_login                817550 non-null  float64\n",
      " 21  is_guest_login               817550 non-null  float64\n",
      " 22  count                        817550 non-null  float64\n",
      " 23  srv_count                    817550 non-null  float64\n",
      " 24  serror_rate                  817550 non-null  float64\n",
      " 25  srv_error_rate               817550 non-null  float64\n",
      " 26  rerror_rate                  817550 non-null  float64\n",
      " 27  srv_rerror_rate              817550 non-null  float64\n",
      " 28  same_srv_rate                817550 non-null  float64\n",
      " 29  diff_srv_rate                817550 non-null  float64\n",
      " 30  srv_diff_host_rate           817550 non-null  float64\n",
      " 31  dst_host_count               817550 non-null  float64\n",
      " 32  dst_host_srv_count           817550 non-null  float64\n",
      " 33  dst_host_same_srv_rate       817550 non-null  float64\n",
      " 34  dst_host_diff_srv_rate       817550 non-null  float64\n",
      " 35  dst_host_same_src_port_rate  817550 non-null  float64\n",
      " 36  dst_host_srv_diff_host_rate  817550 non-null  float64\n",
      " 37  dst_host_serror_rate         817550 non-null  float64\n",
      " 38  dst_host_srv_serror_rate     817550 non-null  float64\n",
      " 39  dst_host_rerror_rate         817550 non-null  float64\n",
      " 40  dst_host_srv_rerror_rate     817550 non-null  float64\n",
      " 41  target                       817550 non-null  object \n",
      " 42  B_target                     817550 non-null  int64  \n",
      "dtypes: float64(39), int64(3), object(1)\n",
      "memory usage: 268.2+ MB\n"
     ]
    }
   ],
   "source": [
    "df.info()"
   ]
  },
  {
   "cell_type": "code",
   "execution_count": 188,
   "metadata": {},
   "outputs": [
    {
     "data": {
      "text/html": [
       "<div>\n",
       "<style scoped>\n",
       "    .dataframe tbody tr th:only-of-type {\n",
       "        vertical-align: middle;\n",
       "    }\n",
       "\n",
       "    .dataframe tbody tr th {\n",
       "        vertical-align: top;\n",
       "    }\n",
       "\n",
       "    .dataframe thead th {\n",
       "        text-align: right;\n",
       "    }\n",
       "</style>\n",
       "<table border=\"1\" class=\"dataframe\">\n",
       "  <thead>\n",
       "    <tr style=\"text-align: right;\">\n",
       "      <th></th>\n",
       "      <th>target</th>\n",
       "    </tr>\n",
       "  </thead>\n",
       "  <tbody>\n",
       "    <tr>\n",
       "      <th>0</th>\n",
       "      <td>9</td>\n",
       "    </tr>\n",
       "    <tr>\n",
       "      <th>1</th>\n",
       "      <td>9</td>\n",
       "    </tr>\n",
       "    <tr>\n",
       "      <th>2</th>\n",
       "      <td>9</td>\n",
       "    </tr>\n",
       "    <tr>\n",
       "      <th>3</th>\n",
       "      <td>9</td>\n",
       "    </tr>\n",
       "    <tr>\n",
       "      <th>4</th>\n",
       "      <td>9</td>\n",
       "    </tr>\n",
       "    <tr>\n",
       "      <th>...</th>\n",
       "      <td>...</td>\n",
       "    </tr>\n",
       "    <tr>\n",
       "      <th>817545</th>\n",
       "      <td>0</td>\n",
       "    </tr>\n",
       "    <tr>\n",
       "      <th>817546</th>\n",
       "      <td>0</td>\n",
       "    </tr>\n",
       "    <tr>\n",
       "      <th>817547</th>\n",
       "      <td>0</td>\n",
       "    </tr>\n",
       "    <tr>\n",
       "      <th>817548</th>\n",
       "      <td>0</td>\n",
       "    </tr>\n",
       "    <tr>\n",
       "      <th>817549</th>\n",
       "      <td>0</td>\n",
       "    </tr>\n",
       "  </tbody>\n",
       "</table>\n",
       "<p>817550 rows × 1 columns</p>\n",
       "</div>"
      ],
      "text/plain": [
       "        target\n",
       "0            9\n",
       "1            9\n",
       "2            9\n",
       "3            9\n",
       "4            9\n",
       "...        ...\n",
       "817545       0\n",
       "817546       0\n",
       "817547       0\n",
       "817548       0\n",
       "817549       0\n",
       "\n",
       "[817550 rows x 1 columns]"
      ]
     },
     "execution_count": 188,
     "metadata": {},
     "output_type": "execute_result"
    }
   ],
   "source": [
    "df_cat = df.select_dtypes(include='O')\n",
    "df_cat = df_cat.apply(encoder.fit_transform)\n",
    "df_cat"
   ]
  },
  {
   "cell_type": "code",
   "execution_count": 189,
   "metadata": {},
   "outputs": [],
   "source": [
    "target=df_cat"
   ]
  },
  {
   "cell_type": "code",
   "execution_count": 190,
   "metadata": {},
   "outputs": [],
   "source": [
    "features=df.drop(['target','B_target'],axis=1)"
   ]
  },
  {
   "cell_type": "code",
   "execution_count": 191,
   "metadata": {},
   "outputs": [],
   "source": [
    "### outlier removal \n",
    "features = features.apply( lambda x: x.clip(lower = x.quantile(0.01), upper = x.quantile(0.99)) )"
   ]
  },
  {
   "cell_type": "markdown",
   "metadata": {},
   "source": [
    "### Feature selection \n"
   ]
  },
  {
   "cell_type": "code",
   "execution_count": 192,
   "metadata": {},
   "outputs": [
    {
     "name": "stderr",
     "output_type": "stream",
     "text": [
      "<ipython-input-192-7e1d859ef4da>:4: DataConversionWarning: A column-vector y was passed when a 1d array was expected. Please change the shape of y to (n_samples,), for example using ravel().\n",
      "  rfc.fit(features,target)\n"
     ]
    },
    {
     "data": {
      "text/plain": [
       "RandomForestClassifier()"
      ]
     },
     "execution_count": 192,
     "metadata": {},
     "output_type": "execute_result"
    }
   ],
   "source": [
    "\n",
    "from sklearn.ensemble import RandomForestClassifier\n",
    "rfc = RandomForestClassifier()\n",
    "#fit the data to the random forest classifier\n",
    "rfc.fit(features,target)"
   ]
  },
  {
   "cell_type": "code",
   "execution_count": 194,
   "metadata": {},
   "outputs": [
    {
     "data": {
      "text/plain": [
       "<AxesSubplot:>"
      ]
     },
     "execution_count": 194,
     "metadata": {},
     "output_type": "execute_result"
    },
    {
     "data": {
      "image/png": "[encoded data removed]",
      "text/plain": [
       "<Figure size 936x288 with 1 Axes>"
      ]
     },
     "metadata": {
      "needs_background": "light"
     },
     "output_type": "display_data"
    }
   ],
   "source": [
    "#store the featue importance in dataframe feature_impora\n",
    "feature_imp = pd.DataFrame(index=features.columns,data=rfc.feature_importances_)\n",
    "# renaming column names\n",
    "feature_imp.columns=['imp']\n",
    "# sorting the featues by descending importance\n",
    "feature_imp = feature_imp.sort_values(by='imp',ascending=False)\n",
    "#plotting features having importance > 0\n",
    "feature_imp[feature_imp.imp > 0].plot(figsize=(13,4),kind='bar')"
   ]
  },
  {
   "cell_type": "code",
   "execution_count": 196,
   "metadata": {},
   "outputs": [],
   "source": [
    "features = features[['service', 'flag', 'src_bytes', 'dst_bytes', 'count',\n",
    "       'same_srv_rate', 'diff_srv_rate', 'dst_host_count',\n",
    "       'dst_host_same_srv_rate', 'dst_host_diff_srv_rate']]"
   ]
  },
  {
   "cell_type": "code",
   "execution_count": 197,
   "metadata": {},
   "outputs": [],
   "source": [
    "#splitting the dataset in training and testing\n",
    "from sklearn.model_selection import train_test_split\n",
    "\n",
    "X_M_train, X_M_test, Y_M_train, Y_M_test = train_test_split(features, target, test_size=0.25, random_state=11)"
   ]
  },
  {
   "cell_type": "code",
   "execution_count": 198,
   "metadata": {},
   "outputs": [
    {
     "name": "stderr",
     "output_type": "stream",
     "text": [
      "/Users/abin/opt/anaconda3/lib/python3.8/site-packages/sklearn/neighbors/_classification.py:179: DataConversionWarning: A column-vector y was passed when a 1d array was expected. Please change the shape of y to (n_samples,), for example using ravel().\n",
      "  return self._fit(X, y)\n",
      "/Users/abin/opt/anaconda3/lib/python3.8/site-packages/sklearn/utils/validation.py:63: DataConversionWarning: A column-vector y was passed when a 1d array was expected. Please change the shape of y to (n_samples, ), for example using ravel().\n",
      "  return f(*args, **kwargs)\n"
     ]
    },
    {
     "data": {
      "text/plain": [
       "DecisionTreeClassifier(criterion='entropy', random_state=11)"
      ]
     },
     "execution_count": 198,
     "metadata": {},
     "output_type": "execute_result"
    }
   ],
   "source": [
    "from sklearn.svm import SVC \n",
    "from sklearn import tree\n",
    "from sklearn.model_selection import cross_val_score\n",
    "from sklearn.neighbors import KNeighborsClassifier\n",
    "from sklearn.linear_model import LogisticRegression\n",
    "\n",
    "#Train KNeighborsClassifier Model\n",
    "KNN_M = KNeighborsClassifier(n_jobs=-1) \n",
    "KNN_M.fit(X_M_train, Y_M_train)\n",
    "\n",
    "#Train LogisticRegression Model\n",
    "LG_class_M = LogisticRegression(n_jobs=-1, random_state=11) \n",
    "LG_class_M.fit(X_M_train, Y_M_train)\n",
    "\n",
    "#Train Decision Tree Model\n",
    "Dt_classifier_M = tree.DecisionTreeClassifier(criterion='entropy', random_state=11) \n",
    "Dt_classifier_M.fit(X_M_train, Y_M_train)"
   ]
  },
  {
   "cell_type": "code",
   "execution_count": 199,
   "metadata": {},
   "outputs": [],
   "source": [
    "multi_class_models = {'KNN_classifier': KNN_M,\n",
    "                         'Logistic_regresssion_classifier': LG_class_M,\n",
    "                         'Decision_tree_classifier': Dt_classifier_M                         \n",
    "                         }"
   ]
  },
  {
   "cell_type": "code",
   "execution_count": 201,
   "metadata": {},
   "outputs": [
    {
     "name": "stderr",
     "output_type": "stream",
     "text": [
      "/Users/abin/opt/anaconda3/lib/python3.8/site-packages/sklearn/metrics/_classification.py:1248: UndefinedMetricWarning: Precision and F-score are ill-defined and being set to 0.0 in labels with no predicted samples. Use `zero_division` parameter to control this behavior.\n",
      "  _warn_prf(average, modifier, msg_start, len(result))\n",
      "/Users/abin/opt/anaconda3/lib/python3.8/site-packages/sklearn/metrics/_classification.py:1248: UndefinedMetricWarning: Precision and F-score are ill-defined and being set to 0.0 in labels with no predicted samples. Use `zero_division` parameter to control this behavior.\n",
      "  _warn_prf(average, modifier, msg_start, len(result))\n",
      "/Users/abin/opt/anaconda3/lib/python3.8/site-packages/sklearn/metrics/_classification.py:1248: UndefinedMetricWarning: Precision and F-score are ill-defined and being set to 0.0 in labels with no predicted samples. Use `zero_division` parameter to control this behavior.\n",
      "  _warn_prf(average, modifier, msg_start, len(result))\n"
     ]
    },
    {
     "name": "stdout",
     "output_type": "stream",
     "text": [
      "--------------------------------KNN_classifier Model Evaluation--------------------------\n",
      "Accuracy :\n",
      " 0.9994471281651505\n",
      "\n",
      "\n",
      "Classification report:\n",
      "               precision    recall  f1-score   support\n",
      "\n",
      "           0       0.00      0.00      0.00         6\n",
      "           1       0.94      0.97      0.96        35\n",
      "           2       1.00      1.00      1.00    170056\n",
      "           3       0.94      0.93      0.94      1144\n",
      "           4       1.00      1.00      1.00    432922\n",
      "           5       0.96      0.95      0.95      2210\n",
      "           6       0.00      0.00      0.00         5\n",
      "           7       0.99      0.98      0.99      3760\n",
      "           8       1.00      1.00      1.00      2268\n",
      "           9       0.86      0.75      0.80        24\n",
      "          10       1.00      1.00      1.00       732\n",
      "\n",
      "    accuracy                           1.00    613162\n",
      "   macro avg       0.79      0.78      0.78    613162\n",
      "weighted avg       1.00      1.00      1.00    613162\n",
      "\n"
     ]
    },
    {
     "name": "stderr",
     "output_type": "stream",
     "text": [
      "/Users/abin/opt/anaconda3/lib/python3.8/site-packages/sklearn/metrics/_classification.py:1248: UndefinedMetricWarning: Precision and F-score are ill-defined and being set to 0.0 in labels with no predicted samples. Use `zero_division` parameter to control this behavior.\n",
      "  _warn_prf(average, modifier, msg_start, len(result))\n",
      "/Users/abin/opt/anaconda3/lib/python3.8/site-packages/sklearn/metrics/_classification.py:1248: UndefinedMetricWarning: Precision and F-score are ill-defined and being set to 0.0 in labels with no predicted samples. Use `zero_division` parameter to control this behavior.\n",
      "  _warn_prf(average, modifier, msg_start, len(result))\n",
      "/Users/abin/opt/anaconda3/lib/python3.8/site-packages/sklearn/metrics/_classification.py:1248: UndefinedMetricWarning: Precision and F-score are ill-defined and being set to 0.0 in labels with no predicted samples. Use `zero_division` parameter to control this behavior.\n",
      "  _warn_prf(average, modifier, msg_start, len(result))\n"
     ]
    },
    {
     "name": "stdout",
     "output_type": "stream",
     "text": [
      "--------------------------------Logistic_regresssion_classifier Model Evaluation--------------------------\n",
      "Accuracy :\n",
      " 0.9912682129681879\n",
      "\n",
      "\n",
      "Classification report:\n",
      "               precision    recall  f1-score   support\n",
      "\n",
      "           0       0.00      0.00      0.00         6\n",
      "           1       0.00      0.00      0.00        35\n",
      "           2       0.99      1.00      1.00    170056\n",
      "           3       0.00      0.00      0.00      1144\n",
      "           4       0.99      1.00      1.00    432922\n",
      "           5       0.87      0.51      0.64      2210\n",
      "           6       0.00      0.00      0.00         5\n",
      "           7       0.94      0.77      0.84      3760\n",
      "           8       0.85      0.72      0.78      2268\n",
      "           9       0.00      0.00      0.00        24\n",
      "          10       0.00      0.00      0.00       732\n",
      "\n",
      "    accuracy                           0.99    613162\n",
      "   macro avg       0.42      0.36      0.39    613162\n",
      "weighted avg       0.99      0.99      0.99    613162\n",
      "\n",
      "--------------------------------Decision_tree_classifier Model Evaluation--------------------------\n",
      "Accuracy :\n",
      " 0.9998336491824347\n",
      "\n",
      "\n",
      "Classification report:\n",
      "               precision    recall  f1-score   support\n",
      "\n",
      "           0       1.00      1.00      1.00         6\n",
      "           1       1.00      1.00      1.00        35\n",
      "           2       1.00      1.00      1.00    170056\n",
      "           3       0.94      0.98      0.96      1144\n",
      "           4       1.00      1.00      1.00    432922\n",
      "           5       0.99      0.97      0.98      2210\n",
      "           6       1.00      1.00      1.00         5\n",
      "           7       1.00      1.00      1.00      3760\n",
      "           8       1.00      1.00      1.00      2268\n",
      "           9       1.00      1.00      1.00        24\n",
      "          10       1.00      1.00      1.00       732\n",
      "\n",
      "    accuracy                           1.00    613162\n",
      "   macro avg       0.99      1.00      0.99    613162\n",
      "weighted avg       1.00      1.00      1.00    613162\n",
      "\n"
     ]
    }
   ],
   "source": [
    "\n",
    "for k,v in multi_class_models.items():\n",
    "  accuracy = metrics.accuracy_score(Y_M_train,v.predict(X_M_train))\n",
    "  #confusion_matrix = metrics.confusion_matrix(Y_M_train, v.predict(X_M_train))\n",
    "  classification = metrics.classification_report(Y_M_train, v.predict(X_M_train))\n",
    "  print('--------------------------------{} Model Evaluation--------------------------'.format(k))\n",
    "  print('Accuracy :' '\\n',accuracy) \n",
    "  print('\\n')\n",
    "  print('Classification report:' '\\n', classification)\n",
    "\n"
   ]
  },
  {
   "cell_type": "code",
   "execution_count": null,
   "metadata": {},
   "outputs": [],
   "source": []
  }
 ],
 "metadata": {
  "kernelspec": {
   "display_name": "Python 3",
   "language": "python",
   "name": "python3"
  },
  "language_info": {
   "codemirror_mode": {
    "name": "ipython",
    "version": 3
   },
   "file_extension": ".py",
   "mimetype": "text/x-python",
   "name": "python",
   "nbconvert_exporter": "python",
   "pygments_lexer": "ipython3",
   "version": "3.8.5"
  }
 },
 "nbformat": 4,
 "nbformat_minor": 4
}
